{
  "nbformat": 4,
  "nbformat_minor": 0,
  "metadata": {
    "colab": {
      "provenance": [],
      "gpuType": "T4"
    },
    "kernelspec": {
      "name": "python3",
      "display_name": "Python 3"
    },
    "language_info": {
      "name": "python"
    },
    "accelerator": "GPU"
  },
  "cells": [
    {
      "cell_type": "code",
      "execution_count": 1,
      "metadata": {
        "id": "2C1drzIPXhra",
        "colab": {
          "base_uri": "https://localhost:8080/"
        },
        "outputId": "4acb7083-2827-4335-bf1b-0c16fa4bab45"
      },
      "outputs": [
        {
          "output_type": "stream",
          "name": "stdout",
          "text": [
            "Sun Aug  3 11:55:59 2025       \n",
            "+-----------------------------------------------------------------------------------------+\n",
            "| NVIDIA-SMI 550.54.15              Driver Version: 550.54.15      CUDA Version: 12.4     |\n",
            "|-----------------------------------------+------------------------+----------------------+\n",
            "| GPU  Name                 Persistence-M | Bus-Id          Disp.A | Volatile Uncorr. ECC |\n",
            "| Fan  Temp   Perf          Pwr:Usage/Cap |           Memory-Usage | GPU-Util  Compute M. |\n",
            "|                                         |                        |               MIG M. |\n",
            "|=========================================+========================+======================|\n",
            "|   0  Tesla T4                       Off |   00000000:00:04.0 Off |                    0 |\n",
            "| N/A   56C    P8             10W /   70W |       0MiB /  15360MiB |      0%      Default |\n",
            "|                                         |                        |                  N/A |\n",
            "+-----------------------------------------+------------------------+----------------------+\n",
            "                                                                                         \n",
            "+-----------------------------------------------------------------------------------------+\n",
            "| Processes:                                                                              |\n",
            "|  GPU   GI   CI        PID   Type   Process name                              GPU Memory |\n",
            "|        ID   ID                                                               Usage      |\n",
            "|=========================================================================================|\n",
            "|  No running processes found                                                             |\n",
            "+-----------------------------------------------------------------------------------------+\n"
          ]
        }
      ],
      "source": [
        "!nvidia-smi"
      ]
    },
    {
      "cell_type": "code",
      "source": [
        "!pip install ultralytics"
      ],
      "metadata": {
        "colab": {
          "base_uri": "https://localhost:8080/"
        },
        "id": "ByKgwiaGYPUo",
        "outputId": "f18b4a03-49d5-4ff5-f9d6-8fcac33c01da"
      },
      "execution_count": 2,
      "outputs": [
        {
          "output_type": "stream",
          "name": "stdout",
          "text": [
            "Collecting ultralytics\n",
            "  Downloading ultralytics-8.3.173-py3-none-any.whl.metadata (37 kB)\n",
            "Requirement already satisfied: numpy>=1.23.0 in /usr/local/lib/python3.11/dist-packages (from ultralytics) (2.0.2)\n",
            "Requirement already satisfied: matplotlib>=3.3.0 in /usr/local/lib/python3.11/dist-packages (from ultralytics) (3.10.0)\n",
            "Requirement already satisfied: opencv-python>=4.6.0 in /usr/local/lib/python3.11/dist-packages (from ultralytics) (4.12.0.88)\n",
            "Requirement already satisfied: pillow>=7.1.2 in /usr/local/lib/python3.11/dist-packages (from ultralytics) (11.3.0)\n",
            "Requirement already satisfied: pyyaml>=5.3.1 in /usr/local/lib/python3.11/dist-packages (from ultralytics) (6.0.2)\n",
            "Requirement already satisfied: requests>=2.23.0 in /usr/local/lib/python3.11/dist-packages (from ultralytics) (2.32.3)\n",
            "Requirement already satisfied: scipy>=1.4.1 in /usr/local/lib/python3.11/dist-packages (from ultralytics) (1.16.0)\n",
            "Requirement already satisfied: torch>=1.8.0 in /usr/local/lib/python3.11/dist-packages (from ultralytics) (2.6.0+cu124)\n",
            "Requirement already satisfied: torchvision>=0.9.0 in /usr/local/lib/python3.11/dist-packages (from ultralytics) (0.21.0+cu124)\n",
            "Requirement already satisfied: tqdm>=4.64.0 in /usr/local/lib/python3.11/dist-packages (from ultralytics) (4.67.1)\n",
            "Requirement already satisfied: psutil in /usr/local/lib/python3.11/dist-packages (from ultralytics) (5.9.5)\n",
            "Requirement already satisfied: py-cpuinfo in /usr/local/lib/python3.11/dist-packages (from ultralytics) (9.0.0)\n",
            "Requirement already satisfied: pandas>=1.1.4 in /usr/local/lib/python3.11/dist-packages (from ultralytics) (2.2.2)\n",
            "Collecting ultralytics-thop>=2.0.0 (from ultralytics)\n",
            "  Downloading ultralytics_thop-2.0.14-py3-none-any.whl.metadata (9.4 kB)\n",
            "Requirement already satisfied: contourpy>=1.0.1 in /usr/local/lib/python3.11/dist-packages (from matplotlib>=3.3.0->ultralytics) (1.3.2)\n",
            "Requirement already satisfied: cycler>=0.10 in /usr/local/lib/python3.11/dist-packages (from matplotlib>=3.3.0->ultralytics) (0.12.1)\n",
            "Requirement already satisfied: fonttools>=4.22.0 in /usr/local/lib/python3.11/dist-packages (from matplotlib>=3.3.0->ultralytics) (4.59.0)\n",
            "Requirement already satisfied: kiwisolver>=1.3.1 in /usr/local/lib/python3.11/dist-packages (from matplotlib>=3.3.0->ultralytics) (1.4.8)\n",
            "Requirement already satisfied: packaging>=20.0 in /usr/local/lib/python3.11/dist-packages (from matplotlib>=3.3.0->ultralytics) (25.0)\n",
            "Requirement already satisfied: pyparsing>=2.3.1 in /usr/local/lib/python3.11/dist-packages (from matplotlib>=3.3.0->ultralytics) (3.2.3)\n",
            "Requirement already satisfied: python-dateutil>=2.7 in /usr/local/lib/python3.11/dist-packages (from matplotlib>=3.3.0->ultralytics) (2.9.0.post0)\n",
            "Requirement already satisfied: pytz>=2020.1 in /usr/local/lib/python3.11/dist-packages (from pandas>=1.1.4->ultralytics) (2025.2)\n",
            "Requirement already satisfied: tzdata>=2022.7 in /usr/local/lib/python3.11/dist-packages (from pandas>=1.1.4->ultralytics) (2025.2)\n",
            "Requirement already satisfied: charset-normalizer<4,>=2 in /usr/local/lib/python3.11/dist-packages (from requests>=2.23.0->ultralytics) (3.4.2)\n",
            "Requirement already satisfied: idna<4,>=2.5 in /usr/local/lib/python3.11/dist-packages (from requests>=2.23.0->ultralytics) (3.10)\n",
            "Requirement already satisfied: urllib3<3,>=1.21.1 in /usr/local/lib/python3.11/dist-packages (from requests>=2.23.0->ultralytics) (2.5.0)\n",
            "Requirement already satisfied: certifi>=2017.4.17 in /usr/local/lib/python3.11/dist-packages (from requests>=2.23.0->ultralytics) (2025.7.14)\n",
            "Requirement already satisfied: filelock in /usr/local/lib/python3.11/dist-packages (from torch>=1.8.0->ultralytics) (3.18.0)\n",
            "Requirement already satisfied: typing-extensions>=4.10.0 in /usr/local/lib/python3.11/dist-packages (from torch>=1.8.0->ultralytics) (4.14.1)\n",
            "Requirement already satisfied: networkx in /usr/local/lib/python3.11/dist-packages (from torch>=1.8.0->ultralytics) (3.5)\n",
            "Requirement already satisfied: jinja2 in /usr/local/lib/python3.11/dist-packages (from torch>=1.8.0->ultralytics) (3.1.6)\n",
            "Requirement already satisfied: fsspec in /usr/local/lib/python3.11/dist-packages (from torch>=1.8.0->ultralytics) (2025.3.0)\n",
            "Collecting nvidia-cuda-nvrtc-cu12==12.4.127 (from torch>=1.8.0->ultralytics)\n",
            "  Downloading nvidia_cuda_nvrtc_cu12-12.4.127-py3-none-manylinux2014_x86_64.whl.metadata (1.5 kB)\n",
            "Collecting nvidia-cuda-runtime-cu12==12.4.127 (from torch>=1.8.0->ultralytics)\n",
            "  Downloading nvidia_cuda_runtime_cu12-12.4.127-py3-none-manylinux2014_x86_64.whl.metadata (1.5 kB)\n",
            "Collecting nvidia-cuda-cupti-cu12==12.4.127 (from torch>=1.8.0->ultralytics)\n",
            "  Downloading nvidia_cuda_cupti_cu12-12.4.127-py3-none-manylinux2014_x86_64.whl.metadata (1.6 kB)\n",
            "Collecting nvidia-cudnn-cu12==9.1.0.70 (from torch>=1.8.0->ultralytics)\n",
            "  Downloading nvidia_cudnn_cu12-9.1.0.70-py3-none-manylinux2014_x86_64.whl.metadata (1.6 kB)\n",
            "Collecting nvidia-cublas-cu12==12.4.5.8 (from torch>=1.8.0->ultralytics)\n",
            "  Downloading nvidia_cublas_cu12-12.4.5.8-py3-none-manylinux2014_x86_64.whl.metadata (1.5 kB)\n",
            "Collecting nvidia-cufft-cu12==11.2.1.3 (from torch>=1.8.0->ultralytics)\n",
            "  Downloading nvidia_cufft_cu12-11.2.1.3-py3-none-manylinux2014_x86_64.whl.metadata (1.5 kB)\n",
            "Collecting nvidia-curand-cu12==10.3.5.147 (from torch>=1.8.0->ultralytics)\n",
            "  Downloading nvidia_curand_cu12-10.3.5.147-py3-none-manylinux2014_x86_64.whl.metadata (1.5 kB)\n",
            "Collecting nvidia-cusolver-cu12==11.6.1.9 (from torch>=1.8.0->ultralytics)\n",
            "  Downloading nvidia_cusolver_cu12-11.6.1.9-py3-none-manylinux2014_x86_64.whl.metadata (1.6 kB)\n",
            "Collecting nvidia-cusparse-cu12==12.3.1.170 (from torch>=1.8.0->ultralytics)\n",
            "  Downloading nvidia_cusparse_cu12-12.3.1.170-py3-none-manylinux2014_x86_64.whl.metadata (1.6 kB)\n",
            "Requirement already satisfied: nvidia-cusparselt-cu12==0.6.2 in /usr/local/lib/python3.11/dist-packages (from torch>=1.8.0->ultralytics) (0.6.2)\n",
            "Requirement already satisfied: nvidia-nccl-cu12==2.21.5 in /usr/local/lib/python3.11/dist-packages (from torch>=1.8.0->ultralytics) (2.21.5)\n",
            "Requirement already satisfied: nvidia-nvtx-cu12==12.4.127 in /usr/local/lib/python3.11/dist-packages (from torch>=1.8.0->ultralytics) (12.4.127)\n",
            "Collecting nvidia-nvjitlink-cu12==12.4.127 (from torch>=1.8.0->ultralytics)\n",
            "  Downloading nvidia_nvjitlink_cu12-12.4.127-py3-none-manylinux2014_x86_64.whl.metadata (1.5 kB)\n",
            "Requirement already satisfied: triton==3.2.0 in /usr/local/lib/python3.11/dist-packages (from torch>=1.8.0->ultralytics) (3.2.0)\n",
            "Requirement already satisfied: sympy==1.13.1 in /usr/local/lib/python3.11/dist-packages (from torch>=1.8.0->ultralytics) (1.13.1)\n",
            "Requirement already satisfied: mpmath<1.4,>=1.1.0 in /usr/local/lib/python3.11/dist-packages (from sympy==1.13.1->torch>=1.8.0->ultralytics) (1.3.0)\n",
            "Requirement already satisfied: six>=1.5 in /usr/local/lib/python3.11/dist-packages (from python-dateutil>=2.7->matplotlib>=3.3.0->ultralytics) (1.17.0)\n",
            "Requirement already satisfied: MarkupSafe>=2.0 in /usr/local/lib/python3.11/dist-packages (from jinja2->torch>=1.8.0->ultralytics) (3.0.2)\n",
            "Downloading ultralytics-8.3.173-py3-none-any.whl (1.0 MB)\n",
            "\u001b[2K   \u001b[90m━━━━━━━━━━━━━━━━━━━━━━━━━━━━━━━━━━━━━━━━\u001b[0m \u001b[32m1.0/1.0 MB\u001b[0m \u001b[31m26.2 MB/s\u001b[0m eta \u001b[36m0:00:00\u001b[0m\n",
            "\u001b[?25hDownloading nvidia_cublas_cu12-12.4.5.8-py3-none-manylinux2014_x86_64.whl (363.4 MB)\n",
            "\u001b[2K   \u001b[90m━━━━━━━━━━━━━━━━━━━━━━━━━━━━━━━━━━━━━━━━\u001b[0m \u001b[32m363.4/363.4 MB\u001b[0m \u001b[31m4.2 MB/s\u001b[0m eta \u001b[36m0:00:00\u001b[0m\n",
            "\u001b[?25hDownloading nvidia_cuda_cupti_cu12-12.4.127-py3-none-manylinux2014_x86_64.whl (13.8 MB)\n",
            "\u001b[2K   \u001b[90m━━━━━━━━━━━━━━━━━━━━━━━━━━━━━━━━━━━━━━━━\u001b[0m \u001b[32m13.8/13.8 MB\u001b[0m \u001b[31m90.0 MB/s\u001b[0m eta \u001b[36m0:00:00\u001b[0m\n",
            "\u001b[?25hDownloading nvidia_cuda_nvrtc_cu12-12.4.127-py3-none-manylinux2014_x86_64.whl (24.6 MB)\n",
            "\u001b[2K   \u001b[90m━━━━━━━━━━━━━━━━━━━━━━━━━━━━━━━━━━━━━━━━\u001b[0m \u001b[32m24.6/24.6 MB\u001b[0m \u001b[31m73.5 MB/s\u001b[0m eta \u001b[36m0:00:00\u001b[0m\n",
            "\u001b[?25hDownloading nvidia_cuda_runtime_cu12-12.4.127-py3-none-manylinux2014_x86_64.whl (883 kB)\n",
            "\u001b[2K   \u001b[90m━━━━━━━━━━━━━━━━━━━━━━━━━━━━━━━━━━━━━━━━\u001b[0m \u001b[32m883.7/883.7 kB\u001b[0m \u001b[31m50.8 MB/s\u001b[0m eta \u001b[36m0:00:00\u001b[0m\n",
            "\u001b[?25hDownloading nvidia_cudnn_cu12-9.1.0.70-py3-none-manylinux2014_x86_64.whl (664.8 MB)\n",
            "\u001b[2K   \u001b[90m━━━━━━━━━━━━━━━━━━━━━━━━━━━━━━━━━━━━━━━━\u001b[0m \u001b[32m664.8/664.8 MB\u001b[0m \u001b[31m2.4 MB/s\u001b[0m eta \u001b[36m0:00:00\u001b[0m\n",
            "\u001b[?25hDownloading nvidia_cufft_cu12-11.2.1.3-py3-none-manylinux2014_x86_64.whl (211.5 MB)\n",
            "\u001b[2K   \u001b[90m━━━━━━━━━━━━━━━━━━━━━━━━━━━━━━━━━━━━━━━━\u001b[0m \u001b[32m211.5/211.5 MB\u001b[0m \u001b[31m5.0 MB/s\u001b[0m eta \u001b[36m0:00:00\u001b[0m\n",
            "\u001b[?25hDownloading nvidia_curand_cu12-10.3.5.147-py3-none-manylinux2014_x86_64.whl (56.3 MB)\n",
            "\u001b[2K   \u001b[90m━━━━━━━━━━━━━━━━━━━━━━━━━━━━━━━━━━━━━━━━\u001b[0m \u001b[32m56.3/56.3 MB\u001b[0m \u001b[31m11.6 MB/s\u001b[0m eta \u001b[36m0:00:00\u001b[0m\n",
            "\u001b[?25hDownloading nvidia_cusolver_cu12-11.6.1.9-py3-none-manylinux2014_x86_64.whl (127.9 MB)\n",
            "\u001b[2K   \u001b[90m━━━━━━━━━━━━━━━━━━━━━━━━━━━━━━━━━━━━━━━━\u001b[0m \u001b[32m127.9/127.9 MB\u001b[0m \u001b[31m8.4 MB/s\u001b[0m eta \u001b[36m0:00:00\u001b[0m\n",
            "\u001b[?25hDownloading nvidia_cusparse_cu12-12.3.1.170-py3-none-manylinux2014_x86_64.whl (207.5 MB)\n",
            "\u001b[2K   \u001b[90m━━━━━━━━━━━━━━━━━━━━━━━━━━━━━━━━━━━━━━━━\u001b[0m \u001b[32m207.5/207.5 MB\u001b[0m \u001b[31m6.1 MB/s\u001b[0m eta \u001b[36m0:00:00\u001b[0m\n",
            "\u001b[?25hDownloading nvidia_nvjitlink_cu12-12.4.127-py3-none-manylinux2014_x86_64.whl (21.1 MB)\n",
            "\u001b[2K   \u001b[90m━━━━━━━━━━━━━━━━━━━━━━━━━━━━━━━━━━━━━━━━\u001b[0m \u001b[32m21.1/21.1 MB\u001b[0m \u001b[31m41.7 MB/s\u001b[0m eta \u001b[36m0:00:00\u001b[0m\n",
            "\u001b[?25hDownloading ultralytics_thop-2.0.14-py3-none-any.whl (26 kB)\n",
            "Installing collected packages: nvidia-nvjitlink-cu12, nvidia-curand-cu12, nvidia-cufft-cu12, nvidia-cuda-runtime-cu12, nvidia-cuda-nvrtc-cu12, nvidia-cuda-cupti-cu12, nvidia-cublas-cu12, nvidia-cusparse-cu12, nvidia-cudnn-cu12, nvidia-cusolver-cu12, ultralytics-thop, ultralytics\n",
            "  Attempting uninstall: nvidia-nvjitlink-cu12\n",
            "    Found existing installation: nvidia-nvjitlink-cu12 12.5.82\n",
            "    Uninstalling nvidia-nvjitlink-cu12-12.5.82:\n",
            "      Successfully uninstalled nvidia-nvjitlink-cu12-12.5.82\n",
            "  Attempting uninstall: nvidia-curand-cu12\n",
            "    Found existing installation: nvidia-curand-cu12 10.3.6.82\n",
            "    Uninstalling nvidia-curand-cu12-10.3.6.82:\n",
            "      Successfully uninstalled nvidia-curand-cu12-10.3.6.82\n",
            "  Attempting uninstall: nvidia-cufft-cu12\n",
            "    Found existing installation: nvidia-cufft-cu12 11.2.3.61\n",
            "    Uninstalling nvidia-cufft-cu12-11.2.3.61:\n",
            "      Successfully uninstalled nvidia-cufft-cu12-11.2.3.61\n",
            "  Attempting uninstall: nvidia-cuda-runtime-cu12\n",
            "    Found existing installation: nvidia-cuda-runtime-cu12 12.5.82\n",
            "    Uninstalling nvidia-cuda-runtime-cu12-12.5.82:\n",
            "      Successfully uninstalled nvidia-cuda-runtime-cu12-12.5.82\n",
            "  Attempting uninstall: nvidia-cuda-nvrtc-cu12\n",
            "    Found existing installation: nvidia-cuda-nvrtc-cu12 12.5.82\n",
            "    Uninstalling nvidia-cuda-nvrtc-cu12-12.5.82:\n",
            "      Successfully uninstalled nvidia-cuda-nvrtc-cu12-12.5.82\n",
            "  Attempting uninstall: nvidia-cuda-cupti-cu12\n",
            "    Found existing installation: nvidia-cuda-cupti-cu12 12.5.82\n",
            "    Uninstalling nvidia-cuda-cupti-cu12-12.5.82:\n",
            "      Successfully uninstalled nvidia-cuda-cupti-cu12-12.5.82\n",
            "  Attempting uninstall: nvidia-cublas-cu12\n",
            "    Found existing installation: nvidia-cublas-cu12 12.5.3.2\n",
            "    Uninstalling nvidia-cublas-cu12-12.5.3.2:\n",
            "      Successfully uninstalled nvidia-cublas-cu12-12.5.3.2\n",
            "  Attempting uninstall: nvidia-cusparse-cu12\n",
            "    Found existing installation: nvidia-cusparse-cu12 12.5.1.3\n",
            "    Uninstalling nvidia-cusparse-cu12-12.5.1.3:\n",
            "      Successfully uninstalled nvidia-cusparse-cu12-12.5.1.3\n",
            "  Attempting uninstall: nvidia-cudnn-cu12\n",
            "    Found existing installation: nvidia-cudnn-cu12 9.3.0.75\n",
            "    Uninstalling nvidia-cudnn-cu12-9.3.0.75:\n",
            "      Successfully uninstalled nvidia-cudnn-cu12-9.3.0.75\n",
            "  Attempting uninstall: nvidia-cusolver-cu12\n",
            "    Found existing installation: nvidia-cusolver-cu12 11.6.3.83\n",
            "    Uninstalling nvidia-cusolver-cu12-11.6.3.83:\n",
            "      Successfully uninstalled nvidia-cusolver-cu12-11.6.3.83\n",
            "Successfully installed nvidia-cublas-cu12-12.4.5.8 nvidia-cuda-cupti-cu12-12.4.127 nvidia-cuda-nvrtc-cu12-12.4.127 nvidia-cuda-runtime-cu12-12.4.127 nvidia-cudnn-cu12-9.1.0.70 nvidia-cufft-cu12-11.2.1.3 nvidia-curand-cu12-10.3.5.147 nvidia-cusolver-cu12-11.6.1.9 nvidia-cusparse-cu12-12.3.1.170 nvidia-nvjitlink-cu12-12.4.127 ultralytics-8.3.173 ultralytics-thop-2.0.14\n"
          ]
        }
      ]
    },
    {
      "cell_type": "code",
      "source": [
        "import zipfile, os, shutil\n",
        "from sklearn.model_selection import train_test_split\n",
        "\n",
        "# Define paths\n",
        "zip_path = '/content/data.zip.zip'  # Colab-style path\n",
        "extract_path = '/content/weapons-dataset'\n",
        "images_path = os.path.join(extract_path, 'images')\n",
        "labels_path = os.path.join(extract_path, 'labels')\n",
        "\n",
        "# Unzip the dataset\n",
        "with zipfile.ZipFile(zip_path, 'r') as zip_ref:\n",
        "    zip_ref.extractall(extract_path)\n",
        "\n",
        "# Gather all images and corresponding labels\n",
        "image_files = [f for f in os.listdir(images_path) if f.endswith(('.jpg', '.png'))]\n",
        "label_files = [f.replace('.jpg', '.txt').replace('.png', '.txt') for f in image_files]\n",
        "\n",
        "# Split into train, val, test (70%, 20%, 10%)\n",
        "train_imgs, test_imgs = train_test_split(image_files, test_size=0.3, random_state=42)\n",
        "val_imgs, test_imgs = train_test_split(test_imgs, test_size=1/3, random_state=42)  # 0.2 val, 0.1 test\n",
        "\n",
        "# Helper function to copy files\n",
        "def copy_files(img_list, dest_img_dir, dest_label_dir):\n",
        "    os.makedirs(dest_img_dir, exist_ok=True)\n",
        "    os.makedirs(dest_label_dir, exist_ok=True)\n",
        "    for img_name in img_list:\n",
        "        label_name = img_name.replace('.jpg', '.txt').replace('.png', '.txt')\n",
        "        shutil.copy(os.path.join(images_path, img_name), dest_img_dir)\n",
        "        shutil.copy(os.path.join(labels_path, label_name), dest_label_dir)\n",
        "\n",
        "# Organize directories\n",
        "base = '/content/yolo_gun_dataset'\n",
        "copy_files(train_imgs, f'{base}/train/images', f'{base}/train/labels')\n",
        "copy_files(val_imgs, f'{base}/val/images', f'{base}/val/labels')\n",
        "copy_files(test_imgs, f'{base}/test/images', f'{base}/test/labels')\n"
      ],
      "metadata": {
        "id": "kJDLJHW-Yg06"
      },
      "execution_count": 3,
      "outputs": []
    },
    {
      "cell_type": "code",
      "source": [
        "yaml_content = \"\"\"\n",
        "path: /content/yolo_gun_dataset\n",
        "train: train/images\n",
        "val: val/images\n",
        "test: test/images\n",
        "\n",
        "names:\n",
        "  0: gun\n",
        "\"\"\"\n",
        "\n",
        "with open('/content/gun_data.yaml', 'w') as f:\n",
        "    f.write(yaml_content)\n"
      ],
      "metadata": {
        "id": "ejzSEIlKY-bL"
      },
      "execution_count": 4,
      "outputs": []
    },
    {
      "cell_type": "code",
      "source": [
        "from ultralytics import YOLO\n",
        "\n",
        "# Load a YOLOv8 model (or use a custom one)\n",
        "model = YOLO('yolov8n.pt')  # or yolov8s.pt, yolov8m.pt depending on your setup\n",
        "\n",
        "# Train the model\n",
        "model.train(data='/content/gun_data.yaml', epochs=50, imgsz=640, batch=16)\n"
      ],
      "metadata": {
        "colab": {
          "base_uri": "https://localhost:8080/"
        },
        "id": "w-zL6hr-ZTxU",
        "outputId": "8c4d6a71-454f-4d90-80d3-4161d3aa5b3f"
      },
      "execution_count": 5,
      "outputs": [
        {
          "output_type": "stream",
          "name": "stdout",
          "text": [
            "Creating new Ultralytics Settings v0.0.6 file ✅ \n",
            "View Ultralytics Settings with 'yolo settings' or at '/root/.config/Ultralytics/settings.json'\n",
            "Update Settings with 'yolo settings key=value', i.e. 'yolo settings runs_dir=path/to/dir'. For help see https://docs.ultralytics.com/quickstart/#ultralytics-settings.\n"
          ]
        },
        {
          "output_type": "stream",
          "name": "stderr",
          "text": [
            "Downloading https://github.com/ultralytics/assets/releases/download/v8.3.0/yolov8n.pt to 'yolov8n.pt': 100%|██████████| 6.25M/6.25M [00:00<00:00, 89.3MB/s]\n"
          ]
        },
        {
          "output_type": "stream",
          "name": "stdout",
          "text": [
            "Ultralytics 8.3.173 🚀 Python-3.11.13 torch-2.6.0+cu124 CUDA:0 (Tesla T4, 15095MiB)\n",
            "\u001b[34m\u001b[1mengine/trainer: \u001b[0magnostic_nms=False, amp=True, augment=False, auto_augment=randaugment, batch=16, bgr=0.0, box=7.5, cache=False, cfg=None, classes=None, close_mosaic=10, cls=0.5, conf=None, copy_paste=0.0, copy_paste_mode=flip, cos_lr=False, cutmix=0.0, data=/content/gun_data.yaml, degrees=0.0, deterministic=True, device=None, dfl=1.5, dnn=False, dropout=0.0, dynamic=False, embed=None, epochs=50, erasing=0.4, exist_ok=False, fliplr=0.5, flipud=0.0, format=torchscript, fraction=1.0, freeze=None, half=False, hsv_h=0.015, hsv_s=0.7, hsv_v=0.4, imgsz=640, int8=False, iou=0.7, keras=False, kobj=1.0, line_width=None, lr0=0.01, lrf=0.01, mask_ratio=4, max_det=300, mixup=0.0, mode=train, model=yolov8n.pt, momentum=0.937, mosaic=1.0, multi_scale=False, name=train, nbs=64, nms=False, opset=None, optimize=False, optimizer=auto, overlap_mask=True, patience=100, perspective=0.0, plots=True, pose=12.0, pretrained=True, profile=False, project=None, rect=False, resume=False, retina_masks=False, save=True, save_conf=False, save_crop=False, save_dir=runs/detect/train, save_frames=False, save_json=False, save_period=-1, save_txt=False, scale=0.5, seed=0, shear=0.0, show=False, show_boxes=True, show_conf=True, show_labels=True, simplify=True, single_cls=False, source=None, split=val, stream_buffer=False, task=detect, time=None, tracker=botsort.yaml, translate=0.1, val=True, verbose=True, vid_stride=1, visualize=False, warmup_bias_lr=0.1, warmup_epochs=3.0, warmup_momentum=0.8, weight_decay=0.0005, workers=8, workspace=None\n"
          ]
        },
        {
          "output_type": "stream",
          "name": "stderr",
          "text": [
            "Downloading https://ultralytics.com/assets/Arial.ttf to '/root/.config/Ultralytics/Arial.ttf': 100%|██████████| 755k/755k [00:00<00:00, 19.6MB/s]"
          ]
        },
        {
          "output_type": "stream",
          "name": "stdout",
          "text": [
            "Overriding model.yaml nc=80 with nc=1\n",
            "\n",
            "                   from  n    params  module                                       arguments                     \n",
            "  0                  -1  1       464  ultralytics.nn.modules.conv.Conv             [3, 16, 3, 2]                 \n",
            "  1                  -1  1      4672  ultralytics.nn.modules.conv.Conv             [16, 32, 3, 2]                \n",
            "  2                  -1  1      7360  ultralytics.nn.modules.block.C2f             [32, 32, 1, True]             \n",
            "  3                  -1  1     18560  ultralytics.nn.modules.conv.Conv             [32, 64, 3, 2]                \n",
            "  4                  -1  2     49664  ultralytics.nn.modules.block.C2f             [64, 64, 2, True]             \n",
            "  5                  -1  1     73984  ultralytics.nn.modules.conv.Conv             [64, 128, 3, 2]               \n",
            "  6                  -1  2    197632  ultralytics.nn.modules.block.C2f             [128, 128, 2, True]           \n",
            "  7                  -1  1    295424  ultralytics.nn.modules.conv.Conv             [128, 256, 3, 2]              \n",
            "  8                  -1  1    460288  ultralytics.nn.modules.block.C2f             [256, 256, 1, True]           \n",
            "  9                  -1  1    164608  ultralytics.nn.modules.block.SPPF            [256, 256, 5]                 \n",
            " 10                  -1  1         0  torch.nn.modules.upsampling.Upsample         [None, 2, 'nearest']          \n",
            " 11             [-1, 6]  1         0  ultralytics.nn.modules.conv.Concat           [1]                           \n",
            " 12                  -1  1    148224  ultralytics.nn.modules.block.C2f             [384, 128, 1]                 \n",
            " 13                  -1  1         0  torch.nn.modules.upsampling.Upsample         [None, 2, 'nearest']          \n",
            " 14             [-1, 4]  1         0  ultralytics.nn.modules.conv.Concat           [1]                           \n",
            " 15                  -1  1     37248  ultralytics.nn.modules.block.C2f             [192, 64, 1]                  \n",
            " 16                  -1  1     36992  ultralytics.nn.modules.conv.Conv             [64, 64, 3, 2]                \n",
            " 17            [-1, 12]  1         0  ultralytics.nn.modules.conv.Concat           [1]                           \n",
            " 18                  -1  1    123648  ultralytics.nn.modules.block.C2f             [192, 128, 1]                 \n",
            " 19                  -1  1    147712  ultralytics.nn.modules.conv.Conv             [128, 128, 3, 2]              \n",
            " 20             [-1, 9]  1         0  ultralytics.nn.modules.conv.Concat           [1]                           \n",
            " 21                  -1  1    493056  ultralytics.nn.modules.block.C2f             [384, 256, 1]                 \n",
            " 22        [15, 18, 21]  1    751507  ultralytics.nn.modules.head.Detect           [1, [64, 128, 256]]           \n"
          ]
        },
        {
          "output_type": "stream",
          "name": "stderr",
          "text": [
            "\n"
          ]
        },
        {
          "output_type": "stream",
          "name": "stdout",
          "text": [
            "Model summary: 129 layers, 3,011,043 parameters, 3,011,027 gradients, 8.2 GFLOPs\n",
            "\n",
            "Transferred 319/355 items from pretrained weights\n",
            "Freezing layer 'model.22.dfl.conv.weight'\n",
            "\u001b[34m\u001b[1mAMP: \u001b[0mrunning Automatic Mixed Precision (AMP) checks...\n"
          ]
        },
        {
          "output_type": "stream",
          "name": "stderr",
          "text": [
            "Downloading https://github.com/ultralytics/assets/releases/download/v8.3.0/yolo11n.pt to 'yolo11n.pt': 100%|██████████| 5.35M/5.35M [00:00<00:00, 80.5MB/s]\n"
          ]
        },
        {
          "output_type": "stream",
          "name": "stdout",
          "text": [
            "\u001b[34m\u001b[1mAMP: \u001b[0mchecks passed ✅\n",
            "\u001b[34m\u001b[1mtrain: \u001b[0mFast image access ✅ (ping: 0.0±0.0 ms, read: 1399.7±914.4 MB/s, size: 50.2 KB)\n"
          ]
        },
        {
          "output_type": "stream",
          "name": "stderr",
          "text": [
            "\u001b[34m\u001b[1mtrain: \u001b[0mScanning /content/yolo_gun_dataset/train/labels... 368 images, 0 backgrounds, 0 corrupt: 100%|██████████| 368/368 [00:00<00:00, 2339.51it/s]"
          ]
        },
        {
          "output_type": "stream",
          "name": "stdout",
          "text": [
            "\u001b[34m\u001b[1mtrain: \u001b[0mNew cache created: /content/yolo_gun_dataset/train/labels.cache\n"
          ]
        },
        {
          "output_type": "stream",
          "name": "stderr",
          "text": [
            "\n"
          ]
        },
        {
          "output_type": "stream",
          "name": "stdout",
          "text": [
            "\u001b[34m\u001b[1malbumentations: \u001b[0mBlur(p=0.01, blur_limit=(3, 7)), MedianBlur(p=0.01, blur_limit=(3, 7)), ToGray(p=0.01, method='weighted_average', num_output_channels=3), CLAHE(p=0.01, clip_limit=(1.0, 4.0), tile_grid_size=(8, 8))\n",
            "\u001b[34m\u001b[1mval: \u001b[0mFast image access ✅ (ping: 0.0±0.0 ms, read: 363.7±98.5 MB/s, size: 42.3 KB)\n"
          ]
        },
        {
          "output_type": "stream",
          "name": "stderr",
          "text": [
            "\u001b[34m\u001b[1mval: \u001b[0mScanning /content/yolo_gun_dataset/val/labels... 105 images, 0 backgrounds, 0 corrupt: 100%|██████████| 105/105 [00:00<00:00, 1880.67it/s]"
          ]
        },
        {
          "output_type": "stream",
          "name": "stdout",
          "text": [
            "\u001b[34m\u001b[1mval: \u001b[0mNew cache created: /content/yolo_gun_dataset/val/labels.cache\n"
          ]
        },
        {
          "output_type": "stream",
          "name": "stderr",
          "text": [
            "\n"
          ]
        },
        {
          "output_type": "stream",
          "name": "stdout",
          "text": [
            "Plotting labels to runs/detect/train/labels.jpg... \n",
            "\u001b[34m\u001b[1moptimizer:\u001b[0m 'optimizer=auto' found, ignoring 'lr0=0.01' and 'momentum=0.937' and determining best 'optimizer', 'lr0' and 'momentum' automatically... \n",
            "\u001b[34m\u001b[1moptimizer:\u001b[0m AdamW(lr=0.002, momentum=0.9) with parameter groups 57 weight(decay=0.0), 64 weight(decay=0.0005), 63 bias(decay=0.0)\n",
            "Image sizes 640 train, 640 val\n",
            "Using 2 dataloader workers\n",
            "Logging results to \u001b[1mruns/detect/train\u001b[0m\n",
            "Starting training for 50 epochs...\n",
            "\n",
            "      Epoch    GPU_mem   box_loss   cls_loss   dfl_loss  Instances       Size\n"
          ]
        },
        {
          "output_type": "stream",
          "name": "stderr",
          "text": [
            "       1/50      2.02G      1.811      3.106      1.851         45        640: 100%|██████████| 23/23 [00:07<00:00,  3.16it/s]\n",
            "                 Class     Images  Instances      Box(P          R      mAP50  mAP50-95): 100%|██████████| 4/4 [00:02<00:00,  1.95it/s]"
          ]
        },
        {
          "output_type": "stream",
          "name": "stdout",
          "text": [
            "                   all        105        136      0.004      0.926      0.379      0.155\n"
          ]
        },
        {
          "output_type": "stream",
          "name": "stderr",
          "text": [
            "\n"
          ]
        },
        {
          "output_type": "stream",
          "name": "stdout",
          "text": [
            "\n",
            "      Epoch    GPU_mem   box_loss   cls_loss   dfl_loss  Instances       Size\n"
          ]
        },
        {
          "output_type": "stream",
          "name": "stderr",
          "text": [
            "       2/50       2.5G      1.644      2.373      1.665         41        640: 100%|██████████| 23/23 [00:06<00:00,  3.53it/s]\n",
            "                 Class     Images  Instances      Box(P          R      mAP50  mAP50-95): 100%|██████████| 4/4 [00:01<00:00,  3.25it/s]"
          ]
        },
        {
          "output_type": "stream",
          "name": "stdout",
          "text": [
            "                   all        105        136      0.681       0.36      0.479      0.204\n"
          ]
        },
        {
          "output_type": "stream",
          "name": "stderr",
          "text": [
            "\n"
          ]
        },
        {
          "output_type": "stream",
          "name": "stdout",
          "text": [
            "\n",
            "      Epoch    GPU_mem   box_loss   cls_loss   dfl_loss  Instances       Size\n"
          ]
        },
        {
          "output_type": "stream",
          "name": "stderr",
          "text": [
            "       3/50      2.52G      1.584      2.064       1.61         38        640: 100%|██████████| 23/23 [00:05<00:00,  4.08it/s]\n",
            "                 Class     Images  Instances      Box(P          R      mAP50  mAP50-95): 100%|██████████| 4/4 [00:02<00:00,  1.51it/s]"
          ]
        },
        {
          "output_type": "stream",
          "name": "stdout",
          "text": [
            "                   all        105        136       0.52      0.485      0.466      0.176\n"
          ]
        },
        {
          "output_type": "stream",
          "name": "stderr",
          "text": [
            "\n"
          ]
        },
        {
          "output_type": "stream",
          "name": "stdout",
          "text": [
            "\n",
            "      Epoch    GPU_mem   box_loss   cls_loss   dfl_loss  Instances       Size\n"
          ]
        },
        {
          "output_type": "stream",
          "name": "stderr",
          "text": [
            "       4/50      2.54G      1.698      2.118      1.699         35        640: 100%|██████████| 23/23 [00:06<00:00,  3.80it/s]\n",
            "                 Class     Images  Instances      Box(P          R      mAP50  mAP50-95): 100%|██████████| 4/4 [00:01<00:00,  3.70it/s]"
          ]
        },
        {
          "output_type": "stream",
          "name": "stdout",
          "text": [
            "                   all        105        136      0.618      0.353      0.409      0.154\n"
          ]
        },
        {
          "output_type": "stream",
          "name": "stderr",
          "text": [
            "\n"
          ]
        },
        {
          "output_type": "stream",
          "name": "stdout",
          "text": [
            "\n",
            "      Epoch    GPU_mem   box_loss   cls_loss   dfl_loss  Instances       Size\n"
          ]
        },
        {
          "output_type": "stream",
          "name": "stderr",
          "text": [
            "       5/50      2.55G      1.665      1.997      1.658         33        640: 100%|██████████| 23/23 [00:06<00:00,  3.61it/s]\n",
            "                 Class     Images  Instances      Box(P          R      mAP50  mAP50-95): 100%|██████████| 4/4 [00:01<00:00,  3.75it/s]"
          ]
        },
        {
          "output_type": "stream",
          "name": "stdout",
          "text": [
            "                   all        105        136      0.184      0.294      0.146     0.0497\n"
          ]
        },
        {
          "output_type": "stream",
          "name": "stderr",
          "text": [
            "\n"
          ]
        },
        {
          "output_type": "stream",
          "name": "stdout",
          "text": [
            "\n",
            "      Epoch    GPU_mem   box_loss   cls_loss   dfl_loss  Instances       Size\n"
          ]
        },
        {
          "output_type": "stream",
          "name": "stderr",
          "text": [
            "       6/50      2.57G      1.694      1.943      1.656         37        640: 100%|██████████| 23/23 [00:05<00:00,  4.38it/s]\n",
            "                 Class     Images  Instances      Box(P          R      mAP50  mAP50-95): 100%|██████████| 4/4 [00:01<00:00,  3.47it/s]"
          ]
        },
        {
          "output_type": "stream",
          "name": "stdout",
          "text": [
            "                   all        105        136      0.486      0.441      0.451      0.199\n"
          ]
        },
        {
          "output_type": "stream",
          "name": "stderr",
          "text": [
            "\n"
          ]
        },
        {
          "output_type": "stream",
          "name": "stdout",
          "text": [
            "\n",
            "      Epoch    GPU_mem   box_loss   cls_loss   dfl_loss  Instances       Size\n"
          ]
        },
        {
          "output_type": "stream",
          "name": "stderr",
          "text": [
            "       7/50      2.59G      1.668      1.858       1.65         42        640: 100%|██████████| 23/23 [00:06<00:00,  3.55it/s]\n",
            "                 Class     Images  Instances      Box(P          R      mAP50  mAP50-95): 100%|██████████| 4/4 [00:01<00:00,  3.66it/s]"
          ]
        },
        {
          "output_type": "stream",
          "name": "stdout",
          "text": [
            "                   all        105        136      0.655      0.515      0.557      0.228\n"
          ]
        },
        {
          "output_type": "stream",
          "name": "stderr",
          "text": [
            "\n"
          ]
        },
        {
          "output_type": "stream",
          "name": "stdout",
          "text": [
            "\n",
            "      Epoch    GPU_mem   box_loss   cls_loss   dfl_loss  Instances       Size\n"
          ]
        },
        {
          "output_type": "stream",
          "name": "stderr",
          "text": [
            "       8/50       2.6G      1.608      1.708      1.649         34        640: 100%|██████████| 23/23 [00:05<00:00,  4.26it/s]\n",
            "                 Class     Images  Instances      Box(P          R      mAP50  mAP50-95): 100%|██████████| 4/4 [00:01<00:00,  3.91it/s]"
          ]
        },
        {
          "output_type": "stream",
          "name": "stdout",
          "text": [
            "                   all        105        136      0.545      0.507      0.481      0.215\n"
          ]
        },
        {
          "output_type": "stream",
          "name": "stderr",
          "text": [
            "\n"
          ]
        },
        {
          "output_type": "stream",
          "name": "stdout",
          "text": [
            "\n",
            "      Epoch    GPU_mem   box_loss   cls_loss   dfl_loss  Instances       Size\n"
          ]
        },
        {
          "output_type": "stream",
          "name": "stderr",
          "text": [
            "       9/50      2.62G      1.636       1.72      1.641         42        640: 100%|██████████| 23/23 [00:06<00:00,  3.66it/s]\n",
            "                 Class     Images  Instances      Box(P          R      mAP50  mAP50-95): 100%|██████████| 4/4 [00:01<00:00,  3.38it/s]"
          ]
        },
        {
          "output_type": "stream",
          "name": "stdout",
          "text": [
            "                   all        105        136      0.683      0.515      0.604       0.27\n"
          ]
        },
        {
          "output_type": "stream",
          "name": "stderr",
          "text": [
            "\n"
          ]
        },
        {
          "output_type": "stream",
          "name": "stdout",
          "text": [
            "\n",
            "      Epoch    GPU_mem   box_loss   cls_loss   dfl_loss  Instances       Size\n"
          ]
        },
        {
          "output_type": "stream",
          "name": "stderr",
          "text": [
            "      10/50      2.64G      1.623      1.641      1.621         48        640: 100%|██████████| 23/23 [00:05<00:00,  4.32it/s]\n",
            "                 Class     Images  Instances      Box(P          R      mAP50  mAP50-95): 100%|██████████| 4/4 [00:01<00:00,  2.30it/s]\n"
          ]
        },
        {
          "output_type": "stream",
          "name": "stdout",
          "text": [
            "                   all        105        136      0.594      0.529      0.519       0.24\n",
            "\n",
            "      Epoch    GPU_mem   box_loss   cls_loss   dfl_loss  Instances       Size\n"
          ]
        },
        {
          "output_type": "stream",
          "name": "stderr",
          "text": [
            "      11/50      2.65G      1.576      1.567      1.572         32        640: 100%|██████████| 23/23 [00:05<00:00,  4.13it/s]\n",
            "                 Class     Images  Instances      Box(P          R      mAP50  mAP50-95): 100%|██████████| 4/4 [00:01<00:00,  3.84it/s]"
          ]
        },
        {
          "output_type": "stream",
          "name": "stdout",
          "text": [
            "                   all        105        136      0.821      0.625      0.697      0.355\n"
          ]
        },
        {
          "output_type": "stream",
          "name": "stderr",
          "text": [
            "\n"
          ]
        },
        {
          "output_type": "stream",
          "name": "stdout",
          "text": [
            "\n",
            "      Epoch    GPU_mem   box_loss   cls_loss   dfl_loss  Instances       Size\n"
          ]
        },
        {
          "output_type": "stream",
          "name": "stderr",
          "text": [
            "      12/50      2.67G      1.623      1.565      1.631         25        640: 100%|██████████| 23/23 [00:06<00:00,  3.62it/s]\n",
            "                 Class     Images  Instances      Box(P          R      mAP50  mAP50-95): 100%|██████████| 4/4 [00:01<00:00,  3.08it/s]"
          ]
        },
        {
          "output_type": "stream",
          "name": "stdout",
          "text": [
            "                   all        105        136      0.788      0.628      0.686      0.334\n"
          ]
        },
        {
          "output_type": "stream",
          "name": "stderr",
          "text": [
            "\n"
          ]
        },
        {
          "output_type": "stream",
          "name": "stdout",
          "text": [
            "\n",
            "      Epoch    GPU_mem   box_loss   cls_loss   dfl_loss  Instances       Size\n"
          ]
        },
        {
          "output_type": "stream",
          "name": "stderr",
          "text": [
            "      13/50      2.69G      1.585      1.531      1.589         48        640: 100%|██████████| 23/23 [00:06<00:00,  3.49it/s]\n",
            "                 Class     Images  Instances      Box(P          R      mAP50  mAP50-95): 100%|██████████| 4/4 [00:01<00:00,  3.83it/s]"
          ]
        },
        {
          "output_type": "stream",
          "name": "stdout",
          "text": [
            "                   all        105        136       0.65      0.721      0.686      0.338\n"
          ]
        },
        {
          "output_type": "stream",
          "name": "stderr",
          "text": [
            "\n"
          ]
        },
        {
          "output_type": "stream",
          "name": "stdout",
          "text": [
            "\n",
            "      Epoch    GPU_mem   box_loss   cls_loss   dfl_loss  Instances       Size\n"
          ]
        },
        {
          "output_type": "stream",
          "name": "stderr",
          "text": [
            "      14/50      2.71G      1.553      1.413      1.568         39        640: 100%|██████████| 23/23 [00:06<00:00,  3.66it/s]\n",
            "                 Class     Images  Instances      Box(P          R      mAP50  mAP50-95): 100%|██████████| 4/4 [00:01<00:00,  3.60it/s]"
          ]
        },
        {
          "output_type": "stream",
          "name": "stdout",
          "text": [
            "                   all        105        136      0.823      0.735      0.779      0.368\n"
          ]
        },
        {
          "output_type": "stream",
          "name": "stderr",
          "text": [
            "\n"
          ]
        },
        {
          "output_type": "stream",
          "name": "stdout",
          "text": [
            "\n",
            "      Epoch    GPU_mem   box_loss   cls_loss   dfl_loss  Instances       Size\n"
          ]
        },
        {
          "output_type": "stream",
          "name": "stderr",
          "text": [
            "      15/50      2.72G      1.564      1.463      1.582         32        640: 100%|██████████| 23/23 [00:05<00:00,  4.41it/s]\n",
            "                 Class     Images  Instances      Box(P          R      mAP50  mAP50-95): 100%|██████████| 4/4 [00:01<00:00,  3.18it/s]"
          ]
        },
        {
          "output_type": "stream",
          "name": "stdout",
          "text": [
            "                   all        105        136       0.75       0.61      0.662      0.312\n"
          ]
        },
        {
          "output_type": "stream",
          "name": "stderr",
          "text": [
            "\n"
          ]
        },
        {
          "output_type": "stream",
          "name": "stdout",
          "text": [
            "\n",
            "      Epoch    GPU_mem   box_loss   cls_loss   dfl_loss  Instances       Size\n"
          ]
        },
        {
          "output_type": "stream",
          "name": "stderr",
          "text": [
            "      16/50      2.74G      1.605      1.491      1.591         34        640: 100%|██████████| 23/23 [00:06<00:00,  3.69it/s]\n",
            "                 Class     Images  Instances      Box(P          R      mAP50  mAP50-95): 100%|██████████| 4/4 [00:01<00:00,  3.83it/s]"
          ]
        },
        {
          "output_type": "stream",
          "name": "stdout",
          "text": [
            "                   all        105        136      0.665      0.596      0.625      0.268\n"
          ]
        },
        {
          "output_type": "stream",
          "name": "stderr",
          "text": [
            "\n"
          ]
        },
        {
          "output_type": "stream",
          "name": "stdout",
          "text": [
            "\n",
            "      Epoch    GPU_mem   box_loss   cls_loss   dfl_loss  Instances       Size\n"
          ]
        },
        {
          "output_type": "stream",
          "name": "stderr",
          "text": [
            "      17/50      2.76G      1.593      1.483      1.612         28        640: 100%|██████████| 23/23 [00:05<00:00,  4.29it/s]\n",
            "                 Class     Images  Instances      Box(P          R      mAP50  mAP50-95): 100%|██████████| 4/4 [00:02<00:00,  1.86it/s]"
          ]
        },
        {
          "output_type": "stream",
          "name": "stdout",
          "text": [
            "                   all        105        136      0.847      0.613      0.753      0.349\n"
          ]
        },
        {
          "output_type": "stream",
          "name": "stderr",
          "text": [
            "\n"
          ]
        },
        {
          "output_type": "stream",
          "name": "stdout",
          "text": [
            "\n",
            "      Epoch    GPU_mem   box_loss   cls_loss   dfl_loss  Instances       Size\n"
          ]
        },
        {
          "output_type": "stream",
          "name": "stderr",
          "text": [
            "      18/50      2.78G      1.535      1.315      1.516         35        640: 100%|██████████| 23/23 [00:05<00:00,  4.34it/s]\n",
            "                 Class     Images  Instances      Box(P          R      mAP50  mAP50-95): 100%|██████████| 4/4 [00:01<00:00,  3.57it/s]"
          ]
        },
        {
          "output_type": "stream",
          "name": "stdout",
          "text": [
            "                   all        105        136      0.674      0.691      0.697      0.336\n"
          ]
        },
        {
          "output_type": "stream",
          "name": "stderr",
          "text": [
            "\n"
          ]
        },
        {
          "output_type": "stream",
          "name": "stdout",
          "text": [
            "\n",
            "      Epoch    GPU_mem   box_loss   cls_loss   dfl_loss  Instances       Size\n"
          ]
        },
        {
          "output_type": "stream",
          "name": "stderr",
          "text": [
            "      19/50      2.79G      1.516       1.29      1.484         37        640: 100%|██████████| 23/23 [00:06<00:00,  3.48it/s]\n",
            "                 Class     Images  Instances      Box(P          R      mAP50  mAP50-95): 100%|██████████| 4/4 [00:00<00:00,  4.05it/s]"
          ]
        },
        {
          "output_type": "stream",
          "name": "stdout",
          "text": [
            "                   all        105        136      0.811      0.724      0.777      0.364\n"
          ]
        },
        {
          "output_type": "stream",
          "name": "stderr",
          "text": [
            "\n"
          ]
        },
        {
          "output_type": "stream",
          "name": "stdout",
          "text": [
            "\n",
            "      Epoch    GPU_mem   box_loss   cls_loss   dfl_loss  Instances       Size\n"
          ]
        },
        {
          "output_type": "stream",
          "name": "stderr",
          "text": [
            "      20/50      2.81G      1.561      1.294      1.527         35        640: 100%|██████████| 23/23 [00:05<00:00,  4.39it/s]\n",
            "                 Class     Images  Instances      Box(P          R      mAP50  mAP50-95): 100%|██████████| 4/4 [00:01<00:00,  3.77it/s]"
          ]
        },
        {
          "output_type": "stream",
          "name": "stdout",
          "text": [
            "                   all        105        136       0.84      0.732      0.762      0.393\n"
          ]
        },
        {
          "output_type": "stream",
          "name": "stderr",
          "text": [
            "\n"
          ]
        },
        {
          "output_type": "stream",
          "name": "stdout",
          "text": [
            "\n",
            "      Epoch    GPU_mem   box_loss   cls_loss   dfl_loss  Instances       Size\n"
          ]
        },
        {
          "output_type": "stream",
          "name": "stderr",
          "text": [
            "      21/50      2.83G        1.5      1.324      1.524         29        640: 100%|██████████| 23/23 [00:06<00:00,  3.57it/s]\n",
            "                 Class     Images  Instances      Box(P          R      mAP50  mAP50-95): 100%|██████████| 4/4 [00:01<00:00,  3.85it/s]"
          ]
        },
        {
          "output_type": "stream",
          "name": "stdout",
          "text": [
            "                   all        105        136      0.888      0.735      0.789      0.411\n"
          ]
        },
        {
          "output_type": "stream",
          "name": "stderr",
          "text": [
            "\n"
          ]
        },
        {
          "output_type": "stream",
          "name": "stdout",
          "text": [
            "\n",
            "      Epoch    GPU_mem   box_loss   cls_loss   dfl_loss  Instances       Size\n"
          ]
        },
        {
          "output_type": "stream",
          "name": "stderr",
          "text": [
            "      22/50      2.84G      1.519      1.351      1.546         39        640: 100%|██████████| 23/23 [00:05<00:00,  4.20it/s]\n",
            "                 Class     Images  Instances      Box(P          R      mAP50  mAP50-95): 100%|██████████| 4/4 [00:01<00:00,  3.72it/s]"
          ]
        },
        {
          "output_type": "stream",
          "name": "stdout",
          "text": [
            "                   all        105        136      0.843      0.647      0.741      0.353\n"
          ]
        },
        {
          "output_type": "stream",
          "name": "stderr",
          "text": [
            "\n"
          ]
        },
        {
          "output_type": "stream",
          "name": "stdout",
          "text": [
            "\n",
            "      Epoch    GPU_mem   box_loss   cls_loss   dfl_loss  Instances       Size\n"
          ]
        },
        {
          "output_type": "stream",
          "name": "stderr",
          "text": [
            "      23/50      2.86G      1.502      1.256      1.483         29        640: 100%|██████████| 23/23 [00:06<00:00,  3.57it/s]\n",
            "                 Class     Images  Instances      Box(P          R      mAP50  mAP50-95): 100%|██████████| 4/4 [00:01<00:00,  3.66it/s]"
          ]
        },
        {
          "output_type": "stream",
          "name": "stdout",
          "text": [
            "                   all        105        136      0.889      0.772      0.821      0.395\n"
          ]
        },
        {
          "output_type": "stream",
          "name": "stderr",
          "text": [
            "\n"
          ]
        },
        {
          "output_type": "stream",
          "name": "stdout",
          "text": [
            "\n",
            "      Epoch    GPU_mem   box_loss   cls_loss   dfl_loss  Instances       Size\n"
          ]
        },
        {
          "output_type": "stream",
          "name": "stderr",
          "text": [
            "      24/50      2.88G      1.508      1.255      1.483         35        640: 100%|██████████| 23/23 [00:05<00:00,  4.45it/s]\n",
            "                 Class     Images  Instances      Box(P          R      mAP50  mAP50-95): 100%|██████████| 4/4 [00:01<00:00,  2.41it/s]"
          ]
        },
        {
          "output_type": "stream",
          "name": "stdout",
          "text": [
            "                   all        105        136      0.855      0.738      0.795      0.393\n"
          ]
        },
        {
          "output_type": "stream",
          "name": "stderr",
          "text": [
            "\n"
          ]
        },
        {
          "output_type": "stream",
          "name": "stdout",
          "text": [
            "\n",
            "      Epoch    GPU_mem   box_loss   cls_loss   dfl_loss  Instances       Size\n"
          ]
        },
        {
          "output_type": "stream",
          "name": "stderr",
          "text": [
            "      25/50      2.89G      1.471      1.169      1.443         41        640: 100%|██████████| 23/23 [00:05<00:00,  4.21it/s]\n",
            "                 Class     Images  Instances      Box(P          R      mAP50  mAP50-95): 100%|██████████| 4/4 [00:01<00:00,  3.32it/s]"
          ]
        },
        {
          "output_type": "stream",
          "name": "stdout",
          "text": [
            "                   all        105        136      0.871      0.772       0.81      0.403\n"
          ]
        },
        {
          "output_type": "stream",
          "name": "stderr",
          "text": [
            "\n"
          ]
        },
        {
          "output_type": "stream",
          "name": "stdout",
          "text": [
            "\n",
            "      Epoch    GPU_mem   box_loss   cls_loss   dfl_loss  Instances       Size\n"
          ]
        },
        {
          "output_type": "stream",
          "name": "stderr",
          "text": [
            "      26/50      2.91G      1.493      1.269      1.488         39        640: 100%|██████████| 23/23 [00:05<00:00,  3.96it/s]\n",
            "                 Class     Images  Instances      Box(P          R      mAP50  mAP50-95): 100%|██████████| 4/4 [00:01<00:00,  2.43it/s]"
          ]
        },
        {
          "output_type": "stream",
          "name": "stdout",
          "text": [
            "                   all        105        136      0.833      0.769      0.823      0.417\n"
          ]
        },
        {
          "output_type": "stream",
          "name": "stderr",
          "text": [
            "\n"
          ]
        },
        {
          "output_type": "stream",
          "name": "stdout",
          "text": [
            "\n",
            "      Epoch    GPU_mem   box_loss   cls_loss   dfl_loss  Instances       Size\n"
          ]
        },
        {
          "output_type": "stream",
          "name": "stderr",
          "text": [
            "      27/50      2.93G      1.436      1.174      1.411         45        640: 100%|██████████| 23/23 [00:05<00:00,  4.40it/s]\n",
            "                 Class     Images  Instances      Box(P          R      mAP50  mAP50-95): 100%|██████████| 4/4 [00:01<00:00,  3.56it/s]"
          ]
        },
        {
          "output_type": "stream",
          "name": "stdout",
          "text": [
            "                   all        105        136      0.889      0.801      0.829      0.438\n"
          ]
        },
        {
          "output_type": "stream",
          "name": "stderr",
          "text": [
            "\n"
          ]
        },
        {
          "output_type": "stream",
          "name": "stdout",
          "text": [
            "\n",
            "      Epoch    GPU_mem   box_loss   cls_loss   dfl_loss  Instances       Size\n"
          ]
        },
        {
          "output_type": "stream",
          "name": "stderr",
          "text": [
            "      28/50      2.95G      1.511      1.185      1.513         32        640: 100%|██████████| 23/23 [00:06<00:00,  3.58it/s]\n",
            "                 Class     Images  Instances      Box(P          R      mAP50  mAP50-95): 100%|██████████| 4/4 [00:01<00:00,  3.87it/s]"
          ]
        },
        {
          "output_type": "stream",
          "name": "stdout",
          "text": [
            "                   all        105        136      0.883      0.809       0.84      0.434\n"
          ]
        },
        {
          "output_type": "stream",
          "name": "stderr",
          "text": [
            "\n"
          ]
        },
        {
          "output_type": "stream",
          "name": "stdout",
          "text": [
            "\n",
            "      Epoch    GPU_mem   box_loss   cls_loss   dfl_loss  Instances       Size\n"
          ]
        },
        {
          "output_type": "stream",
          "name": "stderr",
          "text": [
            "      29/50      2.96G      1.398      1.108      1.446         38        640: 100%|██████████| 23/23 [00:05<00:00,  4.41it/s]\n",
            "                 Class     Images  Instances      Box(P          R      mAP50  mAP50-95): 100%|██████████| 4/4 [00:01<00:00,  3.62it/s]"
          ]
        },
        {
          "output_type": "stream",
          "name": "stdout",
          "text": [
            "                   all        105        136      0.871      0.787      0.814      0.389\n"
          ]
        },
        {
          "output_type": "stream",
          "name": "stderr",
          "text": [
            "\n"
          ]
        },
        {
          "output_type": "stream",
          "name": "stdout",
          "text": [
            "\n",
            "      Epoch    GPU_mem   box_loss   cls_loss   dfl_loss  Instances       Size\n"
          ]
        },
        {
          "output_type": "stream",
          "name": "stderr",
          "text": [
            "      30/50      2.98G      1.379      1.097       1.42         38        640: 100%|██████████| 23/23 [00:06<00:00,  3.65it/s]\n",
            "                 Class     Images  Instances      Box(P          R      mAP50  mAP50-95): 100%|██████████| 4/4 [00:01<00:00,  3.24it/s]"
          ]
        },
        {
          "output_type": "stream",
          "name": "stdout",
          "text": [
            "                   all        105        136      0.858      0.801      0.832      0.406\n"
          ]
        },
        {
          "output_type": "stream",
          "name": "stderr",
          "text": [
            "\n"
          ]
        },
        {
          "output_type": "stream",
          "name": "stdout",
          "text": [
            "\n",
            "      Epoch    GPU_mem   box_loss   cls_loss   dfl_loss  Instances       Size\n"
          ]
        },
        {
          "output_type": "stream",
          "name": "stderr",
          "text": [
            "      31/50         3G      1.362      1.102      1.395         33        640: 100%|██████████| 23/23 [00:05<00:00,  4.40it/s]\n",
            "                 Class     Images  Instances      Box(P          R      mAP50  mAP50-95): 100%|██████████| 4/4 [00:01<00:00,  3.19it/s]"
          ]
        },
        {
          "output_type": "stream",
          "name": "stdout",
          "text": [
            "                   all        105        136      0.903      0.752      0.794      0.382\n"
          ]
        },
        {
          "output_type": "stream",
          "name": "stderr",
          "text": [
            "\n"
          ]
        },
        {
          "output_type": "stream",
          "name": "stdout",
          "text": [
            "\n",
            "      Epoch    GPU_mem   box_loss   cls_loss   dfl_loss  Instances       Size\n"
          ]
        },
        {
          "output_type": "stream",
          "name": "stderr",
          "text": [
            "      32/50      3.01G      1.421      1.088      1.426         43        640: 100%|██████████| 23/23 [00:06<00:00,  3.71it/s]\n",
            "                 Class     Images  Instances      Box(P          R      mAP50  mAP50-95): 100%|██████████| 4/4 [00:01<00:00,  3.62it/s]"
          ]
        },
        {
          "output_type": "stream",
          "name": "stdout",
          "text": [
            "                   all        105        136      0.889      0.827      0.837      0.449\n"
          ]
        },
        {
          "output_type": "stream",
          "name": "stderr",
          "text": [
            "\n"
          ]
        },
        {
          "output_type": "stream",
          "name": "stdout",
          "text": [
            "\n",
            "      Epoch    GPU_mem   box_loss   cls_loss   dfl_loss  Instances       Size\n"
          ]
        },
        {
          "output_type": "stream",
          "name": "stderr",
          "text": [
            "      33/50      3.03G      1.365      1.058      1.399         39        640: 100%|██████████| 23/23 [00:06<00:00,  3.33it/s]\n",
            "                 Class     Images  Instances      Box(P          R      mAP50  mAP50-95): 100%|██████████| 4/4 [00:01<00:00,  2.30it/s]"
          ]
        },
        {
          "output_type": "stream",
          "name": "stdout",
          "text": [
            "                   all        105        136      0.889      0.823       0.81      0.423\n"
          ]
        },
        {
          "output_type": "stream",
          "name": "stderr",
          "text": [
            "\n"
          ]
        },
        {
          "output_type": "stream",
          "name": "stdout",
          "text": [
            "\n",
            "      Epoch    GPU_mem   box_loss   cls_loss   dfl_loss  Instances       Size\n"
          ]
        },
        {
          "output_type": "stream",
          "name": "stderr",
          "text": [
            "      34/50      3.05G      1.406      1.073      1.422         38        640: 100%|██████████| 23/23 [00:05<00:00,  4.47it/s]\n",
            "                 Class     Images  Instances      Box(P          R      mAP50  mAP50-95): 100%|██████████| 4/4 [00:01<00:00,  3.35it/s]"
          ]
        },
        {
          "output_type": "stream",
          "name": "stdout",
          "text": [
            "                   all        105        136      0.845      0.809      0.812      0.438\n"
          ]
        },
        {
          "output_type": "stream",
          "name": "stderr",
          "text": [
            "\n"
          ]
        },
        {
          "output_type": "stream",
          "name": "stdout",
          "text": [
            "\n",
            "      Epoch    GPU_mem   box_loss   cls_loss   dfl_loss  Instances       Size\n"
          ]
        },
        {
          "output_type": "stream",
          "name": "stderr",
          "text": [
            "      35/50      3.06G      1.409      1.098      1.426         36        640: 100%|██████████| 23/23 [00:06<00:00,  3.56it/s]\n",
            "                 Class     Images  Instances      Box(P          R      mAP50  mAP50-95): 100%|██████████| 4/4 [00:01<00:00,  3.62it/s]"
          ]
        },
        {
          "output_type": "stream",
          "name": "stdout",
          "text": [
            "                   all        105        136      0.876      0.833      0.839      0.459\n"
          ]
        },
        {
          "output_type": "stream",
          "name": "stderr",
          "text": [
            "\n"
          ]
        },
        {
          "output_type": "stream",
          "name": "stdout",
          "text": [
            "\n",
            "      Epoch    GPU_mem   box_loss   cls_loss   dfl_loss  Instances       Size\n"
          ]
        },
        {
          "output_type": "stream",
          "name": "stderr",
          "text": [
            "      36/50      3.08G      1.299      1.042      1.365         32        640: 100%|██████████| 23/23 [00:05<00:00,  4.20it/s]\n",
            "                 Class     Images  Instances      Box(P          R      mAP50  mAP50-95): 100%|██████████| 4/4 [00:00<00:00,  4.13it/s]"
          ]
        },
        {
          "output_type": "stream",
          "name": "stdout",
          "text": [
            "                   all        105        136      0.891      0.784      0.833      0.429\n"
          ]
        },
        {
          "output_type": "stream",
          "name": "stderr",
          "text": [
            "\n"
          ]
        },
        {
          "output_type": "stream",
          "name": "stdout",
          "text": [
            "\n",
            "      Epoch    GPU_mem   box_loss   cls_loss   dfl_loss  Instances       Size\n"
          ]
        },
        {
          "output_type": "stream",
          "name": "stderr",
          "text": [
            "      37/50       3.1G       1.38      1.058      1.429         35        640: 100%|██████████| 23/23 [00:06<00:00,  3.61it/s]\n",
            "                 Class     Images  Instances      Box(P          R      mAP50  mAP50-95): 100%|██████████| 4/4 [00:01<00:00,  3.47it/s]"
          ]
        },
        {
          "output_type": "stream",
          "name": "stdout",
          "text": [
            "                   all        105        136        0.9      0.801      0.833      0.443\n"
          ]
        },
        {
          "output_type": "stream",
          "name": "stderr",
          "text": [
            "\n"
          ]
        },
        {
          "output_type": "stream",
          "name": "stdout",
          "text": [
            "\n",
            "      Epoch    GPU_mem   box_loss   cls_loss   dfl_loss  Instances       Size\n"
          ]
        },
        {
          "output_type": "stream",
          "name": "stderr",
          "text": [
            "      38/50      3.12G      1.323      1.019      1.398         46        640: 100%|██████████| 23/23 [00:05<00:00,  4.26it/s]\n",
            "                 Class     Images  Instances      Box(P          R      mAP50  mAP50-95): 100%|██████████| 4/4 [00:01<00:00,  3.55it/s]"
          ]
        },
        {
          "output_type": "stream",
          "name": "stdout",
          "text": [
            "                   all        105        136      0.889      0.827      0.852       0.45\n"
          ]
        },
        {
          "output_type": "stream",
          "name": "stderr",
          "text": [
            "\n"
          ]
        },
        {
          "output_type": "stream",
          "name": "stdout",
          "text": [
            "\n",
            "      Epoch    GPU_mem   box_loss   cls_loss   dfl_loss  Instances       Size\n"
          ]
        },
        {
          "output_type": "stream",
          "name": "stderr",
          "text": [
            "      39/50      3.13G      1.361      1.004      1.412         22        640: 100%|██████████| 23/23 [00:06<00:00,  3.77it/s]\n",
            "                 Class     Images  Instances      Box(P          R      mAP50  mAP50-95): 100%|██████████| 4/4 [00:01<00:00,  3.56it/s]"
          ]
        },
        {
          "output_type": "stream",
          "name": "stdout",
          "text": [
            "                   all        105        136      0.895      0.813      0.839      0.452\n"
          ]
        },
        {
          "output_type": "stream",
          "name": "stderr",
          "text": [
            "\n"
          ]
        },
        {
          "output_type": "stream",
          "name": "stdout",
          "text": [
            "\n",
            "      Epoch    GPU_mem   box_loss   cls_loss   dfl_loss  Instances       Size\n"
          ]
        },
        {
          "output_type": "stream",
          "name": "stderr",
          "text": [
            "      40/50      3.15G      1.315     0.9678      1.381         34        640: 100%|██████████| 23/23 [00:05<00:00,  4.10it/s]\n",
            "                 Class     Images  Instances      Box(P          R      mAP50  mAP50-95): 100%|██████████| 4/4 [00:01<00:00,  2.22it/s]"
          ]
        },
        {
          "output_type": "stream",
          "name": "stdout",
          "text": [
            "                   all        105        136      0.898      0.816      0.831      0.444\n"
          ]
        },
        {
          "output_type": "stream",
          "name": "stderr",
          "text": [
            "\n"
          ]
        },
        {
          "output_type": "stream",
          "name": "stdout",
          "text": [
            "Closing dataloader mosaic\n",
            "\u001b[34m\u001b[1malbumentations: \u001b[0mBlur(p=0.01, blur_limit=(3, 7)), MedianBlur(p=0.01, blur_limit=(3, 7)), ToGray(p=0.01, method='weighted_average', num_output_channels=3), CLAHE(p=0.01, clip_limit=(1.0, 4.0), tile_grid_size=(8, 8))\n",
            "\n",
            "      Epoch    GPU_mem   box_loss   cls_loss   dfl_loss  Instances       Size\n"
          ]
        },
        {
          "output_type": "stream",
          "name": "stderr",
          "text": [
            "      41/50      3.17G      1.334     0.8828      1.438         24        640: 100%|██████████| 23/23 [00:06<00:00,  3.55it/s]\n",
            "                 Class     Images  Instances      Box(P          R      mAP50  mAP50-95): 100%|██████████| 4/4 [00:01<00:00,  3.99it/s]"
          ]
        },
        {
          "output_type": "stream",
          "name": "stdout",
          "text": [
            "                   all        105        136      0.877      0.831      0.815      0.452\n"
          ]
        },
        {
          "output_type": "stream",
          "name": "stderr",
          "text": [
            "\n"
          ]
        },
        {
          "output_type": "stream",
          "name": "stdout",
          "text": [
            "\n",
            "      Epoch    GPU_mem   box_loss   cls_loss   dfl_loss  Instances       Size\n"
          ]
        },
        {
          "output_type": "stream",
          "name": "stderr",
          "text": [
            "      42/50      3.18G       1.33     0.9021      1.427         16        640: 100%|██████████| 23/23 [00:06<00:00,  3.66it/s]\n",
            "                 Class     Images  Instances      Box(P          R      mAP50  mAP50-95): 100%|██████████| 4/4 [00:01<00:00,  3.57it/s]"
          ]
        },
        {
          "output_type": "stream",
          "name": "stdout",
          "text": [
            "                   all        105        136      0.881      0.809      0.832       0.46\n"
          ]
        },
        {
          "output_type": "stream",
          "name": "stderr",
          "text": [
            "\n"
          ]
        },
        {
          "output_type": "stream",
          "name": "stdout",
          "text": [
            "\n",
            "      Epoch    GPU_mem   box_loss   cls_loss   dfl_loss  Instances       Size\n"
          ]
        },
        {
          "output_type": "stream",
          "name": "stderr",
          "text": [
            "      43/50       3.2G      1.292     0.8649      1.393         17        640: 100%|██████████| 23/23 [00:05<00:00,  4.58it/s]\n",
            "                 Class     Images  Instances      Box(P          R      mAP50  mAP50-95): 100%|██████████| 4/4 [00:01<00:00,  3.29it/s]"
          ]
        },
        {
          "output_type": "stream",
          "name": "stdout",
          "text": [
            "                   all        105        136      0.897       0.83      0.836      0.434\n"
          ]
        },
        {
          "output_type": "stream",
          "name": "stderr",
          "text": [
            "\n"
          ]
        },
        {
          "output_type": "stream",
          "name": "stdout",
          "text": [
            "\n",
            "      Epoch    GPU_mem   box_loss   cls_loss   dfl_loss  Instances       Size\n"
          ]
        },
        {
          "output_type": "stream",
          "name": "stderr",
          "text": [
            "      44/50      3.22G      1.291     0.8819      1.379         18        640: 100%|██████████| 23/23 [00:06<00:00,  3.67it/s]\n",
            "                 Class     Images  Instances      Box(P          R      mAP50  mAP50-95): 100%|██████████| 4/4 [00:00<00:00,  4.00it/s]"
          ]
        },
        {
          "output_type": "stream",
          "name": "stdout",
          "text": [
            "                   all        105        136      0.889      0.794       0.82      0.444\n"
          ]
        },
        {
          "output_type": "stream",
          "name": "stderr",
          "text": [
            "\n"
          ]
        },
        {
          "output_type": "stream",
          "name": "stdout",
          "text": [
            "\n",
            "      Epoch    GPU_mem   box_loss   cls_loss   dfl_loss  Instances       Size\n"
          ]
        },
        {
          "output_type": "stream",
          "name": "stderr",
          "text": [
            "      45/50      3.24G      1.284     0.8027      1.369         20        640: 100%|██████████| 23/23 [00:04<00:00,  4.64it/s]\n",
            "                 Class     Images  Instances      Box(P          R      mAP50  mAP50-95): 100%|██████████| 4/4 [00:00<00:00,  4.03it/s]"
          ]
        },
        {
          "output_type": "stream",
          "name": "stdout",
          "text": [
            "                   all        105        136      0.874      0.831      0.837      0.457\n"
          ]
        },
        {
          "output_type": "stream",
          "name": "stderr",
          "text": [
            "\n"
          ]
        },
        {
          "output_type": "stream",
          "name": "stdout",
          "text": [
            "\n",
            "      Epoch    GPU_mem   box_loss   cls_loss   dfl_loss  Instances       Size\n"
          ]
        },
        {
          "output_type": "stream",
          "name": "stderr",
          "text": [
            "      46/50      3.25G      1.247     0.8331      1.359         21        640: 100%|██████████| 23/23 [00:06<00:00,  3.65it/s]\n",
            "                 Class     Images  Instances      Box(P          R      mAP50  mAP50-95): 100%|██████████| 4/4 [00:00<00:00,  4.14it/s]"
          ]
        },
        {
          "output_type": "stream",
          "name": "stdout",
          "text": [
            "                   all        105        136      0.848      0.819      0.829       0.44\n"
          ]
        },
        {
          "output_type": "stream",
          "name": "stderr",
          "text": [
            "\n"
          ]
        },
        {
          "output_type": "stream",
          "name": "stdout",
          "text": [
            "\n",
            "      Epoch    GPU_mem   box_loss   cls_loss   dfl_loss  Instances       Size\n"
          ]
        },
        {
          "output_type": "stream",
          "name": "stderr",
          "text": [
            "      47/50      3.27G      1.251     0.8179      1.363         19        640: 100%|██████████| 23/23 [00:05<00:00,  4.58it/s]\n",
            "                 Class     Images  Instances      Box(P          R      mAP50  mAP50-95): 100%|██████████| 4/4 [00:01<00:00,  3.75it/s]"
          ]
        },
        {
          "output_type": "stream",
          "name": "stdout",
          "text": [
            "                   all        105        136      0.888      0.794      0.825      0.444\n"
          ]
        },
        {
          "output_type": "stream",
          "name": "stderr",
          "text": [
            "\n"
          ]
        },
        {
          "output_type": "stream",
          "name": "stdout",
          "text": [
            "\n",
            "      Epoch    GPU_mem   box_loss   cls_loss   dfl_loss  Instances       Size\n"
          ]
        },
        {
          "output_type": "stream",
          "name": "stderr",
          "text": [
            "      48/50      3.29G      1.206     0.7845      1.361         19        640: 100%|██████████| 23/23 [00:05<00:00,  3.84it/s]\n",
            "                 Class     Images  Instances      Box(P          R      mAP50  mAP50-95): 100%|██████████| 4/4 [00:00<00:00,  4.10it/s]"
          ]
        },
        {
          "output_type": "stream",
          "name": "stdout",
          "text": [
            "                   all        105        136      0.871      0.801      0.821      0.449\n"
          ]
        },
        {
          "output_type": "stream",
          "name": "stderr",
          "text": [
            "\n"
          ]
        },
        {
          "output_type": "stream",
          "name": "stdout",
          "text": [
            "\n",
            "      Epoch    GPU_mem   box_loss   cls_loss   dfl_loss  Instances       Size\n"
          ]
        },
        {
          "output_type": "stream",
          "name": "stderr",
          "text": [
            "      49/50       3.3G      1.204     0.7796      1.359         19        640: 100%|██████████| 23/23 [00:05<00:00,  4.60it/s]\n",
            "                 Class     Images  Instances      Box(P          R      mAP50  mAP50-95): 100%|██████████| 4/4 [00:01<00:00,  2.54it/s]"
          ]
        },
        {
          "output_type": "stream",
          "name": "stdout",
          "text": [
            "                   all        105        136      0.892      0.801      0.827      0.456\n"
          ]
        },
        {
          "output_type": "stream",
          "name": "stderr",
          "text": [
            "\n"
          ]
        },
        {
          "output_type": "stream",
          "name": "stdout",
          "text": [
            "\n",
            "      Epoch    GPU_mem   box_loss   cls_loss   dfl_loss  Instances       Size\n"
          ]
        },
        {
          "output_type": "stream",
          "name": "stderr",
          "text": [
            "      50/50      3.32G      1.196     0.7908      1.334         20        640: 100%|██████████| 23/23 [00:05<00:00,  4.30it/s]\n",
            "                 Class     Images  Instances      Box(P          R      mAP50  mAP50-95): 100%|██████████| 4/4 [00:01<00:00,  3.53it/s]"
          ]
        },
        {
          "output_type": "stream",
          "name": "stdout",
          "text": [
            "                   all        105        136      0.893      0.801      0.824      0.453\n"
          ]
        },
        {
          "output_type": "stream",
          "name": "stderr",
          "text": [
            "\n"
          ]
        },
        {
          "output_type": "stream",
          "name": "stdout",
          "text": [
            "\n",
            "50 epochs completed in 0.103 hours.\n",
            "Optimizer stripped from runs/detect/train/weights/last.pt, 6.2MB\n",
            "Optimizer stripped from runs/detect/train/weights/best.pt, 6.2MB\n",
            "\n",
            "Validating runs/detect/train/weights/best.pt...\n",
            "Ultralytics 8.3.173 🚀 Python-3.11.13 torch-2.6.0+cu124 CUDA:0 (Tesla T4, 15095MiB)\n",
            "Model summary (fused): 72 layers, 3,005,843 parameters, 0 gradients, 8.1 GFLOPs\n"
          ]
        },
        {
          "output_type": "stream",
          "name": "stderr",
          "text": [
            "                 Class     Images  Instances      Box(P          R      mAP50  mAP50-95): 100%|██████████| 4/4 [00:01<00:00,  2.04it/s]\n"
          ]
        },
        {
          "output_type": "stream",
          "name": "stdout",
          "text": [
            "                   all        105        136      0.881      0.809      0.831       0.46\n",
            "Speed: 0.2ms preprocess, 2.5ms inference, 0.2ms loss, 5.9ms postprocess per image\n",
            "Results saved to \u001b[1mruns/detect/train\u001b[0m\n"
          ]
        },
        {
          "output_type": "execute_result",
          "data": {
            "text/plain": [
              "ultralytics.utils.metrics.DetMetrics object with attributes:\n",
              "\n",
              "ap_class_index: array([0])\n",
              "box: ultralytics.utils.metrics.Metric object\n",
              "confusion_matrix: <ultralytics.utils.metrics.ConfusionMatrix object at 0x7f6cd74246d0>\n",
              "curves: ['Precision-Recall(B)', 'F1-Confidence(B)', 'Precision-Confidence(B)', 'Recall-Confidence(B)']\n",
              "curves_results: [[array([          0,    0.001001,    0.002002,    0.003003,    0.004004,    0.005005,    0.006006,    0.007007,    0.008008,    0.009009,     0.01001,    0.011011,    0.012012,    0.013013,    0.014014,    0.015015,    0.016016,    0.017017,    0.018018,    0.019019,     0.02002,    0.021021,    0.022022,    0.023023,\n",
              "          0.024024,    0.025025,    0.026026,    0.027027,    0.028028,    0.029029,     0.03003,    0.031031,    0.032032,    0.033033,    0.034034,    0.035035,    0.036036,    0.037037,    0.038038,    0.039039,     0.04004,    0.041041,    0.042042,    0.043043,    0.044044,    0.045045,    0.046046,    0.047047,\n",
              "          0.048048,    0.049049,     0.05005,    0.051051,    0.052052,    0.053053,    0.054054,    0.055055,    0.056056,    0.057057,    0.058058,    0.059059,     0.06006,    0.061061,    0.062062,    0.063063,    0.064064,    0.065065,    0.066066,    0.067067,    0.068068,    0.069069,     0.07007,    0.071071,\n",
              "          0.072072,    0.073073,    0.074074,    0.075075,    0.076076,    0.077077,    0.078078,    0.079079,     0.08008,    0.081081,    0.082082,    0.083083,    0.084084,    0.085085,    0.086086,    0.087087,    0.088088,    0.089089,     0.09009,    0.091091,    0.092092,    0.093093,    0.094094,    0.095095,\n",
              "          0.096096,    0.097097,    0.098098,    0.099099,      0.1001,      0.1011,      0.1021,      0.1031,      0.1041,     0.10511,     0.10611,     0.10711,     0.10811,     0.10911,     0.11011,     0.11111,     0.11211,     0.11311,     0.11411,     0.11512,     0.11612,     0.11712,     0.11812,     0.11912,\n",
              "           0.12012,     0.12112,     0.12212,     0.12312,     0.12412,     0.12513,     0.12613,     0.12713,     0.12813,     0.12913,     0.13013,     0.13113,     0.13213,     0.13313,     0.13413,     0.13514,     0.13614,     0.13714,     0.13814,     0.13914,     0.14014,     0.14114,     0.14214,     0.14314,\n",
              "           0.14414,     0.14515,     0.14615,     0.14715,     0.14815,     0.14915,     0.15015,     0.15115,     0.15215,     0.15315,     0.15415,     0.15516,     0.15616,     0.15716,     0.15816,     0.15916,     0.16016,     0.16116,     0.16216,     0.16316,     0.16416,     0.16517,     0.16617,     0.16717,\n",
              "           0.16817,     0.16917,     0.17017,     0.17117,     0.17217,     0.17317,     0.17417,     0.17518,     0.17618,     0.17718,     0.17818,     0.17918,     0.18018,     0.18118,     0.18218,     0.18318,     0.18418,     0.18519,     0.18619,     0.18719,     0.18819,     0.18919,     0.19019,     0.19119,\n",
              "           0.19219,     0.19319,     0.19419,      0.1952,      0.1962,      0.1972,      0.1982,      0.1992,      0.2002,      0.2012,      0.2022,      0.2032,      0.2042,     0.20521,     0.20621,     0.20721,     0.20821,     0.20921,     0.21021,     0.21121,     0.21221,     0.21321,     0.21421,     0.21522,\n",
              "           0.21622,     0.21722,     0.21822,     0.21922,     0.22022,     0.22122,     0.22222,     0.22322,     0.22422,     0.22523,     0.22623,     0.22723,     0.22823,     0.22923,     0.23023,     0.23123,     0.23223,     0.23323,     0.23423,     0.23524,     0.23624,     0.23724,     0.23824,     0.23924,\n",
              "           0.24024,     0.24124,     0.24224,     0.24324,     0.24424,     0.24525,     0.24625,     0.24725,     0.24825,     0.24925,     0.25025,     0.25125,     0.25225,     0.25325,     0.25425,     0.25526,     0.25626,     0.25726,     0.25826,     0.25926,     0.26026,     0.26126,     0.26226,     0.26326,\n",
              "           0.26426,     0.26527,     0.26627,     0.26727,     0.26827,     0.26927,     0.27027,     0.27127,     0.27227,     0.27327,     0.27427,     0.27528,     0.27628,     0.27728,     0.27828,     0.27928,     0.28028,     0.28128,     0.28228,     0.28328,     0.28428,     0.28529,     0.28629,     0.28729,\n",
              "           0.28829,     0.28929,     0.29029,     0.29129,     0.29229,     0.29329,     0.29429,      0.2953,      0.2963,      0.2973,      0.2983,      0.2993,      0.3003,      0.3013,      0.3023,      0.3033,      0.3043,     0.30531,     0.30631,     0.30731,     0.30831,     0.30931,     0.31031,     0.31131,\n",
              "           0.31231,     0.31331,     0.31431,     0.31532,     0.31632,     0.31732,     0.31832,     0.31932,     0.32032,     0.32132,     0.32232,     0.32332,     0.32432,     0.32533,     0.32633,     0.32733,     0.32833,     0.32933,     0.33033,     0.33133,     0.33233,     0.33333,     0.33433,     0.33534,\n",
              "           0.33634,     0.33734,     0.33834,     0.33934,     0.34034,     0.34134,     0.34234,     0.34334,     0.34434,     0.34535,     0.34635,     0.34735,     0.34835,     0.34935,     0.35035,     0.35135,     0.35235,     0.35335,     0.35435,     0.35536,     0.35636,     0.35736,     0.35836,     0.35936,\n",
              "           0.36036,     0.36136,     0.36236,     0.36336,     0.36436,     0.36537,     0.36637,     0.36737,     0.36837,     0.36937,     0.37037,     0.37137,     0.37237,     0.37337,     0.37437,     0.37538,     0.37638,     0.37738,     0.37838,     0.37938,     0.38038,     0.38138,     0.38238,     0.38338,\n",
              "           0.38438,     0.38539,     0.38639,     0.38739,     0.38839,     0.38939,     0.39039,     0.39139,     0.39239,     0.39339,     0.39439,      0.3954,      0.3964,      0.3974,      0.3984,      0.3994,      0.4004,      0.4014,      0.4024,      0.4034,      0.4044,     0.40541,     0.40641,     0.40741,\n",
              "           0.40841,     0.40941,     0.41041,     0.41141,     0.41241,     0.41341,     0.41441,     0.41542,     0.41642,     0.41742,     0.41842,     0.41942,     0.42042,     0.42142,     0.42242,     0.42342,     0.42442,     0.42543,     0.42643,     0.42743,     0.42843,     0.42943,     0.43043,     0.43143,\n",
              "           0.43243,     0.43343,     0.43443,     0.43544,     0.43644,     0.43744,     0.43844,     0.43944,     0.44044,     0.44144,     0.44244,     0.44344,     0.44444,     0.44545,     0.44645,     0.44745,     0.44845,     0.44945,     0.45045,     0.45145,     0.45245,     0.45345,     0.45445,     0.45546,\n",
              "           0.45646,     0.45746,     0.45846,     0.45946,     0.46046,     0.46146,     0.46246,     0.46346,     0.46446,     0.46547,     0.46647,     0.46747,     0.46847,     0.46947,     0.47047,     0.47147,     0.47247,     0.47347,     0.47447,     0.47548,     0.47648,     0.47748,     0.47848,     0.47948,\n",
              "           0.48048,     0.48148,     0.48248,     0.48348,     0.48448,     0.48549,     0.48649,     0.48749,     0.48849,     0.48949,     0.49049,     0.49149,     0.49249,     0.49349,     0.49449,      0.4955,      0.4965,      0.4975,      0.4985,      0.4995,      0.5005,      0.5015,      0.5025,      0.5035,\n",
              "            0.5045,     0.50551,     0.50651,     0.50751,     0.50851,     0.50951,     0.51051,     0.51151,     0.51251,     0.51351,     0.51451,     0.51552,     0.51652,     0.51752,     0.51852,     0.51952,     0.52052,     0.52152,     0.52252,     0.52352,     0.52452,     0.52553,     0.52653,     0.52753,\n",
              "           0.52853,     0.52953,     0.53053,     0.53153,     0.53253,     0.53353,     0.53453,     0.53554,     0.53654,     0.53754,     0.53854,     0.53954,     0.54054,     0.54154,     0.54254,     0.54354,     0.54454,     0.54555,     0.54655,     0.54755,     0.54855,     0.54955,     0.55055,     0.55155,\n",
              "           0.55255,     0.55355,     0.55455,     0.55556,     0.55656,     0.55756,     0.55856,     0.55956,     0.56056,     0.56156,     0.56256,     0.56356,     0.56456,     0.56557,     0.56657,     0.56757,     0.56857,     0.56957,     0.57057,     0.57157,     0.57257,     0.57357,     0.57457,     0.57558,\n",
              "           0.57658,     0.57758,     0.57858,     0.57958,     0.58058,     0.58158,     0.58258,     0.58358,     0.58458,     0.58559,     0.58659,     0.58759,     0.58859,     0.58959,     0.59059,     0.59159,     0.59259,     0.59359,     0.59459,      0.5956,      0.5966,      0.5976,      0.5986,      0.5996,\n",
              "            0.6006,      0.6016,      0.6026,      0.6036,      0.6046,     0.60561,     0.60661,     0.60761,     0.60861,     0.60961,     0.61061,     0.61161,     0.61261,     0.61361,     0.61461,     0.61562,     0.61662,     0.61762,     0.61862,     0.61962,     0.62062,     0.62162,     0.62262,     0.62362,\n",
              "           0.62462,     0.62563,     0.62663,     0.62763,     0.62863,     0.62963,     0.63063,     0.63163,     0.63263,     0.63363,     0.63463,     0.63564,     0.63664,     0.63764,     0.63864,     0.63964,     0.64064,     0.64164,     0.64264,     0.64364,     0.64464,     0.64565,     0.64665,     0.64765,\n",
              "           0.64865,     0.64965,     0.65065,     0.65165,     0.65265,     0.65365,     0.65465,     0.65566,     0.65666,     0.65766,     0.65866,     0.65966,     0.66066,     0.66166,     0.66266,     0.66366,     0.66466,     0.66567,     0.66667,     0.66767,     0.66867,     0.66967,     0.67067,     0.67167,\n",
              "           0.67267,     0.67367,     0.67467,     0.67568,     0.67668,     0.67768,     0.67868,     0.67968,     0.68068,     0.68168,     0.68268,     0.68368,     0.68468,     0.68569,     0.68669,     0.68769,     0.68869,     0.68969,     0.69069,     0.69169,     0.69269,     0.69369,     0.69469,      0.6957,\n",
              "            0.6967,      0.6977,      0.6987,      0.6997,      0.7007,      0.7017,      0.7027,      0.7037,      0.7047,     0.70571,     0.70671,     0.70771,     0.70871,     0.70971,     0.71071,     0.71171,     0.71271,     0.71371,     0.71471,     0.71572,     0.71672,     0.71772,     0.71872,     0.71972,\n",
              "           0.72072,     0.72172,     0.72272,     0.72372,     0.72472,     0.72573,     0.72673,     0.72773,     0.72873,     0.72973,     0.73073,     0.73173,     0.73273,     0.73373,     0.73473,     0.73574,     0.73674,     0.73774,     0.73874,     0.73974,     0.74074,     0.74174,     0.74274,     0.74374,\n",
              "           0.74474,     0.74575,     0.74675,     0.74775,     0.74875,     0.74975,     0.75075,     0.75175,     0.75275,     0.75375,     0.75475,     0.75576,     0.75676,     0.75776,     0.75876,     0.75976,     0.76076,     0.76176,     0.76276,     0.76376,     0.76476,     0.76577,     0.76677,     0.76777,\n",
              "           0.76877,     0.76977,     0.77077,     0.77177,     0.77277,     0.77377,     0.77477,     0.77578,     0.77678,     0.77778,     0.77878,     0.77978,     0.78078,     0.78178,     0.78278,     0.78378,     0.78478,     0.78579,     0.78679,     0.78779,     0.78879,     0.78979,     0.79079,     0.79179,\n",
              "           0.79279,     0.79379,     0.79479,      0.7958,      0.7968,      0.7978,      0.7988,      0.7998,      0.8008,      0.8018,      0.8028,      0.8038,      0.8048,     0.80581,     0.80681,     0.80781,     0.80881,     0.80981,     0.81081,     0.81181,     0.81281,     0.81381,     0.81481,     0.81582,\n",
              "           0.81682,     0.81782,     0.81882,     0.81982,     0.82082,     0.82182,     0.82282,     0.82382,     0.82482,     0.82583,     0.82683,     0.82783,     0.82883,     0.82983,     0.83083,     0.83183,     0.83283,     0.83383,     0.83483,     0.83584,     0.83684,     0.83784,     0.83884,     0.83984,\n",
              "           0.84084,     0.84184,     0.84284,     0.84384,     0.84484,     0.84585,     0.84685,     0.84785,     0.84885,     0.84985,     0.85085,     0.85185,     0.85285,     0.85385,     0.85485,     0.85586,     0.85686,     0.85786,     0.85886,     0.85986,     0.86086,     0.86186,     0.86286,     0.86386,\n",
              "           0.86486,     0.86587,     0.86687,     0.86787,     0.86887,     0.86987,     0.87087,     0.87187,     0.87287,     0.87387,     0.87487,     0.87588,     0.87688,     0.87788,     0.87888,     0.87988,     0.88088,     0.88188,     0.88288,     0.88388,     0.88488,     0.88589,     0.88689,     0.88789,\n",
              "           0.88889,     0.88989,     0.89089,     0.89189,     0.89289,     0.89389,     0.89489,      0.8959,      0.8969,      0.8979,      0.8989,      0.8999,      0.9009,      0.9019,      0.9029,      0.9039,      0.9049,     0.90591,     0.90691,     0.90791,     0.90891,     0.90991,     0.91091,     0.91191,\n",
              "           0.91291,     0.91391,     0.91491,     0.91592,     0.91692,     0.91792,     0.91892,     0.91992,     0.92092,     0.92192,     0.92292,     0.92392,     0.92492,     0.92593,     0.92693,     0.92793,     0.92893,     0.92993,     0.93093,     0.93193,     0.93293,     0.93393,     0.93493,     0.93594,\n",
              "           0.93694,     0.93794,     0.93894,     0.93994,     0.94094,     0.94194,     0.94294,     0.94394,     0.94494,     0.94595,     0.94695,     0.94795,     0.94895,     0.94995,     0.95095,     0.95195,     0.95295,     0.95395,     0.95495,     0.95596,     0.95696,     0.95796,     0.95896,     0.95996,\n",
              "           0.96096,     0.96196,     0.96296,     0.96396,     0.96496,     0.96597,     0.96697,     0.96797,     0.96897,     0.96997,     0.97097,     0.97197,     0.97297,     0.97397,     0.97497,     0.97598,     0.97698,     0.97798,     0.97898,     0.97998,     0.98098,     0.98198,     0.98298,     0.98398,\n",
              "           0.98498,     0.98599,     0.98699,     0.98799,     0.98899,     0.98999,     0.99099,     0.99199,     0.99299,     0.99399,     0.99499,       0.996,       0.997,       0.998,       0.999,           1]), array([[          1,           1,           1,           1,           1,           1,           1,           1,           1,           1,           1,           1,           1,           1,           1,           1,           1,           1,           1,           1,           1,           1,           1,\n",
              "                  1,           1,           1,           1,           1,           1,           1,           1,           1,           1,           1,           1,           1,           1,           1,           1,           1,           1,           1,           1,           1,           1,        0.96,\n",
              "               0.96,        0.96,        0.96,        0.96,        0.96,        0.96,        0.96,        0.96,        0.96,        0.96,        0.96,        0.96,        0.96,        0.96,        0.96,        0.96,        0.96,        0.96,        0.96,        0.96,        0.96,        0.96,        0.96,\n",
              "               0.96,        0.96,        0.96,        0.96,        0.96,        0.96,        0.96,        0.96,        0.96,        0.96,        0.96,        0.96,        0.96,        0.96,        0.96,        0.96,        0.96,        0.96,        0.96,        0.96,        0.96,        0.96,        0.96,\n",
              "               0.96,        0.96,        0.96,        0.96,        0.96,        0.96,        0.96,        0.96,        0.96,        0.96,        0.96,        0.96,        0.96,        0.96,        0.96,        0.96,        0.96,        0.96,        0.96,        0.96,        0.96,        0.96,        0.96,\n",
              "               0.96,        0.96,        0.96,        0.96,        0.96,        0.96,        0.96,        0.96,        0.96,        0.96,        0.96,        0.96,        0.96,        0.96,        0.96,        0.96,        0.96,        0.96,        0.96,        0.96,        0.96,        0.96,        0.96,\n",
              "               0.96,        0.96,        0.96,        0.96,        0.96,        0.96,        0.96,        0.96,        0.96,        0.96,        0.96,        0.96,        0.96,        0.96,        0.96,        0.96,        0.96,        0.96,        0.96,        0.96,        0.96,        0.96,        0.96,\n",
              "               0.96,        0.96,        0.96,        0.96,        0.96,        0.96,        0.96,        0.96,        0.96,        0.96,        0.96,        0.96,        0.96,        0.96,        0.96,        0.96,     0.95745,     0.95745,     0.95745,     0.95745,     0.95745,     0.95745,     0.95745,\n",
              "            0.95745,     0.95745,     0.95745,     0.95745,     0.95745,     0.95745,     0.95745,     0.95745,     0.95745,     0.95745,     0.95745,     0.95745,     0.95745,     0.95745,     0.95745,     0.95745,     0.95745,     0.95745,     0.95745,     0.95745,     0.95745,     0.95745,     0.95745,\n",
              "            0.95745,     0.95745,     0.95745,     0.95745,     0.95745,     0.95745,     0.95745,     0.95745,     0.95745,     0.95745,     0.95745,     0.95745,     0.95745,     0.95745,     0.95745,     0.95745,     0.95745,     0.95745,     0.95745,     0.95745,     0.95745,     0.95745,     0.95745,\n",
              "            0.95745,     0.95745,     0.95745,     0.95745,     0.95745,     0.95745,     0.95745,     0.95745,     0.95745,     0.95745,     0.95745,     0.95745,     0.95745,     0.95745,     0.95745,     0.95745,     0.95745,     0.95745,     0.95745,     0.95745,     0.95745,     0.95745,     0.95745,\n",
              "            0.95745,     0.95745,     0.95745,     0.95745,     0.95745,     0.95745,     0.95745,     0.95745,     0.95745,     0.95745,     0.95745,     0.95745,     0.95745,     0.95745,     0.95745,     0.95745,     0.95745,     0.95745,     0.95745,     0.95745,     0.95745,     0.95745,     0.95745,\n",
              "            0.95745,     0.95745,     0.95745,     0.95745,     0.95745,     0.95745,     0.95745,     0.95745,     0.95745,     0.95745,     0.95745,     0.95745,     0.95745,     0.95745,     0.95745,     0.95745,     0.95745,     0.95745,     0.95745,     0.95745,     0.95745,     0.95745,     0.95745,\n",
              "            0.95745,     0.95745,     0.95745,     0.95745,     0.95745,     0.95745,     0.95745,     0.95745,     0.95745,     0.95745,     0.95745,     0.95745,     0.95745,     0.95745,     0.95745,     0.95745,     0.95745,     0.95745,     0.95745,     0.95745,     0.95745,     0.95745,     0.95745,\n",
              "            0.95745,     0.95745,     0.95745,     0.95745,     0.95745,     0.95745,     0.95745,     0.95745,     0.95745,        0.95,        0.95,        0.95,        0.95,        0.95,        0.95,        0.95,        0.95,        0.95,        0.95,        0.95,        0.95,        0.95,        0.95,\n",
              "               0.95,        0.95,        0.95,        0.95,        0.95,        0.95,        0.95,        0.95,        0.95,        0.95,        0.95,        0.95,        0.95,        0.95,        0.95,        0.95,        0.95,        0.95,        0.95,        0.95,        0.95,        0.95,        0.95,\n",
              "               0.95,        0.95,        0.95,        0.95,        0.95,        0.95,        0.95,        0.95,        0.95,        0.95,        0.95,        0.95,        0.95,        0.95,        0.95,        0.95,        0.95,        0.95,        0.95,        0.95,        0.95,        0.95,        0.95,\n",
              "               0.95,        0.95,        0.95,        0.95,        0.95,        0.95,        0.95,        0.95,        0.95,        0.95,        0.95,        0.95,        0.95,        0.95,        0.95,        0.95,        0.95,        0.95,        0.95,        0.95,        0.95,        0.95,        0.95,\n",
              "               0.95,        0.95,        0.95,        0.95,        0.95,        0.95,        0.95,        0.95,        0.95,        0.95,        0.95,        0.95,        0.95,        0.95,        0.95,        0.95,        0.95,        0.95,        0.95,        0.95,        0.95,        0.95,        0.95,\n",
              "               0.95,        0.95,        0.95,        0.95,        0.95,        0.95,        0.95,        0.95,        0.95,        0.95,        0.95,        0.95,        0.95,        0.95,        0.95,        0.95,        0.95,        0.95,        0.95,        0.95,        0.95,        0.95,        0.95,\n",
              "               0.95,        0.95,        0.95,        0.95,        0.95,        0.95,        0.95,        0.95,        0.95,        0.95,        0.95,        0.95,        0.95,        0.95,        0.95,        0.95,        0.95,        0.95,        0.95,        0.95,        0.95,        0.95,        0.95,\n",
              "               0.95,        0.95,        0.95,        0.95,        0.95,        0.95,        0.95,        0.95,        0.95,        0.95,        0.95,        0.95,        0.95,        0.95,        0.95,        0.95,        0.95,        0.95,        0.95,        0.95,        0.95,        0.95,        0.95,\n",
              "               0.95,        0.95,        0.95,        0.95,        0.95,        0.95,        0.95,        0.95,        0.95,        0.95,        0.95,        0.95,        0.95,        0.95,        0.95,        0.95,        0.95,        0.95,        0.95,        0.95,        0.95,        0.95,        0.95,\n",
              "               0.95,        0.95,        0.95,        0.95,        0.95,        0.95,        0.95,        0.95,        0.95,        0.95,        0.95,        0.95,        0.95,        0.95,        0.95,        0.95,        0.95,        0.95,        0.95,        0.95,        0.95,        0.95,        0.95,\n",
              "               0.95,        0.95,        0.95,        0.95,        0.95,        0.95,        0.95,        0.95,        0.95,        0.95,        0.95,        0.95,        0.95,        0.95,        0.95,        0.95,        0.95,        0.95,        0.95,        0.95,        0.95,        0.95,        0.95,\n",
              "               0.95,        0.95,        0.95,        0.95,        0.95,        0.95,        0.95,        0.95,        0.95,        0.95,        0.95,        0.95,        0.95,        0.95,        0.95,        0.95,        0.95,        0.95,        0.95,        0.95,        0.95,        0.95,        0.95,\n",
              "               0.95,        0.95,        0.95,        0.95,        0.95,        0.95,        0.95,        0.95,        0.95,        0.95,        0.95,        0.95,        0.95,        0.95,        0.95,        0.95,        0.95,        0.95,        0.95,        0.95,        0.95,        0.95,        0.95,\n",
              "               0.95,        0.95,        0.95,        0.95,        0.95,        0.95,        0.95,        0.95,        0.95,        0.95,        0.95,        0.95,        0.95,        0.95,        0.95,        0.95,        0.95,        0.95,        0.95,        0.95,        0.95,        0.95,        0.95,\n",
              "               0.95,        0.95,        0.95,        0.95,        0.95,        0.95,        0.95,        0.95,        0.95,        0.95,        0.95,        0.95,        0.95,        0.95,        0.95,        0.95,        0.95,        0.95,        0.95,        0.95,        0.95,        0.95,        0.95,\n",
              "               0.95,        0.95,        0.95,        0.95,        0.95,        0.95,        0.95,        0.95,        0.95,        0.95,        0.95,        0.95,        0.95,        0.95,        0.95,        0.95,        0.95,        0.95,        0.95,        0.95,        0.95,        0.95,        0.95,\n",
              "               0.95,        0.95,        0.95,        0.95,        0.95,        0.95,        0.95,        0.95,     0.93519,     0.93519,     0.93519,     0.93519,     0.93519,     0.93519,     0.93519,     0.93519,     0.93519,     0.93519,     0.93519,     0.93519,     0.93519,     0.93519,     0.93519,\n",
              "            0.93519,     0.93519,     0.93519,     0.93519,     0.93519,     0.93519,     0.93519,     0.93519,     0.93519,     0.93519,     0.93519,     0.93519,     0.93519,     0.93519,     0.93519,     0.93519,     0.93519,     0.93519,     0.93519,     0.93519,     0.93519,     0.93519,     0.93519,\n",
              "            0.93519,     0.93519,     0.93519,     0.93519,     0.93519,     0.93519,     0.92727,     0.92727,     0.92727,     0.92727,     0.92727,     0.92727,     0.92727,     0.92727,     0.91964,     0.91964,     0.91964,     0.91964,     0.91964,     0.91964,     0.91964,     0.91304,     0.91304,\n",
              "            0.91304,     0.91304,     0.91304,     0.91304,     0.91304,     0.91304,     0.91304,     0.91304,     0.91304,     0.91304,     0.91304,     0.91304,     0.91304,     0.90598,     0.90598,     0.90598,     0.90598,     0.90598,     0.90598,     0.90598,     0.89916,     0.89916,     0.89916,\n",
              "            0.89916,     0.89916,     0.89916,     0.89916,     0.89431,     0.89431,     0.89431,     0.89431,     0.89431,     0.89431,     0.89431,     0.89431,     0.89431,     0.89431,     0.89431,     0.89431,     0.89431,     0.89431,     0.89431,     0.89431,     0.89431,     0.89431,     0.89431,\n",
              "            0.89431,     0.89431,     0.89431,     0.89431,       0.875,       0.875,       0.875,       0.875,       0.875,       0.875,       0.875,       0.875,       0.875,       0.875,       0.875,       0.875,       0.875,       0.875,     0.85714,     0.85714,     0.85714,     0.85714,     0.85714,\n",
              "            0.85714,     0.85714,     0.85714,     0.85714,     0.85714,     0.85714,     0.85714,     0.85714,     0.85714,     0.85714,      0.8042,      0.8042,      0.8042,      0.8042,      0.8042,      0.8042,      0.8042,     0.64804,     0.64804,     0.64804,     0.64804,     0.64804,     0.64804,\n",
              "            0.64804,     0.64804,     0.60309,     0.60309,     0.60309,     0.60309,     0.60309,     0.60309,     0.60309,     0.59296,     0.59296,     0.59296,     0.59296,     0.59296,     0.59296,     0.59296,     0.41176,     0.41176,     0.41176,     0.41176,     0.41176,     0.41176,     0.41176,\n",
              "            0.41176,     0.38961,     0.38961,     0.38961,     0.38961,     0.38961,     0.38961,     0.38961,     0.37117,     0.37117,     0.37117,     0.37117,     0.37117,     0.37117,     0.37117,     0.31771,     0.31771,     0.31771,     0.31771,     0.31771,     0.31771,     0.31771,     0.31771,\n",
              "            0.25361,     0.25361,     0.25361,     0.25361,     0.25361,     0.25361,     0.25361,     0.22628,     0.22628,     0.22628,     0.22628,     0.22628,     0.22628,     0.22628,      0.1327,      0.1327,      0.1327,      0.1327,      0.1327,      0.1327,      0.1327,      0.1327,    0.081606,\n",
              "           0.081606,    0.081606,    0.081606,    0.081606,    0.081606,    0.081606,    0.068797,    0.068797,    0.068797,    0.068797,    0.068797,    0.068797,    0.068797,    0.038444,    0.037861,    0.037279,    0.036696,    0.036114,    0.035532,    0.034949,    0.034367,    0.033784,    0.033202,\n",
              "           0.032619,    0.032037,    0.031454,    0.030872,    0.030289,    0.029707,    0.029124,    0.028542,    0.027959,    0.027377,    0.026794,    0.026212,    0.025629,    0.025047,    0.024464,    0.023882,    0.023299,    0.022717,    0.022134,    0.021552,    0.020969,    0.020387,    0.019804,\n",
              "           0.019222,    0.018639,    0.018057,    0.017475,    0.016892,     0.01631,    0.015727,    0.015145,    0.014562,     0.01398,    0.013397,    0.012815,    0.012232,     0.01165,    0.011067,    0.010485,   0.0099022,   0.0093197,   0.0087373,   0.0081548,   0.0075723,   0.0069898,   0.0064073,\n",
              "          0.0058248,   0.0052424,   0.0046599,   0.0040774,   0.0034949,   0.0029124,   0.0023299,   0.0017475,    0.001165,  0.00058248,           0]]), 'Recall', 'Precision'], [array([          0,    0.001001,    0.002002,    0.003003,    0.004004,    0.005005,    0.006006,    0.007007,    0.008008,    0.009009,     0.01001,    0.011011,    0.012012,    0.013013,    0.014014,    0.015015,    0.016016,    0.017017,    0.018018,    0.019019,     0.02002,    0.021021,    0.022022,    0.023023,\n",
              "          0.024024,    0.025025,    0.026026,    0.027027,    0.028028,    0.029029,     0.03003,    0.031031,    0.032032,    0.033033,    0.034034,    0.035035,    0.036036,    0.037037,    0.038038,    0.039039,     0.04004,    0.041041,    0.042042,    0.043043,    0.044044,    0.045045,    0.046046,    0.047047,\n",
              "          0.048048,    0.049049,     0.05005,    0.051051,    0.052052,    0.053053,    0.054054,    0.055055,    0.056056,    0.057057,    0.058058,    0.059059,     0.06006,    0.061061,    0.062062,    0.063063,    0.064064,    0.065065,    0.066066,    0.067067,    0.068068,    0.069069,     0.07007,    0.071071,\n",
              "          0.072072,    0.073073,    0.074074,    0.075075,    0.076076,    0.077077,    0.078078,    0.079079,     0.08008,    0.081081,    0.082082,    0.083083,    0.084084,    0.085085,    0.086086,    0.087087,    0.088088,    0.089089,     0.09009,    0.091091,    0.092092,    0.093093,    0.094094,    0.095095,\n",
              "          0.096096,    0.097097,    0.098098,    0.099099,      0.1001,      0.1011,      0.1021,      0.1031,      0.1041,     0.10511,     0.10611,     0.10711,     0.10811,     0.10911,     0.11011,     0.11111,     0.11211,     0.11311,     0.11411,     0.11512,     0.11612,     0.11712,     0.11812,     0.11912,\n",
              "           0.12012,     0.12112,     0.12212,     0.12312,     0.12412,     0.12513,     0.12613,     0.12713,     0.12813,     0.12913,     0.13013,     0.13113,     0.13213,     0.13313,     0.13413,     0.13514,     0.13614,     0.13714,     0.13814,     0.13914,     0.14014,     0.14114,     0.14214,     0.14314,\n",
              "           0.14414,     0.14515,     0.14615,     0.14715,     0.14815,     0.14915,     0.15015,     0.15115,     0.15215,     0.15315,     0.15415,     0.15516,     0.15616,     0.15716,     0.15816,     0.15916,     0.16016,     0.16116,     0.16216,     0.16316,     0.16416,     0.16517,     0.16617,     0.16717,\n",
              "           0.16817,     0.16917,     0.17017,     0.17117,     0.17217,     0.17317,     0.17417,     0.17518,     0.17618,     0.17718,     0.17818,     0.17918,     0.18018,     0.18118,     0.18218,     0.18318,     0.18418,     0.18519,     0.18619,     0.18719,     0.18819,     0.18919,     0.19019,     0.19119,\n",
              "           0.19219,     0.19319,     0.19419,      0.1952,      0.1962,      0.1972,      0.1982,      0.1992,      0.2002,      0.2012,      0.2022,      0.2032,      0.2042,     0.20521,     0.20621,     0.20721,     0.20821,     0.20921,     0.21021,     0.21121,     0.21221,     0.21321,     0.21421,     0.21522,\n",
              "           0.21622,     0.21722,     0.21822,     0.21922,     0.22022,     0.22122,     0.22222,     0.22322,     0.22422,     0.22523,     0.22623,     0.22723,     0.22823,     0.22923,     0.23023,     0.23123,     0.23223,     0.23323,     0.23423,     0.23524,     0.23624,     0.23724,     0.23824,     0.23924,\n",
              "           0.24024,     0.24124,     0.24224,     0.24324,     0.24424,     0.24525,     0.24625,     0.24725,     0.24825,     0.24925,     0.25025,     0.25125,     0.25225,     0.25325,     0.25425,     0.25526,     0.25626,     0.25726,     0.25826,     0.25926,     0.26026,     0.26126,     0.26226,     0.26326,\n",
              "           0.26426,     0.26527,     0.26627,     0.26727,     0.26827,     0.26927,     0.27027,     0.27127,     0.27227,     0.27327,     0.27427,     0.27528,     0.27628,     0.27728,     0.27828,     0.27928,     0.28028,     0.28128,     0.28228,     0.28328,     0.28428,     0.28529,     0.28629,     0.28729,\n",
              "           0.28829,     0.28929,     0.29029,     0.29129,     0.29229,     0.29329,     0.29429,      0.2953,      0.2963,      0.2973,      0.2983,      0.2993,      0.3003,      0.3013,      0.3023,      0.3033,      0.3043,     0.30531,     0.30631,     0.30731,     0.30831,     0.30931,     0.31031,     0.31131,\n",
              "           0.31231,     0.31331,     0.31431,     0.31532,     0.31632,     0.31732,     0.31832,     0.31932,     0.32032,     0.32132,     0.32232,     0.32332,     0.32432,     0.32533,     0.32633,     0.32733,     0.32833,     0.32933,     0.33033,     0.33133,     0.33233,     0.33333,     0.33433,     0.33534,\n",
              "           0.33634,     0.33734,     0.33834,     0.33934,     0.34034,     0.34134,     0.34234,     0.34334,     0.34434,     0.34535,     0.34635,     0.34735,     0.34835,     0.34935,     0.35035,     0.35135,     0.35235,     0.35335,     0.35435,     0.35536,     0.35636,     0.35736,     0.35836,     0.35936,\n",
              "           0.36036,     0.36136,     0.36236,     0.36336,     0.36436,     0.36537,     0.36637,     0.36737,     0.36837,     0.36937,     0.37037,     0.37137,     0.37237,     0.37337,     0.37437,     0.37538,     0.37638,     0.37738,     0.37838,     0.37938,     0.38038,     0.38138,     0.38238,     0.38338,\n",
              "           0.38438,     0.38539,     0.38639,     0.38739,     0.38839,     0.38939,     0.39039,     0.39139,     0.39239,     0.39339,     0.39439,      0.3954,      0.3964,      0.3974,      0.3984,      0.3994,      0.4004,      0.4014,      0.4024,      0.4034,      0.4044,     0.40541,     0.40641,     0.40741,\n",
              "           0.40841,     0.40941,     0.41041,     0.41141,     0.41241,     0.41341,     0.41441,     0.41542,     0.41642,     0.41742,     0.41842,     0.41942,     0.42042,     0.42142,     0.42242,     0.42342,     0.42442,     0.42543,     0.42643,     0.42743,     0.42843,     0.42943,     0.43043,     0.43143,\n",
              "           0.43243,     0.43343,     0.43443,     0.43544,     0.43644,     0.43744,     0.43844,     0.43944,     0.44044,     0.44144,     0.44244,     0.44344,     0.44444,     0.44545,     0.44645,     0.44745,     0.44845,     0.44945,     0.45045,     0.45145,     0.45245,     0.45345,     0.45445,     0.45546,\n",
              "           0.45646,     0.45746,     0.45846,     0.45946,     0.46046,     0.46146,     0.46246,     0.46346,     0.46446,     0.46547,     0.46647,     0.46747,     0.46847,     0.46947,     0.47047,     0.47147,     0.47247,     0.47347,     0.47447,     0.47548,     0.47648,     0.47748,     0.47848,     0.47948,\n",
              "           0.48048,     0.48148,     0.48248,     0.48348,     0.48448,     0.48549,     0.48649,     0.48749,     0.48849,     0.48949,     0.49049,     0.49149,     0.49249,     0.49349,     0.49449,      0.4955,      0.4965,      0.4975,      0.4985,      0.4995,      0.5005,      0.5015,      0.5025,      0.5035,\n",
              "            0.5045,     0.50551,     0.50651,     0.50751,     0.50851,     0.50951,     0.51051,     0.51151,     0.51251,     0.51351,     0.51451,     0.51552,     0.51652,     0.51752,     0.51852,     0.51952,     0.52052,     0.52152,     0.52252,     0.52352,     0.52452,     0.52553,     0.52653,     0.52753,\n",
              "           0.52853,     0.52953,     0.53053,     0.53153,     0.53253,     0.53353,     0.53453,     0.53554,     0.53654,     0.53754,     0.53854,     0.53954,     0.54054,     0.54154,     0.54254,     0.54354,     0.54454,     0.54555,     0.54655,     0.54755,     0.54855,     0.54955,     0.55055,     0.55155,\n",
              "           0.55255,     0.55355,     0.55455,     0.55556,     0.55656,     0.55756,     0.55856,     0.55956,     0.56056,     0.56156,     0.56256,     0.56356,     0.56456,     0.56557,     0.56657,     0.56757,     0.56857,     0.56957,     0.57057,     0.57157,     0.57257,     0.57357,     0.57457,     0.57558,\n",
              "           0.57658,     0.57758,     0.57858,     0.57958,     0.58058,     0.58158,     0.58258,     0.58358,     0.58458,     0.58559,     0.58659,     0.58759,     0.58859,     0.58959,     0.59059,     0.59159,     0.59259,     0.59359,     0.59459,      0.5956,      0.5966,      0.5976,      0.5986,      0.5996,\n",
              "            0.6006,      0.6016,      0.6026,      0.6036,      0.6046,     0.60561,     0.60661,     0.60761,     0.60861,     0.60961,     0.61061,     0.61161,     0.61261,     0.61361,     0.61461,     0.61562,     0.61662,     0.61762,     0.61862,     0.61962,     0.62062,     0.62162,     0.62262,     0.62362,\n",
              "           0.62462,     0.62563,     0.62663,     0.62763,     0.62863,     0.62963,     0.63063,     0.63163,     0.63263,     0.63363,     0.63463,     0.63564,     0.63664,     0.63764,     0.63864,     0.63964,     0.64064,     0.64164,     0.64264,     0.64364,     0.64464,     0.64565,     0.64665,     0.64765,\n",
              "           0.64865,     0.64965,     0.65065,     0.65165,     0.65265,     0.65365,     0.65465,     0.65566,     0.65666,     0.65766,     0.65866,     0.65966,     0.66066,     0.66166,     0.66266,     0.66366,     0.66466,     0.66567,     0.66667,     0.66767,     0.66867,     0.66967,     0.67067,     0.67167,\n",
              "           0.67267,     0.67367,     0.67467,     0.67568,     0.67668,     0.67768,     0.67868,     0.67968,     0.68068,     0.68168,     0.68268,     0.68368,     0.68468,     0.68569,     0.68669,     0.68769,     0.68869,     0.68969,     0.69069,     0.69169,     0.69269,     0.69369,     0.69469,      0.6957,\n",
              "            0.6967,      0.6977,      0.6987,      0.6997,      0.7007,      0.7017,      0.7027,      0.7037,      0.7047,     0.70571,     0.70671,     0.70771,     0.70871,     0.70971,     0.71071,     0.71171,     0.71271,     0.71371,     0.71471,     0.71572,     0.71672,     0.71772,     0.71872,     0.71972,\n",
              "           0.72072,     0.72172,     0.72272,     0.72372,     0.72472,     0.72573,     0.72673,     0.72773,     0.72873,     0.72973,     0.73073,     0.73173,     0.73273,     0.73373,     0.73473,     0.73574,     0.73674,     0.73774,     0.73874,     0.73974,     0.74074,     0.74174,     0.74274,     0.74374,\n",
              "           0.74474,     0.74575,     0.74675,     0.74775,     0.74875,     0.74975,     0.75075,     0.75175,     0.75275,     0.75375,     0.75475,     0.75576,     0.75676,     0.75776,     0.75876,     0.75976,     0.76076,     0.76176,     0.76276,     0.76376,     0.76476,     0.76577,     0.76677,     0.76777,\n",
              "           0.76877,     0.76977,     0.77077,     0.77177,     0.77277,     0.77377,     0.77477,     0.77578,     0.77678,     0.77778,     0.77878,     0.77978,     0.78078,     0.78178,     0.78278,     0.78378,     0.78478,     0.78579,     0.78679,     0.78779,     0.78879,     0.78979,     0.79079,     0.79179,\n",
              "           0.79279,     0.79379,     0.79479,      0.7958,      0.7968,      0.7978,      0.7988,      0.7998,      0.8008,      0.8018,      0.8028,      0.8038,      0.8048,     0.80581,     0.80681,     0.80781,     0.80881,     0.80981,     0.81081,     0.81181,     0.81281,     0.81381,     0.81481,     0.81582,\n",
              "           0.81682,     0.81782,     0.81882,     0.81982,     0.82082,     0.82182,     0.82282,     0.82382,     0.82482,     0.82583,     0.82683,     0.82783,     0.82883,     0.82983,     0.83083,     0.83183,     0.83283,     0.83383,     0.83483,     0.83584,     0.83684,     0.83784,     0.83884,     0.83984,\n",
              "           0.84084,     0.84184,     0.84284,     0.84384,     0.84484,     0.84585,     0.84685,     0.84785,     0.84885,     0.84985,     0.85085,     0.85185,     0.85285,     0.85385,     0.85485,     0.85586,     0.85686,     0.85786,     0.85886,     0.85986,     0.86086,     0.86186,     0.86286,     0.86386,\n",
              "           0.86486,     0.86587,     0.86687,     0.86787,     0.86887,     0.86987,     0.87087,     0.87187,     0.87287,     0.87387,     0.87487,     0.87588,     0.87688,     0.87788,     0.87888,     0.87988,     0.88088,     0.88188,     0.88288,     0.88388,     0.88488,     0.88589,     0.88689,     0.88789,\n",
              "           0.88889,     0.88989,     0.89089,     0.89189,     0.89289,     0.89389,     0.89489,      0.8959,      0.8969,      0.8979,      0.8989,      0.8999,      0.9009,      0.9019,      0.9029,      0.9039,      0.9049,     0.90591,     0.90691,     0.90791,     0.90891,     0.90991,     0.91091,     0.91191,\n",
              "           0.91291,     0.91391,     0.91491,     0.91592,     0.91692,     0.91792,     0.91892,     0.91992,     0.92092,     0.92192,     0.92292,     0.92392,     0.92492,     0.92593,     0.92693,     0.92793,     0.92893,     0.92993,     0.93093,     0.93193,     0.93293,     0.93393,     0.93493,     0.93594,\n",
              "           0.93694,     0.93794,     0.93894,     0.93994,     0.94094,     0.94194,     0.94294,     0.94394,     0.94494,     0.94595,     0.94695,     0.94795,     0.94895,     0.94995,     0.95095,     0.95195,     0.95295,     0.95395,     0.95495,     0.95596,     0.95696,     0.95796,     0.95896,     0.95996,\n",
              "           0.96096,     0.96196,     0.96296,     0.96396,     0.96496,     0.96597,     0.96697,     0.96797,     0.96897,     0.96997,     0.97097,     0.97197,     0.97297,     0.97397,     0.97497,     0.97598,     0.97698,     0.97798,     0.97898,     0.97998,     0.98098,     0.98198,     0.98298,     0.98398,\n",
              "           0.98498,     0.98599,     0.98699,     0.98799,     0.98899,     0.98999,     0.99099,     0.99199,     0.99299,     0.99399,     0.99499,       0.996,       0.997,       0.998,       0.999,           1]), array([[   0.073966,    0.073966,     0.16233,      0.2246,     0.26983,     0.31164,     0.34069,     0.36328,     0.38689,     0.40988,     0.43034,     0.44897,     0.46567,     0.47526,     0.49704,     0.52044,     0.52629,      0.5388,     0.55024,     0.56198,     0.56385,     0.56952,     0.57787,\n",
              "            0.58738,     0.59473,     0.59819,     0.60306,     0.60809,     0.62345,     0.63417,     0.63599,     0.63999,     0.64439,     0.65764,     0.66382,     0.67068,     0.67218,     0.67674,     0.68068,     0.68325,     0.68689,     0.69035,     0.69115,     0.69195,     0.69598,     0.69983,\n",
              "            0.70438,     0.70075,     0.70502,     0.70703,     0.70567,     0.70678,     0.70987,     0.71089,     0.71305,     0.71627,      0.7177,     0.72489,     0.72969,     0.73066,     0.73163,     0.73617,     0.73534,     0.73401,     0.73268,      0.7375,     0.73825,       0.739,     0.74039,\n",
              "            0.74292,     0.74467,     0.74604,     0.74693,     0.74729,     0.74765,       0.748,     0.74836,     0.74872,     0.74908,     0.75033,     0.75238,     0.75816,     0.76174,     0.76227,      0.7628,     0.76332,     0.76385,     0.76461,     0.76563,     0.76664,     0.76923,     0.77056,\n",
              "            0.77254,     0.77481,     0.77527,     0.77574,      0.7762,     0.77666,     0.77723,     0.77823,     0.77924,     0.78063,      0.7823,     0.78292,     0.78353,     0.78413,     0.78474,     0.78539,     0.78607,     0.78675,     0.78743,     0.79136,     0.79637,     0.79715,     0.79793,\n",
              "            0.79865,     0.79895,     0.79925,     0.79956,     0.79986,     0.80016,     0.80046,     0.80077,     0.80107,     0.80137,      0.8044,      0.8047,       0.805,     0.80529,     0.80559,     0.80589,     0.80619,     0.80649,     0.80679,     0.80705,      0.8072,     0.80735,      0.8075,\n",
              "            0.80765,      0.8078,     0.80796,     0.80811,     0.80826,     0.80841,     0.80856,     0.80871,     0.80886,     0.80901,     0.80916,     0.80931,     0.80946,     0.80961,     0.80976,     0.80995,     0.81023,     0.81052,      0.8108,     0.81108,     0.81137,     0.81165,     0.81193,\n",
              "            0.81221,      0.8125,     0.81507,     0.81642,     0.81727,     0.81812,     0.81932,     0.82082,     0.82214,     0.82335,     0.82423,      0.8233,     0.82236,     0.82142,     0.82048,     0.82051,     0.82109,     0.82167,     0.82225,     0.82283,     0.82332,     0.82375,     0.82417,\n",
              "            0.82459,     0.82501,     0.82543,     0.82585,     0.82612,      0.8262,     0.82628,     0.82636,     0.82644,     0.82652,      0.8266,     0.82668,     0.82676,     0.82684,     0.82692,       0.827,     0.82708,     0.82716,     0.82724,     0.82732,      0.8274,     0.82748,     0.82756,\n",
              "            0.82764,     0.82772,      0.8278,     0.82788,     0.82796,     0.82804,     0.82812,      0.8282,     0.82828,     0.82836,     0.82844,     0.82852,      0.8286,     0.82867,     0.82875,     0.82883,     0.82891,     0.82899,     0.82907,     0.82977,     0.83065,     0.83154,     0.83224,\n",
              "            0.83261,     0.83298,     0.83335,     0.83372,     0.83408,     0.83445,     0.83482,     0.83518,     0.83551,     0.83584,     0.83617,     0.83649,     0.83682,     0.83715,     0.83747,      0.8378,     0.83813,     0.83855,     0.83902,     0.83949,     0.83996,     0.84043,      0.8409,\n",
              "            0.84134,     0.84154,     0.84173,     0.84193,     0.84212,     0.84231,     0.84251,      0.8427,      0.8429,     0.84309,     0.84328,     0.84348,     0.84367,     0.84386,     0.84406,     0.84425,     0.84444,     0.84461,     0.84478,     0.84495,     0.84512,     0.84529,     0.84546,\n",
              "            0.84563,      0.8458,     0.84597,     0.84614,     0.84631,     0.84648,     0.84665,     0.84681,     0.84698,     0.84715,     0.84732,     0.84749,     0.84735,     0.84684,     0.84632,      0.8458,     0.84528,     0.84476,     0.84424,     0.84372,     0.84325,     0.84304,     0.84283,\n",
              "            0.84262,     0.84241,      0.8422,     0.84198,     0.84177,     0.84156,     0.84135,     0.84114,     0.84093,     0.84072,      0.8405,     0.84029,     0.84008,     0.83987,     0.83966,     0.83945,     0.83923,     0.83902,     0.83957,     0.84049,     0.84142,     0.84252,     0.84415,\n",
              "            0.84546,     0.84603,      0.8466,     0.84717,     0.84774,     0.84831,     0.84804,      0.8474,     0.84676,     0.84612,     0.84548,     0.84484,      0.8442,     0.84151,     0.83984,     0.84021,     0.84058,     0.84094,     0.84131,     0.84168,     0.84204,     0.84241,     0.84277,\n",
              "            0.84297,     0.84308,     0.84318,     0.84328,     0.84338,     0.84348,     0.84359,     0.84369,     0.84379,     0.84389,     0.84399,     0.84409,      0.8442,      0.8443,      0.8444,      0.8445,      0.8446,      0.8447,      0.8448,     0.84491,     0.84501,     0.84511,     0.84521,\n",
              "            0.84531,     0.84541,     0.84551,     0.84561,     0.84572,     0.84582,     0.84592,     0.84602,     0.84612,     0.84697,     0.84819,      0.8494,     0.84916,     0.84889,     0.84862,     0.84835,     0.84808,     0.84781,     0.84755,     0.84728,     0.84701,     0.84674,     0.84647,\n",
              "             0.8462,     0.84593,     0.84566,     0.84539,     0.84512,      0.8445,     0.84335,      0.8422,     0.84105,     0.83915,      0.8365,     0.83599,     0.83606,     0.83613,      0.8362,     0.83627,     0.83634,      0.8364,     0.83647,     0.83654,     0.83661,     0.83668,     0.83675,\n",
              "            0.83682,     0.83689,     0.83695,     0.83702,     0.83709,     0.83716,     0.83723,      0.8373,     0.83737,     0.83744,      0.8375,     0.83757,     0.83764,     0.83771,     0.83778,     0.83785,     0.83792,     0.83798,     0.83805,     0.83812,     0.83819,     0.83826,     0.83833,\n",
              "            0.83839,     0.83846,     0.83853,      0.8386,     0.83867,     0.83874,      0.8388,     0.83887,     0.83894,     0.83901,     0.83908,     0.83915,     0.83921,     0.83841,      0.8376,     0.83679,     0.83597,     0.83515,     0.83529,     0.83698,     0.83694,     0.83458,     0.83337,\n",
              "            0.83346,     0.83354,     0.83362,     0.83371,     0.83379,     0.83387,     0.83396,     0.83404,     0.83412,     0.83421,     0.83429,     0.83437,     0.83446,     0.83454,     0.83462,      0.8347,     0.83479,     0.83487,     0.83495,     0.83504,     0.83512,      0.8352,     0.83529,\n",
              "            0.83537,     0.83545,     0.83553,     0.83562,      0.8357,     0.83578,     0.83587,     0.83595,     0.83603,     0.83611,      0.8362,     0.83628,     0.83636,     0.83644,     0.83653,     0.83661,     0.83655,     0.83632,     0.83609,     0.83587,     0.83564,     0.83541,     0.83519,\n",
              "            0.83496,     0.83473,     0.83451,     0.83428,     0.83405,     0.83382,      0.8336,     0.83337,     0.83314,     0.83291,     0.83269,     0.83246,     0.83223,       0.832,     0.83141,     0.83081,     0.83021,     0.82961,     0.82901,      0.8284,      0.8278,     0.82762,     0.82934,\n",
              "            0.83055,     0.83015,     0.82974,     0.82934,     0.82894,     0.82853,     0.82813,     0.82772,     0.82732,     0.82691,     0.82651,      0.8261,     0.82841,     0.82678,     0.82515,     0.82501,     0.82588,     0.82674,     0.82761,     0.82771,     0.82748,     0.82725,     0.82702,\n",
              "            0.82679,     0.82656,     0.82633,      0.8261,     0.82587,     0.82564,     0.82541,     0.82518,     0.82495,     0.82472,     0.82449,     0.82426,     0.82403,      0.8238,     0.82357,     0.82334,     0.82311,     0.82284,     0.82256,     0.82227,     0.82199,      0.8217,     0.82142,\n",
              "            0.82113,     0.82085,     0.82057,     0.82028,        0.82,     0.81971,     0.81942,     0.81914,     0.81885,     0.81857,     0.81828,     0.81305,      0.8127,     0.81236,     0.81201,     0.81166,     0.81131,     0.81096,     0.81061,     0.81026,     0.80991,     0.80956,     0.80921,\n",
              "            0.80886,     0.80851,     0.80803,     0.80743,     0.80683,     0.80623,     0.80563,     0.80503,     0.80443,     0.80382,     0.80321,     0.80257,     0.80193,     0.80128,     0.80064,         0.8,     0.79935,      0.7987,     0.79926,     0.80155,     0.80497,     0.80408,     0.80304,\n",
              "              0.802,     0.80095,     0.79954,     0.79482,     0.79438,     0.79394,      0.7935,     0.79306,     0.79262,     0.79218,     0.79173,     0.79129,     0.79085,     0.79041,     0.78996,     0.78922,     0.78803,     0.78685,     0.78566,     0.78444,     0.78175,     0.77899,     0.77536,\n",
              "            0.77227,     0.76952,     0.76497,     0.76209,     0.76049,     0.75889,     0.75729,     0.75569,     0.75408,     0.75246,     0.75062,     0.74872,     0.74682,      0.7455,     0.74423,     0.74295,     0.74167,     0.73802,     0.72965,     0.72834,     0.72703,     0.72572,     0.72441,\n",
              "            0.72265,     0.72067,     0.71868,     0.69886,     0.69356,     0.69045,     0.68698,     0.68279,     0.67673,     0.66853,      0.6671,     0.66566,     0.66422,      0.6622,     0.65959,     0.65697,     0.65434,     0.65171,     0.64953,     0.64763,     0.64573,     0.64468,     0.64681,\n",
              "            0.64483,     0.64146,     0.63923,     0.63729,     0.63535,     0.63362,     0.63225,     0.63088,     0.62951,     0.62813,     0.62513,     0.62062,     0.61887,     0.61713,     0.61537,     0.61358,     0.61157,     0.60955,     0.60752,      0.6018,     0.59821,      0.5958,     0.59339,\n",
              "            0.59058,     0.58766,     0.58539,     0.58417,     0.58294,     0.58172,     0.58049,     0.57926,      0.5709,      0.5699,      0.5689,      0.5679,      0.5669,      0.5659,     0.56489,     0.55508,     0.54195,     0.54311,     0.54427,     0.54242,      0.5398,     0.53718,     0.53224,\n",
              "            0.52838,      0.5266,     0.52482,     0.52303,     0.52113,     0.51323,     0.50996,     0.50668,     0.50372,     0.50096,     0.49819,     0.49038,      0.4915,     0.49009,     0.48868,     0.48726,     0.48585,     0.48443,     0.48229,     0.47886,     0.47541,     0.46714,     0.45405,\n",
              "            0.44878,      0.4474,     0.44602,     0.44464,     0.44326,     0.44187,     0.42924,     0.41205,     0.40937,     0.40668,     0.39307,     0.38427,     0.37778,     0.37423,     0.37142,      0.3686,     0.36602,     0.36381,      0.3616,     0.35938,     0.35715,     0.35561,     0.35406,\n",
              "            0.35251,     0.35096,      0.3494,     0.34785,     0.32612,     0.31916,     0.31461,     0.31108,     0.30754,     0.30261,     0.29724,     0.29735,     0.29683,     0.29321,     0.28957,     0.28272,     0.27503,     0.27131,     0.26758,     0.26182,     0.25322,     0.22005,     0.21211,\n",
              "             0.2041,     0.19679,     0.19331,     0.18981,      0.1863,     0.16673,     0.15714,     0.15204,     0.13166,     0.11851,    0.086713,    0.069963,     0.06762,    0.065272,    0.062918,    0.060559,    0.058193,     0.05185,    0.042986,     0.04106,     0.03913,    0.037196,    0.035258,\n",
              "           0.033317,    0.031371,    0.029422,    0.025733,    0.021527,    0.017303,           0,           0,           0,           0,           0,           0,           0,           0,           0,           0,           0,           0,           0,           0,           0,           0,           0,\n",
              "                  0,           0,           0,           0,           0,           0,           0,           0,           0,           0,           0,           0,           0,           0,           0,           0,           0,           0,           0,           0,           0,           0,           0,\n",
              "                  0,           0,           0,           0,           0,           0,           0,           0,           0,           0,           0,           0,           0,           0,           0,           0,           0,           0,           0,           0,           0,           0,           0,\n",
              "                  0,           0,           0,           0,           0,           0,           0,           0,           0,           0,           0,           0,           0,           0,           0,           0,           0,           0,           0,           0,           0,           0,           0,\n",
              "                  0,           0,           0,           0,           0,           0,           0,           0,           0,           0,           0,           0,           0,           0,           0,           0,           0,           0,           0,           0,           0,           0,           0,\n",
              "                  0,           0,           0,           0,           0,           0,           0,           0,           0,           0,           0,           0,           0,           0,           0,           0,           0,           0,           0,           0,           0,           0,           0,\n",
              "                  0,           0,           0,           0,           0,           0,           0,           0,           0,           0,           0,           0,           0,           0,           0,           0,           0,           0,           0,           0,           0,           0,           0,\n",
              "                  0,           0,           0,           0,           0,           0,           0,           0,           0,           0,           0]]), 'Confidence', 'F1'], [array([          0,    0.001001,    0.002002,    0.003003,    0.004004,    0.005005,    0.006006,    0.007007,    0.008008,    0.009009,     0.01001,    0.011011,    0.012012,    0.013013,    0.014014,    0.015015,    0.016016,    0.017017,    0.018018,    0.019019,     0.02002,    0.021021,    0.022022,    0.023023,\n",
              "          0.024024,    0.025025,    0.026026,    0.027027,    0.028028,    0.029029,     0.03003,    0.031031,    0.032032,    0.033033,    0.034034,    0.035035,    0.036036,    0.037037,    0.038038,    0.039039,     0.04004,    0.041041,    0.042042,    0.043043,    0.044044,    0.045045,    0.046046,    0.047047,\n",
              "          0.048048,    0.049049,     0.05005,    0.051051,    0.052052,    0.053053,    0.054054,    0.055055,    0.056056,    0.057057,    0.058058,    0.059059,     0.06006,    0.061061,    0.062062,    0.063063,    0.064064,    0.065065,    0.066066,    0.067067,    0.068068,    0.069069,     0.07007,    0.071071,\n",
              "          0.072072,    0.073073,    0.074074,    0.075075,    0.076076,    0.077077,    0.078078,    0.079079,     0.08008,    0.081081,    0.082082,    0.083083,    0.084084,    0.085085,    0.086086,    0.087087,    0.088088,    0.089089,     0.09009,    0.091091,    0.092092,    0.093093,    0.094094,    0.095095,\n",
              "          0.096096,    0.097097,    0.098098,    0.099099,      0.1001,      0.1011,      0.1021,      0.1031,      0.1041,     0.10511,     0.10611,     0.10711,     0.10811,     0.10911,     0.11011,     0.11111,     0.11211,     0.11311,     0.11411,     0.11512,     0.11612,     0.11712,     0.11812,     0.11912,\n",
              "           0.12012,     0.12112,     0.12212,     0.12312,     0.12412,     0.12513,     0.12613,     0.12713,     0.12813,     0.12913,     0.13013,     0.13113,     0.13213,     0.13313,     0.13413,     0.13514,     0.13614,     0.13714,     0.13814,     0.13914,     0.14014,     0.14114,     0.14214,     0.14314,\n",
              "           0.14414,     0.14515,     0.14615,     0.14715,     0.14815,     0.14915,     0.15015,     0.15115,     0.15215,     0.15315,     0.15415,     0.15516,     0.15616,     0.15716,     0.15816,     0.15916,     0.16016,     0.16116,     0.16216,     0.16316,     0.16416,     0.16517,     0.16617,     0.16717,\n",
              "           0.16817,     0.16917,     0.17017,     0.17117,     0.17217,     0.17317,     0.17417,     0.17518,     0.17618,     0.17718,     0.17818,     0.17918,     0.18018,     0.18118,     0.18218,     0.18318,     0.18418,     0.18519,     0.18619,     0.18719,     0.18819,     0.18919,     0.19019,     0.19119,\n",
              "           0.19219,     0.19319,     0.19419,      0.1952,      0.1962,      0.1972,      0.1982,      0.1992,      0.2002,      0.2012,      0.2022,      0.2032,      0.2042,     0.20521,     0.20621,     0.20721,     0.20821,     0.20921,     0.21021,     0.21121,     0.21221,     0.21321,     0.21421,     0.21522,\n",
              "           0.21622,     0.21722,     0.21822,     0.21922,     0.22022,     0.22122,     0.22222,     0.22322,     0.22422,     0.22523,     0.22623,     0.22723,     0.22823,     0.22923,     0.23023,     0.23123,     0.23223,     0.23323,     0.23423,     0.23524,     0.23624,     0.23724,     0.23824,     0.23924,\n",
              "           0.24024,     0.24124,     0.24224,     0.24324,     0.24424,     0.24525,     0.24625,     0.24725,     0.24825,     0.24925,     0.25025,     0.25125,     0.25225,     0.25325,     0.25425,     0.25526,     0.25626,     0.25726,     0.25826,     0.25926,     0.26026,     0.26126,     0.26226,     0.26326,\n",
              "           0.26426,     0.26527,     0.26627,     0.26727,     0.26827,     0.26927,     0.27027,     0.27127,     0.27227,     0.27327,     0.27427,     0.27528,     0.27628,     0.27728,     0.27828,     0.27928,     0.28028,     0.28128,     0.28228,     0.28328,     0.28428,     0.28529,     0.28629,     0.28729,\n",
              "           0.28829,     0.28929,     0.29029,     0.29129,     0.29229,     0.29329,     0.29429,      0.2953,      0.2963,      0.2973,      0.2983,      0.2993,      0.3003,      0.3013,      0.3023,      0.3033,      0.3043,     0.30531,     0.30631,     0.30731,     0.30831,     0.30931,     0.31031,     0.31131,\n",
              "           0.31231,     0.31331,     0.31431,     0.31532,     0.31632,     0.31732,     0.31832,     0.31932,     0.32032,     0.32132,     0.32232,     0.32332,     0.32432,     0.32533,     0.32633,     0.32733,     0.32833,     0.32933,     0.33033,     0.33133,     0.33233,     0.33333,     0.33433,     0.33534,\n",
              "           0.33634,     0.33734,     0.33834,     0.33934,     0.34034,     0.34134,     0.34234,     0.34334,     0.34434,     0.34535,     0.34635,     0.34735,     0.34835,     0.34935,     0.35035,     0.35135,     0.35235,     0.35335,     0.35435,     0.35536,     0.35636,     0.35736,     0.35836,     0.35936,\n",
              "           0.36036,     0.36136,     0.36236,     0.36336,     0.36436,     0.36537,     0.36637,     0.36737,     0.36837,     0.36937,     0.37037,     0.37137,     0.37237,     0.37337,     0.37437,     0.37538,     0.37638,     0.37738,     0.37838,     0.37938,     0.38038,     0.38138,     0.38238,     0.38338,\n",
              "           0.38438,     0.38539,     0.38639,     0.38739,     0.38839,     0.38939,     0.39039,     0.39139,     0.39239,     0.39339,     0.39439,      0.3954,      0.3964,      0.3974,      0.3984,      0.3994,      0.4004,      0.4014,      0.4024,      0.4034,      0.4044,     0.40541,     0.40641,     0.40741,\n",
              "           0.40841,     0.40941,     0.41041,     0.41141,     0.41241,     0.41341,     0.41441,     0.41542,     0.41642,     0.41742,     0.41842,     0.41942,     0.42042,     0.42142,     0.42242,     0.42342,     0.42442,     0.42543,     0.42643,     0.42743,     0.42843,     0.42943,     0.43043,     0.43143,\n",
              "           0.43243,     0.43343,     0.43443,     0.43544,     0.43644,     0.43744,     0.43844,     0.43944,     0.44044,     0.44144,     0.44244,     0.44344,     0.44444,     0.44545,     0.44645,     0.44745,     0.44845,     0.44945,     0.45045,     0.45145,     0.45245,     0.45345,     0.45445,     0.45546,\n",
              "           0.45646,     0.45746,     0.45846,     0.45946,     0.46046,     0.46146,     0.46246,     0.46346,     0.46446,     0.46547,     0.46647,     0.46747,     0.46847,     0.46947,     0.47047,     0.47147,     0.47247,     0.47347,     0.47447,     0.47548,     0.47648,     0.47748,     0.47848,     0.47948,\n",
              "           0.48048,     0.48148,     0.48248,     0.48348,     0.48448,     0.48549,     0.48649,     0.48749,     0.48849,     0.48949,     0.49049,     0.49149,     0.49249,     0.49349,     0.49449,      0.4955,      0.4965,      0.4975,      0.4985,      0.4995,      0.5005,      0.5015,      0.5025,      0.5035,\n",
              "            0.5045,     0.50551,     0.50651,     0.50751,     0.50851,     0.50951,     0.51051,     0.51151,     0.51251,     0.51351,     0.51451,     0.51552,     0.51652,     0.51752,     0.51852,     0.51952,     0.52052,     0.52152,     0.52252,     0.52352,     0.52452,     0.52553,     0.52653,     0.52753,\n",
              "           0.52853,     0.52953,     0.53053,     0.53153,     0.53253,     0.53353,     0.53453,     0.53554,     0.53654,     0.53754,     0.53854,     0.53954,     0.54054,     0.54154,     0.54254,     0.54354,     0.54454,     0.54555,     0.54655,     0.54755,     0.54855,     0.54955,     0.55055,     0.55155,\n",
              "           0.55255,     0.55355,     0.55455,     0.55556,     0.55656,     0.55756,     0.55856,     0.55956,     0.56056,     0.56156,     0.56256,     0.56356,     0.56456,     0.56557,     0.56657,     0.56757,     0.56857,     0.56957,     0.57057,     0.57157,     0.57257,     0.57357,     0.57457,     0.57558,\n",
              "           0.57658,     0.57758,     0.57858,     0.57958,     0.58058,     0.58158,     0.58258,     0.58358,     0.58458,     0.58559,     0.58659,     0.58759,     0.58859,     0.58959,     0.59059,     0.59159,     0.59259,     0.59359,     0.59459,      0.5956,      0.5966,      0.5976,      0.5986,      0.5996,\n",
              "            0.6006,      0.6016,      0.6026,      0.6036,      0.6046,     0.60561,     0.60661,     0.60761,     0.60861,     0.60961,     0.61061,     0.61161,     0.61261,     0.61361,     0.61461,     0.61562,     0.61662,     0.61762,     0.61862,     0.61962,     0.62062,     0.62162,     0.62262,     0.62362,\n",
              "           0.62462,     0.62563,     0.62663,     0.62763,     0.62863,     0.62963,     0.63063,     0.63163,     0.63263,     0.63363,     0.63463,     0.63564,     0.63664,     0.63764,     0.63864,     0.63964,     0.64064,     0.64164,     0.64264,     0.64364,     0.64464,     0.64565,     0.64665,     0.64765,\n",
              "           0.64865,     0.64965,     0.65065,     0.65165,     0.65265,     0.65365,     0.65465,     0.65566,     0.65666,     0.65766,     0.65866,     0.65966,     0.66066,     0.66166,     0.66266,     0.66366,     0.66466,     0.66567,     0.66667,     0.66767,     0.66867,     0.66967,     0.67067,     0.67167,\n",
              "           0.67267,     0.67367,     0.67467,     0.67568,     0.67668,     0.67768,     0.67868,     0.67968,     0.68068,     0.68168,     0.68268,     0.68368,     0.68468,     0.68569,     0.68669,     0.68769,     0.68869,     0.68969,     0.69069,     0.69169,     0.69269,     0.69369,     0.69469,      0.6957,\n",
              "            0.6967,      0.6977,      0.6987,      0.6997,      0.7007,      0.7017,      0.7027,      0.7037,      0.7047,     0.70571,     0.70671,     0.70771,     0.70871,     0.70971,     0.71071,     0.71171,     0.71271,     0.71371,     0.71471,     0.71572,     0.71672,     0.71772,     0.71872,     0.71972,\n",
              "           0.72072,     0.72172,     0.72272,     0.72372,     0.72472,     0.72573,     0.72673,     0.72773,     0.72873,     0.72973,     0.73073,     0.73173,     0.73273,     0.73373,     0.73473,     0.73574,     0.73674,     0.73774,     0.73874,     0.73974,     0.74074,     0.74174,     0.74274,     0.74374,\n",
              "           0.74474,     0.74575,     0.74675,     0.74775,     0.74875,     0.74975,     0.75075,     0.75175,     0.75275,     0.75375,     0.75475,     0.75576,     0.75676,     0.75776,     0.75876,     0.75976,     0.76076,     0.76176,     0.76276,     0.76376,     0.76476,     0.76577,     0.76677,     0.76777,\n",
              "           0.76877,     0.76977,     0.77077,     0.77177,     0.77277,     0.77377,     0.77477,     0.77578,     0.77678,     0.77778,     0.77878,     0.77978,     0.78078,     0.78178,     0.78278,     0.78378,     0.78478,     0.78579,     0.78679,     0.78779,     0.78879,     0.78979,     0.79079,     0.79179,\n",
              "           0.79279,     0.79379,     0.79479,      0.7958,      0.7968,      0.7978,      0.7988,      0.7998,      0.8008,      0.8018,      0.8028,      0.8038,      0.8048,     0.80581,     0.80681,     0.80781,     0.80881,     0.80981,     0.81081,     0.81181,     0.81281,     0.81381,     0.81481,     0.81582,\n",
              "           0.81682,     0.81782,     0.81882,     0.81982,     0.82082,     0.82182,     0.82282,     0.82382,     0.82482,     0.82583,     0.82683,     0.82783,     0.82883,     0.82983,     0.83083,     0.83183,     0.83283,     0.83383,     0.83483,     0.83584,     0.83684,     0.83784,     0.83884,     0.83984,\n",
              "           0.84084,     0.84184,     0.84284,     0.84384,     0.84484,     0.84585,     0.84685,     0.84785,     0.84885,     0.84985,     0.85085,     0.85185,     0.85285,     0.85385,     0.85485,     0.85586,     0.85686,     0.85786,     0.85886,     0.85986,     0.86086,     0.86186,     0.86286,     0.86386,\n",
              "           0.86486,     0.86587,     0.86687,     0.86787,     0.86887,     0.86987,     0.87087,     0.87187,     0.87287,     0.87387,     0.87487,     0.87588,     0.87688,     0.87788,     0.87888,     0.87988,     0.88088,     0.88188,     0.88288,     0.88388,     0.88488,     0.88589,     0.88689,     0.88789,\n",
              "           0.88889,     0.88989,     0.89089,     0.89189,     0.89289,     0.89389,     0.89489,      0.8959,      0.8969,      0.8979,      0.8989,      0.8999,      0.9009,      0.9019,      0.9029,      0.9039,      0.9049,     0.90591,     0.90691,     0.90791,     0.90891,     0.90991,     0.91091,     0.91191,\n",
              "           0.91291,     0.91391,     0.91491,     0.91592,     0.91692,     0.91792,     0.91892,     0.91992,     0.92092,     0.92192,     0.92292,     0.92392,     0.92492,     0.92593,     0.92693,     0.92793,     0.92893,     0.92993,     0.93093,     0.93193,     0.93293,     0.93393,     0.93493,     0.93594,\n",
              "           0.93694,     0.93794,     0.93894,     0.93994,     0.94094,     0.94194,     0.94294,     0.94394,     0.94494,     0.94595,     0.94695,     0.94795,     0.94895,     0.94995,     0.95095,     0.95195,     0.95295,     0.95395,     0.95495,     0.95596,     0.95696,     0.95796,     0.95896,     0.95996,\n",
              "           0.96096,     0.96196,     0.96296,     0.96396,     0.96496,     0.96597,     0.96697,     0.96797,     0.96897,     0.96997,     0.97097,     0.97197,     0.97297,     0.97397,     0.97497,     0.97598,     0.97698,     0.97798,     0.97898,     0.97998,     0.98098,     0.98198,     0.98298,     0.98398,\n",
              "           0.98498,     0.98599,     0.98699,     0.98799,     0.98899,     0.98999,     0.99099,     0.99199,     0.99299,     0.99399,     0.99499,       0.996,       0.997,       0.998,       0.999,           1]), array([[   0.038508,    0.038508,    0.089025,     0.12793,     0.15835,     0.18794,     0.20949,     0.22729,     0.24608,     0.26563,     0.28306,     0.29942,     0.31445,     0.32423,     0.34485,     0.36779,     0.37497,     0.38924,     0.40129,     0.41558,     0.41762,     0.42387,     0.43319,\n",
              "            0.44397,     0.45242,     0.45644,     0.46214,     0.46806,     0.48652,      0.4997,     0.50197,     0.50697,     0.51252,     0.52949,     0.53754,      0.5466,     0.54858,      0.5547,        0.56,      0.5635,     0.56847,     0.57321,     0.57432,     0.57542,     0.58102,     0.58641,\n",
              "            0.59292,     0.59099,     0.59723,     0.60012,     0.60177,     0.60338,     0.60791,      0.6094,     0.61257,     0.61735,     0.61947,     0.63026,     0.63756,     0.63904,     0.64052,     0.64753,     0.64747,     0.64682,     0.64616,     0.65391,     0.65509,     0.65627,     0.65847,\n",
              "            0.66249,     0.66528,     0.66746,     0.66888,     0.66946,     0.67004,     0.67061,     0.67119,     0.67177,     0.67235,     0.67436,     0.67768,     0.68712,     0.69303,      0.6939,     0.69477,     0.69564,     0.69651,     0.69778,     0.69948,     0.70118,     0.70553,     0.70776,\n",
              "            0.71111,     0.71497,     0.71576,     0.71654,     0.71733,     0.71812,     0.71909,     0.72081,     0.72254,     0.72493,     0.72782,     0.72889,     0.72995,     0.73101,     0.73206,      0.7332,     0.73438,     0.73556,     0.73675,     0.74368,     0.75256,     0.75396,     0.75536,\n",
              "            0.75665,     0.75719,     0.75774,     0.75828,     0.75882,     0.75937,     0.75991,     0.76046,       0.761,     0.76154,     0.76703,     0.76758,     0.76812,     0.76867,     0.76921,     0.76976,      0.7703,     0.77084,     0.77139,     0.77187,     0.77215,     0.77243,      0.7727,\n",
              "            0.77298,     0.77325,     0.77353,      0.7738,     0.77408,     0.77436,     0.77463,     0.77491,     0.77518,     0.77546,     0.77574,     0.77601,     0.77629,     0.77656,     0.77684,     0.77719,     0.77772,     0.77824,     0.77876,     0.77928,     0.77981,     0.78033,     0.78085,\n",
              "            0.78137,     0.78189,     0.78669,     0.78919,     0.79078,     0.79237,     0.79463,     0.79745,     0.79996,     0.80225,     0.80415,     0.80384,     0.80354,     0.80323,     0.80293,     0.80353,     0.80464,     0.80575,     0.80686,     0.80797,     0.80893,     0.80975,     0.81057,\n",
              "            0.81138,      0.8122,     0.81301,     0.81383,     0.81435,     0.81451,     0.81467,     0.81482,     0.81498,     0.81513,     0.81529,     0.81544,      0.8156,     0.81575,     0.81591,     0.81606,     0.81622,     0.81638,     0.81653,     0.81669,     0.81684,       0.817,     0.81715,\n",
              "            0.81731,     0.81746,     0.81762,     0.81777,     0.81793,     0.81809,     0.81824,      0.8184,     0.81855,     0.81871,     0.81886,     0.81902,     0.81917,     0.81933,     0.81948,     0.81964,      0.8198,     0.81995,     0.82011,     0.82147,     0.82321,     0.82495,     0.82634,\n",
              "            0.82707,     0.82779,     0.82852,     0.82925,     0.82998,      0.8307,     0.83143,     0.83215,      0.8328,     0.83346,     0.83411,     0.83476,     0.83541,     0.83606,     0.83671,     0.83737,     0.83802,     0.83886,      0.8398,     0.84075,     0.84169,     0.84263,     0.84358,\n",
              "            0.84448,     0.84487,     0.84526,     0.84565,     0.84604,     0.84643,     0.84682,     0.84722,     0.84761,       0.848,     0.84839,     0.84878,     0.84917,     0.84956,     0.84996,     0.85035,     0.85074,     0.85109,     0.85143,     0.85178,     0.85212,     0.85247,     0.85281,\n",
              "            0.85316,      0.8535,     0.85385,     0.85419,     0.85454,     0.85488,     0.85523,     0.85557,     0.85592,     0.85626,     0.85661,     0.85695,     0.85708,     0.85695,     0.85682,     0.85669,     0.85656,     0.85643,      0.8563,     0.85617,     0.85605,       0.856,     0.85595,\n",
              "            0.85589,     0.85584,     0.85578,     0.85573,     0.85568,     0.85562,     0.85557,     0.85552,     0.85546,     0.85541,     0.85536,      0.8553,     0.85525,     0.85519,     0.85514,     0.85509,     0.85503,     0.85498,     0.85625,     0.85817,      0.8601,      0.8624,     0.86582,\n",
              "            0.86858,     0.86979,       0.871,     0.87221,     0.87342,     0.87463,      0.8749,     0.87476,     0.87461,     0.87447,     0.87432,     0.87418,     0.87404,     0.87343,     0.87333,     0.87413,     0.87492,     0.87572,     0.87651,     0.87731,     0.87811,      0.8789,      0.8797,\n",
              "            0.88014,     0.88036,     0.88058,      0.8808,     0.88103,     0.88125,     0.88147,     0.88169,     0.88191,     0.88214,     0.88236,     0.88258,      0.8828,     0.88302,     0.88325,     0.88347,     0.88369,     0.88391,     0.88414,     0.88436,     0.88458,      0.8848,     0.88502,\n",
              "            0.88525,     0.88547,     0.88569,     0.88591,     0.88613,     0.88636,     0.88658,      0.8868,     0.88702,     0.88889,     0.89158,     0.89427,     0.89426,     0.89421,     0.89415,      0.8941,     0.89405,       0.894,     0.89394,     0.89389,     0.89384,     0.89379,     0.89374,\n",
              "            0.89368,     0.89363,     0.89358,     0.89353,     0.89347,     0.89335,     0.89313,      0.8929,     0.89268,      0.8923,     0.89178,     0.89179,     0.89195,      0.8921,     0.89226,     0.89242,     0.89257,     0.89273,     0.89289,     0.89304,      0.8932,     0.89336,     0.89351,\n",
              "            0.89367,     0.89383,     0.89398,     0.89414,      0.8943,     0.89446,     0.89461,     0.89477,     0.89493,     0.89508,     0.89524,      0.8954,     0.89555,     0.89571,     0.89587,     0.89602,     0.89618,     0.89634,     0.89649,     0.89665,     0.89681,     0.89696,     0.89712,\n",
              "            0.89728,     0.89743,     0.89759,     0.89775,      0.8979,     0.89806,     0.89822,     0.89837,     0.89853,     0.89869,     0.89884,       0.899,     0.89916,     0.89901,     0.89886,      0.8987,     0.89855,      0.8984,     0.89979,     0.90372,     0.90581,     0.90539,     0.90527,\n",
              "            0.90546,     0.90566,     0.90586,     0.90605,     0.90625,     0.90645,     0.90664,     0.90684,     0.90704,     0.90723,     0.90743,     0.90763,     0.90782,     0.90802,     0.90822,     0.90841,     0.90861,     0.90881,       0.909,      0.9092,      0.9094,     0.90959,     0.90979,\n",
              "            0.90999,     0.91019,     0.91038,     0.91058,     0.91078,     0.91097,     0.91117,     0.91137,     0.91156,     0.91176,     0.91196,     0.91215,     0.91235,     0.91255,     0.91274,     0.91294,     0.91303,     0.91299,     0.91295,     0.91291,     0.91288,     0.91284,      0.9128,\n",
              "            0.91277,     0.91273,     0.91269,     0.91265,     0.91262,     0.91258,     0.91254,      0.9125,     0.91247,     0.91243,     0.91239,     0.91236,     0.91232,     0.91228,     0.91218,     0.91208,     0.91198,     0.91188,     0.91178,     0.91169,     0.91159,     0.91227,     0.91644,\n",
              "            0.91963,     0.91957,      0.9195,     0.91944,     0.91938,     0.91932,     0.91926,      0.9192,     0.91913,     0.91907,     0.91901,     0.91895,     0.92715,     0.92692,      0.9267,     0.92792,     0.93012,     0.93232,     0.93452,     0.93517,     0.93514,     0.93511,     0.93508,\n",
              "            0.93505,     0.93502,     0.93499,     0.93496,     0.93493,     0.93491,     0.93488,     0.93485,     0.93482,     0.93479,     0.93476,     0.93473,      0.9347,     0.93467,     0.93465,     0.93462,     0.93459,     0.93455,     0.93452,     0.93448,     0.93444,     0.93441,     0.93437,\n",
              "            0.93434,      0.9343,     0.93426,     0.93423,     0.93419,     0.93416,     0.93412,     0.93408,     0.93405,     0.93401,     0.93397,      0.9333,     0.93326,     0.93321,     0.93317,     0.93312,     0.93308,     0.93303,     0.93299,     0.93294,      0.9329,     0.93285,     0.93281,\n",
              "            0.93276,     0.93271,     0.93265,     0.93257,      0.9325,     0.93242,     0.93234,     0.93226,     0.93218,      0.9321,     0.93202,     0.93194,     0.93185,     0.93176,     0.93168,     0.93159,     0.93151,     0.93142,     0.93393,     0.94023,     0.94968,      0.9499,      0.9498,\n",
              "            0.94969,     0.94959,     0.94945,     0.94897,     0.94893,     0.94888,     0.94884,     0.94879,     0.94875,      0.9487,     0.94866,     0.94862,     0.94857,     0.94853,     0.94848,      0.9484,     0.94828,     0.94816,     0.94804,     0.94791,     0.94763,     0.94734,     0.94696,\n",
              "            0.94663,     0.94634,     0.94585,     0.94553,     0.94536,     0.94518,     0.94501,     0.94483,     0.94465,     0.94447,     0.94426,     0.94405,     0.94384,     0.94369,     0.94354,      0.9434,     0.94325,     0.94283,     0.94185,     0.94169,     0.94154,     0.94138,     0.94123,\n",
              "            0.94102,     0.94078,     0.94054,     0.93807,     0.93738,     0.93698,     0.93652,     0.93597,     0.93515,     0.93403,     0.93383,     0.93363,     0.93343,     0.93315,     0.93278,     0.93241,     0.93203,     0.93165,     0.93133,     0.93105,     0.93078,     0.93245,     0.94141,\n",
              "            0.94335,     0.94294,     0.94266,     0.94242,     0.94218,     0.94196,     0.94179,     0.94161,     0.94144,     0.94126,     0.94087,     0.94029,     0.94006,     0.93983,     0.93959,     0.93936,     0.93908,     0.93881,     0.93854,     0.93775,     0.93725,     0.93691,     0.93657,\n",
              "            0.93616,     0.93574,     0.93541,     0.93523,     0.93505,     0.93487,     0.93469,     0.93451,     0.93325,      0.9331,     0.93294,     0.93279,     0.93263,     0.93248,     0.93232,     0.93077,     0.93021,     0.93714,     0.94406,     0.94518,     0.94483,     0.94449,     0.94382,\n",
              "             0.9433,     0.94305,      0.9428,     0.94255,     0.94229,     0.94116,     0.94067,     0.94019,     0.93975,     0.93933,     0.93891,     0.94672,     0.95741,     0.95726,      0.9571,     0.95694,     0.95678,     0.95662,     0.95638,     0.95598,     0.95559,      0.9546,     0.95297,\n",
              "            0.95229,     0.95211,     0.95193,     0.95174,     0.95156,     0.95138,     0.94963,      0.9471,     0.94668,     0.94626,     0.94406,     0.94256,     0.94141,     0.94076,     0.94024,     0.93972,     0.93923,      0.9388,     0.93837,     0.93793,      0.9375,     0.93718,     0.93687,\n",
              "            0.93655,     0.93623,     0.93591,     0.93559,     0.93076,     0.92907,     0.92794,     0.92703,     0.92613,     0.92479,     0.92333,     0.94387,     0.95979,     0.95923,     0.95866,     0.95753,     0.95621,     0.95554,     0.95486,     0.95376,     0.95205,     0.94424,       0.942,\n",
              "             0.9396,      0.9373,     0.93608,     0.93486,     0.93364,      0.9256,     0.92104,     0.91841,     0.90595,     0.89588,     0.86088,           1,           1,           1,           1,           1,           1,           1,           1,           1,           1,           1,           1,\n",
              "                  1,           1,           1,           1,           1,           1,           1,           1,           1,           1,           1,           1,           1,           1,           1,           1,           1,           1,           1,           1,           1,           1,           1,\n",
              "                  1,           1,           1,           1,           1,           1,           1,           1,           1,           1,           1,           1,           1,           1,           1,           1,           1,           1,           1,           1,           1,           1,           1,\n",
              "                  1,           1,           1,           1,           1,           1,           1,           1,           1,           1,           1,           1,           1,           1,           1,           1,           1,           1,           1,           1,           1,           1,           1,\n",
              "                  1,           1,           1,           1,           1,           1,           1,           1,           1,           1,           1,           1,           1,           1,           1,           1,           1,           1,           1,           1,           1,           1,           1,\n",
              "                  1,           1,           1,           1,           1,           1,           1,           1,           1,           1,           1,           1,           1,           1,           1,           1,           1,           1,           1,           1,           1,           1,           1,\n",
              "                  1,           1,           1,           1,           1,           1,           1,           1,           1,           1,           1,           1,           1,           1,           1,           1,           1,           1,           1,           1,           1,           1,           1,\n",
              "                  1,           1,           1,           1,           1,           1,           1,           1,           1,           1,           1,           1,           1,           1,           1,           1,           1,           1,           1,           1,           1,           1,           1,\n",
              "                  1,           1,           1,           1,           1,           1,           1,           1,           1,           1,           1]]), 'Confidence', 'Precision'], [array([          0,    0.001001,    0.002002,    0.003003,    0.004004,    0.005005,    0.006006,    0.007007,    0.008008,    0.009009,     0.01001,    0.011011,    0.012012,    0.013013,    0.014014,    0.015015,    0.016016,    0.017017,    0.018018,    0.019019,     0.02002,    0.021021,    0.022022,    0.023023,\n",
              "          0.024024,    0.025025,    0.026026,    0.027027,    0.028028,    0.029029,     0.03003,    0.031031,    0.032032,    0.033033,    0.034034,    0.035035,    0.036036,    0.037037,    0.038038,    0.039039,     0.04004,    0.041041,    0.042042,    0.043043,    0.044044,    0.045045,    0.046046,    0.047047,\n",
              "          0.048048,    0.049049,     0.05005,    0.051051,    0.052052,    0.053053,    0.054054,    0.055055,    0.056056,    0.057057,    0.058058,    0.059059,     0.06006,    0.061061,    0.062062,    0.063063,    0.064064,    0.065065,    0.066066,    0.067067,    0.068068,    0.069069,     0.07007,    0.071071,\n",
              "          0.072072,    0.073073,    0.074074,    0.075075,    0.076076,    0.077077,    0.078078,    0.079079,     0.08008,    0.081081,    0.082082,    0.083083,    0.084084,    0.085085,    0.086086,    0.087087,    0.088088,    0.089089,     0.09009,    0.091091,    0.092092,    0.093093,    0.094094,    0.095095,\n",
              "          0.096096,    0.097097,    0.098098,    0.099099,      0.1001,      0.1011,      0.1021,      0.1031,      0.1041,     0.10511,     0.10611,     0.10711,     0.10811,     0.10911,     0.11011,     0.11111,     0.11211,     0.11311,     0.11411,     0.11512,     0.11612,     0.11712,     0.11812,     0.11912,\n",
              "           0.12012,     0.12112,     0.12212,     0.12312,     0.12412,     0.12513,     0.12613,     0.12713,     0.12813,     0.12913,     0.13013,     0.13113,     0.13213,     0.13313,     0.13413,     0.13514,     0.13614,     0.13714,     0.13814,     0.13914,     0.14014,     0.14114,     0.14214,     0.14314,\n",
              "           0.14414,     0.14515,     0.14615,     0.14715,     0.14815,     0.14915,     0.15015,     0.15115,     0.15215,     0.15315,     0.15415,     0.15516,     0.15616,     0.15716,     0.15816,     0.15916,     0.16016,     0.16116,     0.16216,     0.16316,     0.16416,     0.16517,     0.16617,     0.16717,\n",
              "           0.16817,     0.16917,     0.17017,     0.17117,     0.17217,     0.17317,     0.17417,     0.17518,     0.17618,     0.17718,     0.17818,     0.17918,     0.18018,     0.18118,     0.18218,     0.18318,     0.18418,     0.18519,     0.18619,     0.18719,     0.18819,     0.18919,     0.19019,     0.19119,\n",
              "           0.19219,     0.19319,     0.19419,      0.1952,      0.1962,      0.1972,      0.1982,      0.1992,      0.2002,      0.2012,      0.2022,      0.2032,      0.2042,     0.20521,     0.20621,     0.20721,     0.20821,     0.20921,     0.21021,     0.21121,     0.21221,     0.21321,     0.21421,     0.21522,\n",
              "           0.21622,     0.21722,     0.21822,     0.21922,     0.22022,     0.22122,     0.22222,     0.22322,     0.22422,     0.22523,     0.22623,     0.22723,     0.22823,     0.22923,     0.23023,     0.23123,     0.23223,     0.23323,     0.23423,     0.23524,     0.23624,     0.23724,     0.23824,     0.23924,\n",
              "           0.24024,     0.24124,     0.24224,     0.24324,     0.24424,     0.24525,     0.24625,     0.24725,     0.24825,     0.24925,     0.25025,     0.25125,     0.25225,     0.25325,     0.25425,     0.25526,     0.25626,     0.25726,     0.25826,     0.25926,     0.26026,     0.26126,     0.26226,     0.26326,\n",
              "           0.26426,     0.26527,     0.26627,     0.26727,     0.26827,     0.26927,     0.27027,     0.27127,     0.27227,     0.27327,     0.27427,     0.27528,     0.27628,     0.27728,     0.27828,     0.27928,     0.28028,     0.28128,     0.28228,     0.28328,     0.28428,     0.28529,     0.28629,     0.28729,\n",
              "           0.28829,     0.28929,     0.29029,     0.29129,     0.29229,     0.29329,     0.29429,      0.2953,      0.2963,      0.2973,      0.2983,      0.2993,      0.3003,      0.3013,      0.3023,      0.3033,      0.3043,     0.30531,     0.30631,     0.30731,     0.30831,     0.30931,     0.31031,     0.31131,\n",
              "           0.31231,     0.31331,     0.31431,     0.31532,     0.31632,     0.31732,     0.31832,     0.31932,     0.32032,     0.32132,     0.32232,     0.32332,     0.32432,     0.32533,     0.32633,     0.32733,     0.32833,     0.32933,     0.33033,     0.33133,     0.33233,     0.33333,     0.33433,     0.33534,\n",
              "           0.33634,     0.33734,     0.33834,     0.33934,     0.34034,     0.34134,     0.34234,     0.34334,     0.34434,     0.34535,     0.34635,     0.34735,     0.34835,     0.34935,     0.35035,     0.35135,     0.35235,     0.35335,     0.35435,     0.35536,     0.35636,     0.35736,     0.35836,     0.35936,\n",
              "           0.36036,     0.36136,     0.36236,     0.36336,     0.36436,     0.36537,     0.36637,     0.36737,     0.36837,     0.36937,     0.37037,     0.37137,     0.37237,     0.37337,     0.37437,     0.37538,     0.37638,     0.37738,     0.37838,     0.37938,     0.38038,     0.38138,     0.38238,     0.38338,\n",
              "           0.38438,     0.38539,     0.38639,     0.38739,     0.38839,     0.38939,     0.39039,     0.39139,     0.39239,     0.39339,     0.39439,      0.3954,      0.3964,      0.3974,      0.3984,      0.3994,      0.4004,      0.4014,      0.4024,      0.4034,      0.4044,     0.40541,     0.40641,     0.40741,\n",
              "           0.40841,     0.40941,     0.41041,     0.41141,     0.41241,     0.41341,     0.41441,     0.41542,     0.41642,     0.41742,     0.41842,     0.41942,     0.42042,     0.42142,     0.42242,     0.42342,     0.42442,     0.42543,     0.42643,     0.42743,     0.42843,     0.42943,     0.43043,     0.43143,\n",
              "           0.43243,     0.43343,     0.43443,     0.43544,     0.43644,     0.43744,     0.43844,     0.43944,     0.44044,     0.44144,     0.44244,     0.44344,     0.44444,     0.44545,     0.44645,     0.44745,     0.44845,     0.44945,     0.45045,     0.45145,     0.45245,     0.45345,     0.45445,     0.45546,\n",
              "           0.45646,     0.45746,     0.45846,     0.45946,     0.46046,     0.46146,     0.46246,     0.46346,     0.46446,     0.46547,     0.46647,     0.46747,     0.46847,     0.46947,     0.47047,     0.47147,     0.47247,     0.47347,     0.47447,     0.47548,     0.47648,     0.47748,     0.47848,     0.47948,\n",
              "           0.48048,     0.48148,     0.48248,     0.48348,     0.48448,     0.48549,     0.48649,     0.48749,     0.48849,     0.48949,     0.49049,     0.49149,     0.49249,     0.49349,     0.49449,      0.4955,      0.4965,      0.4975,      0.4985,      0.4995,      0.5005,      0.5015,      0.5025,      0.5035,\n",
              "            0.5045,     0.50551,     0.50651,     0.50751,     0.50851,     0.50951,     0.51051,     0.51151,     0.51251,     0.51351,     0.51451,     0.51552,     0.51652,     0.51752,     0.51852,     0.51952,     0.52052,     0.52152,     0.52252,     0.52352,     0.52452,     0.52553,     0.52653,     0.52753,\n",
              "           0.52853,     0.52953,     0.53053,     0.53153,     0.53253,     0.53353,     0.53453,     0.53554,     0.53654,     0.53754,     0.53854,     0.53954,     0.54054,     0.54154,     0.54254,     0.54354,     0.54454,     0.54555,     0.54655,     0.54755,     0.54855,     0.54955,     0.55055,     0.55155,\n",
              "           0.55255,     0.55355,     0.55455,     0.55556,     0.55656,     0.55756,     0.55856,     0.55956,     0.56056,     0.56156,     0.56256,     0.56356,     0.56456,     0.56557,     0.56657,     0.56757,     0.56857,     0.56957,     0.57057,     0.57157,     0.57257,     0.57357,     0.57457,     0.57558,\n",
              "           0.57658,     0.57758,     0.57858,     0.57958,     0.58058,     0.58158,     0.58258,     0.58358,     0.58458,     0.58559,     0.58659,     0.58759,     0.58859,     0.58959,     0.59059,     0.59159,     0.59259,     0.59359,     0.59459,      0.5956,      0.5966,      0.5976,      0.5986,      0.5996,\n",
              "            0.6006,      0.6016,      0.6026,      0.6036,      0.6046,     0.60561,     0.60661,     0.60761,     0.60861,     0.60961,     0.61061,     0.61161,     0.61261,     0.61361,     0.61461,     0.61562,     0.61662,     0.61762,     0.61862,     0.61962,     0.62062,     0.62162,     0.62262,     0.62362,\n",
              "           0.62462,     0.62563,     0.62663,     0.62763,     0.62863,     0.62963,     0.63063,     0.63163,     0.63263,     0.63363,     0.63463,     0.63564,     0.63664,     0.63764,     0.63864,     0.63964,     0.64064,     0.64164,     0.64264,     0.64364,     0.64464,     0.64565,     0.64665,     0.64765,\n",
              "           0.64865,     0.64965,     0.65065,     0.65165,     0.65265,     0.65365,     0.65465,     0.65566,     0.65666,     0.65766,     0.65866,     0.65966,     0.66066,     0.66166,     0.66266,     0.66366,     0.66466,     0.66567,     0.66667,     0.66767,     0.66867,     0.66967,     0.67067,     0.67167,\n",
              "           0.67267,     0.67367,     0.67467,     0.67568,     0.67668,     0.67768,     0.67868,     0.67968,     0.68068,     0.68168,     0.68268,     0.68368,     0.68468,     0.68569,     0.68669,     0.68769,     0.68869,     0.68969,     0.69069,     0.69169,     0.69269,     0.69369,     0.69469,      0.6957,\n",
              "            0.6967,      0.6977,      0.6987,      0.6997,      0.7007,      0.7017,      0.7027,      0.7037,      0.7047,     0.70571,     0.70671,     0.70771,     0.70871,     0.70971,     0.71071,     0.71171,     0.71271,     0.71371,     0.71471,     0.71572,     0.71672,     0.71772,     0.71872,     0.71972,\n",
              "           0.72072,     0.72172,     0.72272,     0.72372,     0.72472,     0.72573,     0.72673,     0.72773,     0.72873,     0.72973,     0.73073,     0.73173,     0.73273,     0.73373,     0.73473,     0.73574,     0.73674,     0.73774,     0.73874,     0.73974,     0.74074,     0.74174,     0.74274,     0.74374,\n",
              "           0.74474,     0.74575,     0.74675,     0.74775,     0.74875,     0.74975,     0.75075,     0.75175,     0.75275,     0.75375,     0.75475,     0.75576,     0.75676,     0.75776,     0.75876,     0.75976,     0.76076,     0.76176,     0.76276,     0.76376,     0.76476,     0.76577,     0.76677,     0.76777,\n",
              "           0.76877,     0.76977,     0.77077,     0.77177,     0.77277,     0.77377,     0.77477,     0.77578,     0.77678,     0.77778,     0.77878,     0.77978,     0.78078,     0.78178,     0.78278,     0.78378,     0.78478,     0.78579,     0.78679,     0.78779,     0.78879,     0.78979,     0.79079,     0.79179,\n",
              "           0.79279,     0.79379,     0.79479,      0.7958,      0.7968,      0.7978,      0.7988,      0.7998,      0.8008,      0.8018,      0.8028,      0.8038,      0.8048,     0.80581,     0.80681,     0.80781,     0.80881,     0.80981,     0.81081,     0.81181,     0.81281,     0.81381,     0.81481,     0.81582,\n",
              "           0.81682,     0.81782,     0.81882,     0.81982,     0.82082,     0.82182,     0.82282,     0.82382,     0.82482,     0.82583,     0.82683,     0.82783,     0.82883,     0.82983,     0.83083,     0.83183,     0.83283,     0.83383,     0.83483,     0.83584,     0.83684,     0.83784,     0.83884,     0.83984,\n",
              "           0.84084,     0.84184,     0.84284,     0.84384,     0.84484,     0.84585,     0.84685,     0.84785,     0.84885,     0.84985,     0.85085,     0.85185,     0.85285,     0.85385,     0.85485,     0.85586,     0.85686,     0.85786,     0.85886,     0.85986,     0.86086,     0.86186,     0.86286,     0.86386,\n",
              "           0.86486,     0.86587,     0.86687,     0.86787,     0.86887,     0.86987,     0.87087,     0.87187,     0.87287,     0.87387,     0.87487,     0.87588,     0.87688,     0.87788,     0.87888,     0.87988,     0.88088,     0.88188,     0.88288,     0.88388,     0.88488,     0.88589,     0.88689,     0.88789,\n",
              "           0.88889,     0.88989,     0.89089,     0.89189,     0.89289,     0.89389,     0.89489,      0.8959,      0.8969,      0.8979,      0.8989,      0.8999,      0.9009,      0.9019,      0.9029,      0.9039,      0.9049,     0.90591,     0.90691,     0.90791,     0.90891,     0.90991,     0.91091,     0.91191,\n",
              "           0.91291,     0.91391,     0.91491,     0.91592,     0.91692,     0.91792,     0.91892,     0.91992,     0.92092,     0.92192,     0.92292,     0.92392,     0.92492,     0.92593,     0.92693,     0.92793,     0.92893,     0.92993,     0.93093,     0.93193,     0.93293,     0.93393,     0.93493,     0.93594,\n",
              "           0.93694,     0.93794,     0.93894,     0.93994,     0.94094,     0.94194,     0.94294,     0.94394,     0.94494,     0.94595,     0.94695,     0.94795,     0.94895,     0.94995,     0.95095,     0.95195,     0.95295,     0.95395,     0.95495,     0.95596,     0.95696,     0.95796,     0.95896,     0.95996,\n",
              "           0.96096,     0.96196,     0.96296,     0.96396,     0.96496,     0.96597,     0.96697,     0.96797,     0.96897,     0.96997,     0.97097,     0.97197,     0.97297,     0.97397,     0.97497,     0.97598,     0.97698,     0.97798,     0.97898,     0.97998,     0.98098,     0.98198,     0.98298,     0.98398,\n",
              "           0.98498,     0.98599,     0.98699,     0.98799,     0.98899,     0.98999,     0.99099,     0.99199,     0.99299,     0.99399,     0.99499,       0.996,       0.997,       0.998,       0.999,           1]), array([[    0.93382,     0.93382,     0.91912,     0.91912,     0.91176,     0.91176,     0.91176,     0.90441,     0.90441,     0.89706,     0.89706,     0.89706,     0.89706,     0.88971,     0.88971,     0.88971,     0.88235,       0.875,       0.875,     0.86765,     0.86765,     0.86765,     0.86765,\n",
              "            0.86765,     0.86765,     0.86765,     0.86765,     0.86765,     0.86765,     0.86765,     0.86765,     0.86765,     0.86765,     0.86765,     0.86765,     0.86765,     0.86765,     0.86765,     0.86765,     0.86765,     0.86765,     0.86765,     0.86765,     0.86765,     0.86765,     0.86765,\n",
              "            0.86747,     0.86058,     0.86029,     0.86029,     0.85294,     0.85294,     0.85294,     0.85294,     0.85294,     0.85294,     0.85294,     0.85294,     0.85294,     0.85294,     0.85294,     0.85294,     0.85081,     0.84838,     0.84594,     0.84559,     0.84559,     0.84559,     0.84559,\n",
              "            0.84559,     0.84559,     0.84559,     0.84559,     0.84559,     0.84559,     0.84559,     0.84559,     0.84559,     0.84559,     0.84559,     0.84559,     0.84559,     0.84559,     0.84559,     0.84559,     0.84559,     0.84559,     0.84559,     0.84559,     0.84559,     0.84559,     0.84559,\n",
              "            0.84559,     0.84559,     0.84559,     0.84559,     0.84559,     0.84559,     0.84559,     0.84559,     0.84559,     0.84559,     0.84559,     0.84559,     0.84559,     0.84559,     0.84559,     0.84559,     0.84559,     0.84559,     0.84559,     0.84559,     0.84559,     0.84559,     0.84559,\n",
              "            0.84559,     0.84559,     0.84559,     0.84559,     0.84559,     0.84559,     0.84559,     0.84559,     0.84559,     0.84559,     0.84559,     0.84559,     0.84559,     0.84559,     0.84559,     0.84559,     0.84559,     0.84559,     0.84559,     0.84559,     0.84559,     0.84559,     0.84559,\n",
              "            0.84559,     0.84559,     0.84559,     0.84559,     0.84559,     0.84559,     0.84559,     0.84559,     0.84559,     0.84559,     0.84559,     0.84559,     0.84559,     0.84559,     0.84559,     0.84559,     0.84559,     0.84559,     0.84559,     0.84559,     0.84559,     0.84559,     0.84559,\n",
              "            0.84559,     0.84559,     0.84559,     0.84559,     0.84559,     0.84559,     0.84559,     0.84559,     0.84559,     0.84559,     0.84534,     0.84371,     0.84208,     0.84045,     0.83882,     0.83824,     0.83824,     0.83824,     0.83824,     0.83824,     0.83824,     0.83824,     0.83824,\n",
              "            0.83824,     0.83824,     0.83824,     0.83824,     0.83824,     0.83824,     0.83824,     0.83824,     0.83824,     0.83824,     0.83824,     0.83824,     0.83824,     0.83824,     0.83824,     0.83824,     0.83824,     0.83824,     0.83824,     0.83824,     0.83824,     0.83824,     0.83824,\n",
              "            0.83824,     0.83824,     0.83824,     0.83824,     0.83824,     0.83824,     0.83824,     0.83824,     0.83824,     0.83824,     0.83824,     0.83824,     0.83824,     0.83824,     0.83824,     0.83824,     0.83824,     0.83824,     0.83824,     0.83824,     0.83824,     0.83824,     0.83824,\n",
              "            0.83824,     0.83824,     0.83824,     0.83824,     0.83824,     0.83824,     0.83824,     0.83824,     0.83824,     0.83824,     0.83824,     0.83824,     0.83824,     0.83824,     0.83824,     0.83824,     0.83824,     0.83824,     0.83824,     0.83824,     0.83824,     0.83824,     0.83824,\n",
              "            0.83824,     0.83824,     0.83824,     0.83824,     0.83824,     0.83824,     0.83824,     0.83824,     0.83824,     0.83824,     0.83824,     0.83824,     0.83824,     0.83824,     0.83824,     0.83824,     0.83824,     0.83824,     0.83824,     0.83824,     0.83824,     0.83824,     0.83824,\n",
              "            0.83824,     0.83824,     0.83824,     0.83824,     0.83824,     0.83824,     0.83824,     0.83824,     0.83824,     0.83824,     0.83824,     0.83824,     0.83784,     0.83695,     0.83607,     0.83518,     0.83429,     0.83341,     0.83252,     0.83163,     0.83083,     0.83047,     0.83011,\n",
              "            0.82975,     0.82939,     0.82903,     0.82867,     0.82831,     0.82796,      0.8276,     0.82724,     0.82688,     0.82652,     0.82616,      0.8258,     0.82544,     0.82508,     0.82473,     0.82437,     0.82401,     0.82365,     0.82353,     0.82353,     0.82353,     0.82353,     0.82353,\n",
              "            0.82353,     0.82353,     0.82353,     0.82353,     0.82353,     0.82353,     0.82279,     0.82171,     0.82063,     0.81956,     0.81848,      0.8174,     0.81633,     0.81185,     0.80882,     0.80882,     0.80882,     0.80882,     0.80882,     0.80882,     0.80882,     0.80882,     0.80882,\n",
              "            0.80882,     0.80882,     0.80882,     0.80882,     0.80882,     0.80882,     0.80882,     0.80882,     0.80882,     0.80882,     0.80882,     0.80882,     0.80882,     0.80882,     0.80882,     0.80882,     0.80882,     0.80882,     0.80882,     0.80882,     0.80882,     0.80882,     0.80882,\n",
              "            0.80882,     0.80882,     0.80882,     0.80882,     0.80882,     0.80882,     0.80882,     0.80882,     0.80882,     0.80882,     0.80882,     0.80882,     0.80839,     0.80794,      0.8075,     0.80706,     0.80661,     0.80617,     0.80573,     0.80528,     0.80484,      0.8044,     0.80395,\n",
              "            0.80351,     0.80307,     0.80262,     0.80218,     0.80174,     0.80072,     0.79883,     0.79695,     0.79506,     0.79197,     0.78767,     0.78676,     0.78676,     0.78676,     0.78676,     0.78676,     0.78676,     0.78676,     0.78676,     0.78676,     0.78676,     0.78676,     0.78676,\n",
              "            0.78676,     0.78676,     0.78676,     0.78676,     0.78676,     0.78676,     0.78676,     0.78676,     0.78676,     0.78676,     0.78676,     0.78676,     0.78676,     0.78676,     0.78676,     0.78676,     0.78676,     0.78676,     0.78676,     0.78676,     0.78676,     0.78676,     0.78676,\n",
              "            0.78676,     0.78676,     0.78676,     0.78676,     0.78676,     0.78676,     0.78676,     0.78676,     0.78676,     0.78676,     0.78676,     0.78676,     0.78676,     0.78547,     0.78416,     0.78285,     0.78154,     0.78023,     0.77941,     0.77941,     0.77781,     0.77404,     0.77206,\n",
              "            0.77206,     0.77206,     0.77206,     0.77206,     0.77206,     0.77206,     0.77206,     0.77206,     0.77206,     0.77206,     0.77206,     0.77206,     0.77206,     0.77206,     0.77206,     0.77206,     0.77206,     0.77206,     0.77206,     0.77206,     0.77206,     0.77206,     0.77206,\n",
              "            0.77206,     0.77206,     0.77206,     0.77206,     0.77206,     0.77206,     0.77206,     0.77206,     0.77206,     0.77206,     0.77206,     0.77206,     0.77206,     0.77206,     0.77206,     0.77206,     0.77189,     0.77153,     0.77117,     0.77081,     0.77045,     0.77009,     0.76973,\n",
              "            0.76938,     0.76902,     0.76866,      0.7683,     0.76794,     0.76758,     0.76722,     0.76686,      0.7665,     0.76615,     0.76579,     0.76543,     0.76507,     0.76471,     0.76377,     0.76283,     0.76189,     0.76095,     0.76001,     0.75906,     0.75812,     0.75735,     0.75735,\n",
              "            0.75721,     0.75658,     0.75595,     0.75532,     0.75469,     0.75407,     0.75344,     0.75281,     0.75218,     0.75155,     0.75093,      0.7503,     0.74868,     0.74617,     0.74366,     0.74265,     0.74265,     0.74265,     0.74265,      0.7424,     0.74205,      0.7417,     0.74135,\n",
              "              0.741,     0.74065,      0.7403,     0.73995,      0.7396,     0.73925,      0.7389,     0.73855,      0.7382,     0.73785,      0.7375,     0.73714,     0.73679,     0.73644,     0.73609,     0.73574,     0.73539,     0.73498,     0.73455,     0.73412,     0.73369,     0.73326,     0.73283,\n",
              "             0.7324,     0.73197,     0.73154,     0.73111,     0.73068,     0.73025,     0.72982,     0.72938,     0.72895,     0.72852,     0.72809,     0.72025,     0.71973,     0.71921,     0.71869,     0.71817,     0.71765,     0.71713,     0.71661,     0.71609,     0.71557,     0.71505,     0.71453,\n",
              "            0.71401,     0.71349,     0.71279,      0.7119,     0.71102,     0.71013,     0.70924,     0.70836,     0.70747,     0.70658,     0.70568,     0.70474,      0.7038,     0.70286,     0.70192,     0.70097,     0.70003,     0.69909,     0.69853,     0.69853,     0.69853,     0.69707,     0.69557,\n",
              "            0.69406,     0.69255,     0.69051,     0.68375,     0.68312,      0.6825,     0.68187,     0.68124,     0.68061,     0.67998,     0.67936,     0.67873,      0.6781,     0.67747,     0.67684,     0.67579,     0.67412,     0.67244,     0.67077,     0.66906,     0.66529,     0.66144,     0.65642,\n",
              "            0.65215,     0.64838,     0.64216,     0.63825,      0.6361,     0.63395,     0.63179,     0.62964,     0.62749,     0.62533,     0.62288,     0.62036,     0.61785,     0.61611,     0.61443,     0.61276,     0.61108,     0.60631,     0.59548,      0.5938,     0.59213,     0.59045,     0.58878,\n",
              "            0.58654,     0.58403,     0.58152,     0.55686,      0.5504,     0.54663,     0.54244,     0.53742,     0.53021,     0.52056,     0.51889,     0.51721,     0.51554,     0.51319,     0.51017,     0.50716,     0.50414,     0.50113,     0.49865,      0.4965,     0.49434,     0.49265,     0.49265,\n",
              "            0.48983,     0.48606,     0.48358,     0.48142,     0.47927,     0.47736,     0.47586,     0.47435,     0.47284,     0.47133,     0.46805,     0.46316,     0.46127,     0.45939,      0.4575,     0.45558,     0.45343,     0.45128,     0.44912,     0.44307,     0.43929,     0.43678,     0.43427,\n",
              "            0.43134,     0.42833,     0.42599,     0.42473,     0.42348,     0.42222,     0.42096,     0.41971,     0.41123,     0.41023,     0.40922,     0.40822,     0.40721,     0.40621,      0.4052,     0.39545,     0.38235,     0.38235,     0.38235,     0.38035,     0.37783,     0.37532,     0.37062,\n",
              "            0.36696,     0.36529,     0.36361,     0.36194,     0.36016,     0.35281,      0.3498,     0.34678,     0.34407,     0.34156,     0.33905,     0.33088,     0.33061,     0.32936,      0.3281,     0.32685,     0.32559,     0.32433,     0.32244,     0.31943,     0.31641,     0.30924,     0.29802,\n",
              "            0.29356,      0.2924,     0.29124,     0.29008,     0.28892,     0.28776,     0.27729,      0.2633,     0.26115,     0.25899,      0.2482,     0.24133,      0.2363,     0.23357,     0.23142,     0.22927,      0.2273,     0.22562,     0.22395,     0.22227,      0.2206,     0.21943,     0.21828,\n",
              "            0.21712,     0.21596,      0.2148,     0.21364,      0.1977,     0.19267,     0.18941,      0.1869,     0.18439,      0.1809,     0.17713,     0.17647,     0.17556,     0.17305,     0.17054,     0.16585,     0.16061,      0.1581,     0.15559,     0.15174,     0.14603,     0.12453,     0.11951,\n",
              "            0.11448,     0.10994,     0.10778,     0.10563,     0.10348,    0.091614,    0.085896,    0.082881,     0.07099,    0.063453,    0.045656,    0.036249,    0.034993,    0.033737,    0.032481,    0.031225,    0.029969,    0.026615,    0.021965,     0.02096,    0.019955,     0.01895,    0.017945,\n",
              "            0.01694,    0.015936,    0.014931,    0.013034,    0.010881,   0.0087272,           0,           0,           0,           0,           0,           0,           0,           0,           0,           0,           0,           0,           0,           0,           0,           0,           0,\n",
              "                  0,           0,           0,           0,           0,           0,           0,           0,           0,           0,           0,           0,           0,           0,           0,           0,           0,           0,           0,           0,           0,           0,           0,\n",
              "                  0,           0,           0,           0,           0,           0,           0,           0,           0,           0,           0,           0,           0,           0,           0,           0,           0,           0,           0,           0,           0,           0,           0,\n",
              "                  0,           0,           0,           0,           0,           0,           0,           0,           0,           0,           0,           0,           0,           0,           0,           0,           0,           0,           0,           0,           0,           0,           0,\n",
              "                  0,           0,           0,           0,           0,           0,           0,           0,           0,           0,           0,           0,           0,           0,           0,           0,           0,           0,           0,           0,           0,           0,           0,\n",
              "                  0,           0,           0,           0,           0,           0,           0,           0,           0,           0,           0,           0,           0,           0,           0,           0,           0,           0,           0,           0,           0,           0,           0,\n",
              "                  0,           0,           0,           0,           0,           0,           0,           0,           0,           0,           0,           0,           0,           0,           0,           0,           0,           0,           0,           0,           0,           0,           0,\n",
              "                  0,           0,           0,           0,           0,           0,           0,           0,           0,           0,           0]]), 'Confidence', 'Recall']]\n",
              "fitness: np.float64(0.497498818562632)\n",
              "keys: ['metrics/precision(B)', 'metrics/recall(B)', 'metrics/mAP50(B)', 'metrics/mAP50-95(B)']\n",
              "maps: array([     0.4604])\n",
              "names: {0: 'gun'}\n",
              "nt_per_class: array([136])\n",
              "nt_per_image: array([105])\n",
              "results_dict: {'metrics/precision(B)': np.float64(0.880581541896489), 'metrics/recall(B)': np.float64(0.8088235294117647), 'metrics/mAP50(B)': np.float64(0.8314263034201259), 'metrics/mAP50-95(B)': np.float64(0.4603957646895771), 'fitness': np.float64(0.497498818562632)}\n",
              "save_dir: PosixPath('runs/detect/train')\n",
              "speed: {'preprocess': 0.21685932380846462, 'inference': 2.4869165809540004, 'loss': 0.15449418095137107, 'postprocess': 5.913655571429271}\n",
              "stats: {'tp': [], 'conf': [], 'pred_cls': [], 'target_cls': [], 'target_img': []}\n",
              "task: 'detect'"
            ]
          },
          "metadata": {},
          "execution_count": 5
        }
      ]
    },
    {
      "cell_type": "code",
      "source": [
        "results = model.predict(source='/content/yolo_gun_dataset/test/images', save=True, conf=0.5)\n"
      ],
      "metadata": {
        "colab": {
          "base_uri": "https://localhost:8080/"
        },
        "id": "fbFNK2SdZV5U",
        "outputId": "8daa38ce-2386-4c2f-9a59-b473c10ca37d"
      },
      "execution_count": null,
      "outputs": [
        {
          "output_type": "stream",
          "name": "stdout",
          "text": [
            "\n",
            "image 1/53 /content/yolo_gun_dataset/test/images/002e137e-ASP_111_jpeg.rf.f54cc9a0d8a4adada8a5bf20c1747aba.jpg: 640x640 (no detections), 26.1ms\n",
            "image 2/53 /content/yolo_gun_dataset/test/images/03d30d68-115_jpeg.rf.60e1928dd4672c0c3eb218bdd2b9edb3.jpg: 640x640 1 gun, 15.0ms\n",
            "image 3/53 /content/yolo_gun_dataset/test/images/08d8adec-169_jpeg.rf.4f26969f5d673d4b1ab8181160fbc2c9.jpg: 640x640 1 gun, 40.2ms\n",
            "image 4/53 /content/yolo_gun_dataset/test/images/0b7858cc-180_jpeg.rf.4bbda5b9a2e60543b1a0011429b44ef4.jpg: 640x640 2 guns, 40.9ms\n",
            "image 5/53 /content/yolo_gun_dataset/test/images/16623beb-149_jpeg.rf.4429da0b164570f7dda5dc679efdc4fa.jpg: 640x640 1 gun, 11.3ms\n",
            "image 6/53 /content/yolo_gun_dataset/test/images/1d148356-ASP_152_png.rf.a8c171eef8ab5b2ef85d725f9d686603.jpg: 640x640 1 gun, 16.3ms\n",
            "image 7/53 /content/yolo_gun_dataset/test/images/1fca3387-324_jpeg.rf.0c837de6617340e3d2f5be8719fcf349.jpg: 640x640 1 gun, 33.3ms\n",
            "image 8/53 /content/yolo_gun_dataset/test/images/2637e1e5-143_jpeg.rf.ee655e1da5d60951306f633b34f82a90.jpg: 640x640 1 gun, 20.0ms\n",
            "image 9/53 /content/yolo_gun_dataset/test/images/2c16f5f3-212_jpeg.rf.eccbc84ec0e81b7f83e7dd07c82a1e65.jpg: 640x640 1 gun, 11.7ms\n",
            "image 10/53 /content/yolo_gun_dataset/test/images/3c29b7e7-191_jpeg.rf.c25cdaa6cbc210eb35dab30b3c28d84b.jpg: 640x640 1 gun, 12.1ms\n",
            "image 11/53 /content/yolo_gun_dataset/test/images/40deacc4-240_jpeg.rf.04f9c984803dbb405f874cab72eece48.jpg: 640x640 1 gun, 18.2ms\n",
            "image 12/53 /content/yolo_gun_dataset/test/images/46778c59-333_jpeg.rf.0dba49d2aa5ed80d28c7a83627437e36.jpg: 640x640 1 gun, 29.1ms\n",
            "image 13/53 /content/yolo_gun_dataset/test/images/47667241-247_jpeg.rf.ba9e7174b16143b016ce8fe89b91b1cc.jpg: 640x640 1 gun, 40.1ms\n",
            "image 14/53 /content/yolo_gun_dataset/test/images/4e09b339-ASP_153_png.rf.bed6365ef6605c4d87d7e73747691129.jpg: 640x640 (no detections), 10.9ms\n",
            "image 15/53 /content/yolo_gun_dataset/test/images/61a23b16-ASP_182_png.rf.b17e33a37feee2708459b7467e60ba29.jpg: 640x640 1 gun, 23.0ms\n",
            "image 16/53 /content/yolo_gun_dataset/test/images/61c23608-ASP_127_jpeg.rf.0b006dd68f90d621af445df23ef80036.jpg: 640x640 1 gun, 11.8ms\n",
            "image 17/53 /content/yolo_gun_dataset/test/images/62c6ac4c-11_jpeg.rf.af5f5697dfcb566153d4eaeb24235c1f.jpg: 640x640 1 gun, 13.6ms\n",
            "image 18/53 /content/yolo_gun_dataset/test/images/63b2e05c-ASP_19_jpeg.rf.1605cd12a0f7e22371bece5d85e3a032.jpg: 640x640 1 gun, 14.4ms\n",
            "image 19/53 /content/yolo_gun_dataset/test/images/72b75152-260_jpeg.rf.04dcb141338f5a7773fddfea63e4f414.jpg: 640x640 1 gun, 11.1ms\n",
            "image 20/53 /content/yolo_gun_dataset/test/images/7348d07d-ASP_179_png.rf.b46ba4b12ec37ae348bc09bf4c19d7c2.jpg: 640x640 2 guns, 16.9ms\n",
            "image 21/53 /content/yolo_gun_dataset/test/images/78df79fc-226_jpeg.rf.b64fdc92ddde303cf8f723d4a07f8983.jpg: 640x640 2 guns, 31.5ms\n",
            "image 22/53 /content/yolo_gun_dataset/test/images/79e3ed89-266_jpeg.rf.1bb792f1c539a0e360097a68b9343a26.jpg: 640x640 1 gun, 12.1ms\n",
            "image 23/53 /content/yolo_gun_dataset/test/images/7a7ba205-ASP_135_jpg.rf.3634bbe82c25addfd0024778668a32ad.jpg: 640x640 (no detections), 13.3ms\n",
            "image 24/53 /content/yolo_gun_dataset/test/images/7ecc35f8-236_jpeg.rf.bf2d35943054f5b0c2a12da63a4ea107.jpg: 640x640 1 gun, 26.0ms\n",
            "image 25/53 /content/yolo_gun_dataset/test/images/818417f7-95_jpeg.rf.8dd0ef0b4761a985316e4ef5e2f73cef.jpg: 640x640 1 gun, 11.1ms\n",
            "image 26/53 /content/yolo_gun_dataset/test/images/85306190-1_jpeg.rf.394ecead40dfad1a075ef7b23ac6c489.jpg: 640x640 1 gun, 23.5ms\n",
            "image 27/53 /content/yolo_gun_dataset/test/images/8dd645af-319_jpeg.rf.85fe737e471b797a2c8dbc32502a0302.jpg: 640x640 2 guns, 11.0ms\n",
            "image 28/53 /content/yolo_gun_dataset/test/images/8ed42e9c-292_jpeg.rf.3d1d545fe6f9acd837f09f2263b7fe91.jpg: 640x640 1 gun, 10.8ms\n",
            "image 29/53 /content/yolo_gun_dataset/test/images/90498c6d-103_jpeg.rf.f015f94e482b69686b79f556e848c000.jpg: 640x640 1 gun, 10.8ms\n",
            "image 30/53 /content/yolo_gun_dataset/test/images/9077fb8f-47_jpeg.rf.797d649b2aec1c78280bc2f5b8e8a4ee.jpg: 640x640 2 guns, 7.4ms\n",
            "image 31/53 /content/yolo_gun_dataset/test/images/92ae3bd4-117_jpeg.rf.784792a23b4e2c829fbcd86c3aa7ffda.jpg: 640x640 1 gun, 7.4ms\n",
            "image 32/53 /content/yolo_gun_dataset/test/images/92fb3bb7-75_jpeg.rf.2fd558c82818bdc9eb212bd892162472.jpg: 640x640 1 gun, 7.4ms\n",
            "image 33/53 /content/yolo_gun_dataset/test/images/9358e6d3-257_jpeg.rf.7a780dc708d83b9b0ec3881566332bc7.jpg: 640x640 1 gun, 8.9ms\n",
            "image 34/53 /content/yolo_gun_dataset/test/images/94244073-4_jpeg.rf.8fd1e020a44afe435df44fdd4d80c232.jpg: 640x640 (no detections), 7.3ms\n",
            "image 35/53 /content/yolo_gun_dataset/test/images/9be5d12b-84_jpeg.rf.673ca405ca6343ac5e2d87243ba78091.jpg: 640x640 2 guns, 7.4ms\n",
            "image 36/53 /content/yolo_gun_dataset/test/images/9bff9a45-ASP_131_jpeg.rf.3e2f0ef933bc0def7dd04d5e5e7664a2.jpg: 640x640 (no detections), 7.3ms\n",
            "image 37/53 /content/yolo_gun_dataset/test/images/a34e6f1c-75_jpeg.rf.2150dfee0a10e17157f36d33fbcffe36.jpg: 640x640 1 gun, 7.3ms\n",
            "image 38/53 /content/yolo_gun_dataset/test/images/a71afc5f-ASP_145_png.rf.1d96998d866c511864668cb6e81943b3.jpg: 640x640 1 gun, 7.6ms\n",
            "image 39/53 /content/yolo_gun_dataset/test/images/ac045b71-169_jpeg.rf.741f38e5f4d60fde1edde547658a6cd4.jpg: 640x640 1 gun, 7.4ms\n",
            "image 40/53 /content/yolo_gun_dataset/test/images/af54a8df-115_jpeg.rf.07286cebb4372199fe0781f5692f7cee.jpg: 640x640 1 gun, 7.6ms\n",
            "image 41/53 /content/yolo_gun_dataset/test/images/b29d6971-251_jpeg.rf.581e3957af32c2d95d50e8546e445c4b.jpg: 640x640 2 guns, 9.1ms\n",
            "image 42/53 /content/yolo_gun_dataset/test/images/b32f52a3-88_jpeg.rf.3f66e56d067e14cc9926afe1885fd427.jpg: 640x640 1 gun, 7.3ms\n",
            "image 43/53 /content/yolo_gun_dataset/test/images/b6571686-89_jpeg.rf.386b6e9ab32c7a57b72b6c478f5066a5.jpg: 640x640 (no detections), 7.4ms\n",
            "image 44/53 /content/yolo_gun_dataset/test/images/b66b5f1f-88_jpeg.rf.56c9aefa64b80bb6b8be3540bf1840ea.jpg: 640x640 1 gun, 7.3ms\n",
            "image 45/53 /content/yolo_gun_dataset/test/images/bd40f392-ASP_136_jpeg.rf.a5b9571ee86a7ced0b69f249a1a032d2.jpg: 640x640 2 guns, 7.3ms\n",
            "image 46/53 /content/yolo_gun_dataset/test/images/bf08badb-149_jpeg.rf.eedf6a46ec2492fbe4c47098ae6c1e26.jpg: 640x640 1 gun, 7.4ms\n",
            "image 47/53 /content/yolo_gun_dataset/test/images/c11ad1f3-22_jpeg.rf.58e03ab79253b841cacf42010205e9e0.jpg: 640x640 1 gun, 7.3ms\n",
            "image 48/53 /content/yolo_gun_dataset/test/images/c3e99e04-ASP_18_jpeg.rf.ac65df3d9deb625fe49c83dd4cbeaa83.jpg: 640x640 3 guns, 7.4ms\n",
            "image 49/53 /content/yolo_gun_dataset/test/images/c5cb88f8-190_jpeg.rf.ba415afdbb33ec0b3061627de78dc6e6.jpg: 640x640 2 guns, 7.0ms\n",
            "image 50/53 /content/yolo_gun_dataset/test/images/ccd4e6ed-315_jpeg.rf.b2e30d6854c8017616cde6d887558bb6.jpg: 640x640 3 guns, 7.1ms\n",
            "image 51/53 /content/yolo_gun_dataset/test/images/eb96ea68-37_jpeg.rf.841aa923b61c58e7a5864f459f0e3d53.jpg: 640x640 1 gun, 6.6ms\n",
            "image 52/53 /content/yolo_gun_dataset/test/images/f6b2f4f7-ASP_122_jpeg.rf.412876e5f21f5482fb32b14688addf37.jpg: 640x640 1 gun, 6.4ms\n",
            "image 53/53 /content/yolo_gun_dataset/test/images/ffbf9b76-256_jpeg.rf.96cb256f865da651735816e211c9efaa.jpg: 640x640 1 gun, 6.6ms\n",
            "Speed: 5.0ms preprocess, 14.0ms inference, 2.4ms postprocess per image at shape (1, 3, 640, 640)\n",
            "Results saved to \u001b[1mruns/detect/train2\u001b[0m\n"
          ]
        }
      ]
    },
    {
      "cell_type": "code",
      "source": [],
      "metadata": {
        "id": "_4p1ZI_ka44b"
      },
      "execution_count": null,
      "outputs": []
    }
  ]
}